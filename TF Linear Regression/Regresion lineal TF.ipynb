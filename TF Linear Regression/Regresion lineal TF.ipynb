{
 "cells": [
  {
   "cell_type": "markdown",
   "metadata": {},
   "source": [
    "# Regresión lineal utilizando Tensorflow\n",
    "\n",
    "## Predicción de precios de casas utilizando un modelo de regresión lineal simple\n",
    "\n",
    "\n",
    "Un modelo de regresión lineal busca encontrar la ecuación lineal que minimice el error cuadrado medio.\n",
    "\n",
    "La ecuación lineal:\n",
    "\n",
    "$h(x) = wx + b$\n",
    "\n",
    "donde: \n",
    "\n",
    "* $x$ : Variable independiente\n",
    "* $w$ : Pendiente\n",
    "* $b$ : Intercepto\n",
    "\n",
    "Función de costo:\n",
    "\n",
    "$C(w,b) = \\frac{1}{2} \\sum_{i=1}^{n} (y_i − h(x_i))^2$\n",
    "\n",
    "donde:\n",
    "\n",
    "* $y_i$ : Valor real de cada dato en el dataset\n",
    "* $h(x_{i})$ : Valor predecido por el modelo\n",
    "\n",
    "Para poder optimizar este modelo es necesario encontrar los valores de $w$ y $b$ que minimizan la función de costo.\n",
    "Esto se realiza a través de un aprendizaje por medio de *gradient descent*.\n"
   ]
  },
  {
   "cell_type": "code",
   "execution_count": 1,
   "metadata": {},
   "outputs": [],
   "source": [
    "import numpy as np\n",
    "import tensorflow as tf\n",
    "import pandas as pd\n",
    "import matplotlib.pyplot as plt\n",
    "import datetime\n",
    "%load_ext tensorboard"
   ]
  },
  {
   "cell_type": "code",
   "execution_count": 2,
   "metadata": {},
   "outputs": [
    {
     "data": {
      "text/html": [
       "<div>\n",
       "<style scoped>\n",
       "    .dataframe tbody tr th:only-of-type {\n",
       "        vertical-align: middle;\n",
       "    }\n",
       "\n",
       "    .dataframe tbody tr th {\n",
       "        vertical-align: top;\n",
       "    }\n",
       "\n",
       "    .dataframe thead th {\n",
       "        text-align: right;\n",
       "    }\n",
       "</style>\n",
       "<table border=\"1\" class=\"dataframe\">\n",
       "  <thead>\n",
       "    <tr style=\"text-align: right;\">\n",
       "      <th></th>\n",
       "      <th>SalePrice</th>\n",
       "      <th>OverallQual</th>\n",
       "      <th>1stFlrSF</th>\n",
       "      <th>TotRmsAbvGrd</th>\n",
       "      <th>YearBuilt</th>\n",
       "      <th>LotFrontage</th>\n",
       "    </tr>\n",
       "  </thead>\n",
       "  <tbody>\n",
       "    <tr>\n",
       "      <th>count</th>\n",
       "      <td>1460.000000</td>\n",
       "      <td>1460.000000</td>\n",
       "      <td>1460.000000</td>\n",
       "      <td>1460.000000</td>\n",
       "      <td>1460.000000</td>\n",
       "      <td>1201.000000</td>\n",
       "    </tr>\n",
       "    <tr>\n",
       "      <th>mean</th>\n",
       "      <td>180921.195890</td>\n",
       "      <td>6.099315</td>\n",
       "      <td>1162.626712</td>\n",
       "      <td>6.517808</td>\n",
       "      <td>1971.267808</td>\n",
       "      <td>70.049958</td>\n",
       "    </tr>\n",
       "    <tr>\n",
       "      <th>std</th>\n",
       "      <td>79442.502883</td>\n",
       "      <td>1.382997</td>\n",
       "      <td>386.587738</td>\n",
       "      <td>1.625393</td>\n",
       "      <td>30.202904</td>\n",
       "      <td>24.284752</td>\n",
       "    </tr>\n",
       "    <tr>\n",
       "      <th>min</th>\n",
       "      <td>34900.000000</td>\n",
       "      <td>1.000000</td>\n",
       "      <td>334.000000</td>\n",
       "      <td>2.000000</td>\n",
       "      <td>1872.000000</td>\n",
       "      <td>21.000000</td>\n",
       "    </tr>\n",
       "    <tr>\n",
       "      <th>25%</th>\n",
       "      <td>129975.000000</td>\n",
       "      <td>5.000000</td>\n",
       "      <td>882.000000</td>\n",
       "      <td>5.000000</td>\n",
       "      <td>1954.000000</td>\n",
       "      <td>59.000000</td>\n",
       "    </tr>\n",
       "    <tr>\n",
       "      <th>50%</th>\n",
       "      <td>163000.000000</td>\n",
       "      <td>6.000000</td>\n",
       "      <td>1087.000000</td>\n",
       "      <td>6.000000</td>\n",
       "      <td>1973.000000</td>\n",
       "      <td>69.000000</td>\n",
       "    </tr>\n",
       "    <tr>\n",
       "      <th>75%</th>\n",
       "      <td>214000.000000</td>\n",
       "      <td>7.000000</td>\n",
       "      <td>1391.250000</td>\n",
       "      <td>7.000000</td>\n",
       "      <td>2000.000000</td>\n",
       "      <td>80.000000</td>\n",
       "    </tr>\n",
       "    <tr>\n",
       "      <th>max</th>\n",
       "      <td>755000.000000</td>\n",
       "      <td>10.000000</td>\n",
       "      <td>4692.000000</td>\n",
       "      <td>14.000000</td>\n",
       "      <td>2010.000000</td>\n",
       "      <td>313.000000</td>\n",
       "    </tr>\n",
       "  </tbody>\n",
       "</table>\n",
       "</div>"
      ],
      "text/plain": [
       "           SalePrice  OverallQual     1stFlrSF  TotRmsAbvGrd    YearBuilt  \\\n",
       "count    1460.000000  1460.000000  1460.000000   1460.000000  1460.000000   \n",
       "mean   180921.195890     6.099315  1162.626712      6.517808  1971.267808   \n",
       "std     79442.502883     1.382997   386.587738      1.625393    30.202904   \n",
       "min     34900.000000     1.000000   334.000000      2.000000  1872.000000   \n",
       "25%    129975.000000     5.000000   882.000000      5.000000  1954.000000   \n",
       "50%    163000.000000     6.000000  1087.000000      6.000000  1973.000000   \n",
       "75%    214000.000000     7.000000  1391.250000      7.000000  2000.000000   \n",
       "max    755000.000000    10.000000  4692.000000     14.000000  2010.000000   \n",
       "\n",
       "       LotFrontage  \n",
       "count  1201.000000  \n",
       "mean     70.049958  \n",
       "std      24.284752  \n",
       "min      21.000000  \n",
       "25%      59.000000  \n",
       "50%      69.000000  \n",
       "75%      80.000000  \n",
       "max     313.000000  "
      ]
     },
     "execution_count": 2,
     "metadata": {},
     "output_type": "execute_result"
    }
   ],
   "source": [
    "df = np.load('proyecto_training_data.npy')\n",
    "\n",
    "\n",
    "df = pd.DataFrame(data = df, columns = [\"SalePrice\", \"OverallQual\", \"1stFlrSF\", \"TotRmsAbvGrd\", \"YearBuilt\", \"LotFrontage\"])\n",
    "\n",
    "#Información básica de dataframe\n",
    "df.describe()"
   ]
  },
  {
   "cell_type": "code",
   "execution_count": 3,
   "metadata": {},
   "outputs": [
    {
     "name": "stdout",
     "output_type": "stream",
     "text": [
      "Longitud de set de entrenamiento:  1168 , Longitud de set de prueba:  292\n"
     ]
    }
   ],
   "source": [
    "# Split de datos de entrenamiento y test\n",
    "\n",
    "#Random seed para reproducibilidad de los resultados\n",
    "\n",
    "np.random.seed(42)\n",
    "\n",
    "#Shuffle de datos\n",
    "df = df.sample(frac = 1)\n",
    "\n",
    "#Training and test split\n",
    "\n",
    "train = int(0.8 * len(df))\n",
    "\n",
    "dftrain = df[:train]\n",
    "dftest = df[:-train]\n",
    "\n",
    "print('Longitud de set de entrenamiento: ',len(dftrain), ', Longitud de set de prueba: ', len(dftest))\n"
   ]
  },
  {
   "cell_type": "markdown",
   "metadata": {},
   "source": [
    "## Modelo de regresión lineal\n",
    "\n",
    "### Variable a utilizar para modelo de regresión lineal\n",
    "\n",
    "Según el análisis exploratorio de datos las variables que se utilizarán para crear los modelos de regresión lineal son:\n",
    "\n",
    "* ```OverallQual``` con un $R = 0.79$\n",
    "\n",
    "Se estará utilizando esta variable para la creación del modelo de regresión lineal.\n"
   ]
  },
  {
   "cell_type": "markdown",
   "metadata": {},
   "source": [
    "### Entrenamiento de modelo de regresión lineal mediante ***gradient descent***\n",
    "\n",
    "El modelo de regresión lineal se entrenará utilizando la siguiente función de costo. El algoritmo de gradient descent calcula la derivada parcial para cada uno de los parámetros de la función de costo. En cada iteración se realiza una modificación pequeña proporcional a esas derivadas parciales calculadas. A continuación se presenta este concepto en notación matemática.\n",
    "\n",
    "\n",
    "Función de costo:\n",
    "\n",
    "$C(w,b) = \\frac{1}{2m} \\sum_{i=1}^{m} (y_{i} − h(x_i))^2$\n",
    "\n",
    "donde:\n",
    "\n",
    "* $y_{i}$ : Valor real de cada dato en el dataset\n",
    "* $wx_{i}+b$ : Valor predecido por el modelo\n",
    "\n",
    "Derivadas parciales:\n",
    "\n",
    "$\\frac{\\partial m }{\\partial f} = \\frac{1}{n} \\sum_{i=1}^{n} (y_i − h(x_i))*m$\n",
    "\n",
    "$\\frac{\\partial b }{\\partial f} = \\frac{1}{n} \\sum_{i=1}^{n} (y_i − h(x_i))$\n",
    "\n",
    "*Gradient descent*:\n",
    "\n",
    "$w = w - \\alpha \\frac{1}{n} \\sum_{i=1}^{n} (y_i - h(x_i))*m)$\n",
    "\n",
    "$b = b - \\alpha \\frac{1}{n} \\sum_{i=1}^{n} (y_i − h(x_i))$\n",
    "\n",
    "$\\alpha$ = tasa de aprendizaje\n",
    "\n",
    "Los valores de $m$ y $b$ son actualizados iterativamente hasta minimizar el error, en otras palabras, hasta encontrar la línea de regresión que minimiza el error entre los datos predecidos y los datos reales.\n"
   ]
  },
  {
   "cell_type": "markdown",
   "metadata": {},
   "source": [
    "### Implementación de modelo de regresión lineal con Tensorflow\n",
    "\n",
    "\n"
   ]
  },
  {
   "cell_type": "code",
   "execution_count": 4,
   "metadata": {},
   "outputs": [],
   "source": [
    "#Implementacion de algoritmo por medio de programación orientada a objetos\n",
    "\n",
    "\n",
    "\n",
    "class LinearModel:\n",
    "    def __init__ (self):\n",
    "        # vector de weights, con 2 variables.\n",
    "        self.w = tf.get_variable(\"weights\", dtype = tf.float32, shape = [1,2], initializer = tf.zeros_initializer())\n",
    "        \n",
    "    # Funcion para generar prediccion de modelo\n",
    "    def __call__(self, x):\n",
    "        with tf.name_scope(\"model\"):\n",
    "            return tf.matmul(self.w,x)\n",
    "    # Funcion de actualizacion de parametros por medio de gradient descent\n",
    "    def update(self, x, y, learningrate):\n",
    "        with tf.name_scope(\"error\"):\n",
    "            error = self.error(x,y)\n",
    "            # Escalar de resumen\n",
    "            error_summary = tf.summary.scalar(\"ErrorSummary\", error)\n",
    "        gradient = tf.gradients(error, [self.w])\n",
    "        updated_w = tf.assign(self.w, self.w -learningrate * gradient[0])\n",
    "        return updated_w, error, error_summary\n",
    "    \n",
    "    # Funcion para retornar MSE\n",
    "    def error(self, x, y):\n",
    "        error = 1/2 * tf.reduce_mean(tf.math.square(y - self(x)))\n",
    "        return error"
   ]
  },
  {
   "cell_type": "code",
   "execution_count": 6,
   "metadata": {
    "scrolled": true
   },
   "outputs": [],
   "source": [
    "# Definicion de variables de dataframe a utilizar en modelos\n",
    "\n",
    "y = dftrain[\"SalePrice\"]\n",
    "x = dftrain[\"OverallQual\"]\n",
    "x = np.array([x, np.ones_like(x)], dtype = \"float64\")\n",
    "\n",
    "# Funcion para entrenamiento\n",
    "\n",
    "def training(lr, epochs, frecprint):\n",
    "    # String para definicion de experimento\n",
    "    string = './graphs/'+ datetime.datetime.now().strftime(\"%Y%m%d-%H%M%S\") +\"_lr=\"+str(lr)+ \"_epochs=\"+str(epochs)\n",
    "\n",
    "    g = tf.Graph()\n",
    "    with g.as_default():\n",
    "        # Inicialización de objeto de clase LinearModel\n",
    "        modelo = LinearModel()\n",
    "        # Definicion de placeholders para input de data a grafo\n",
    "        tensor_x = tf.placeholder(tf.float32, [2,len(dftrain[\"OverallQual\"])], \"tensor_x\")\n",
    "        tensor_y = tf.placeholder(tf.float32, [len(dftrain[\"SalePrice\"])], \"tensor_y\")\n",
    "        # Utilizacion de método update para hacer el entrenamiento\n",
    "        update_parameters = modelo.update(tensor_x, tensor_y, lr)\n",
    "        \n",
    "        # Writer para utilizacion de tensorboard\n",
    "        writer = tf.summary.FileWriter(string, g)\n",
    "        \n",
    "        with tf.train.MonitoredSession() as session:\n",
    "            feed_dict = {tensor_x:x, tensor_y:y}\n",
    "            for i in range(epochs+1):\n",
    "                \n",
    "                # Entrenamiento\n",
    "                training = session.run(update_parameters, feed_dict = feed_dict)\n",
    "            \n",
    "                if (i)%frecprint == 0:\n",
    "                    # Cálculo de pesos para print por cada frecprint epocas\n",
    "                    weights = session.run(modelo.w, feed_dict = feed_dict)\n",
    "                    # Agregar datos a writer para poder visualizarlos en tensorboard\n",
    "                    writer.add_summary(training[2], i)\n",
    "                    print(\"Epoch: \", i, \"Weights: \", weights, \"Cost: \", training[1])\n",
    "                    print(\"-------------------------------------------------------------------------\")\n",
    "                    \n",
    "            writer.close()"
   ]
  },
  {
   "cell_type": "markdown",
   "metadata": {},
   "source": [
    "#### Representación de gráfica de modelo\n",
    "\n",
    "A continuación se muestra la representación gráfica del modelo definido como un grafo. Dentro de cada uno de los namespaces utilizados se encuentran las operaciones realiadas para el cálculo del error, gradientes y pesos, respectivamente.\n",
    "\n",
    "\n",
    "<img src=\"graph.png\">"
   ]
  },
  {
   "cell_type": "markdown",
   "metadata": {},
   "source": [
    "### Experimentos para determinar tasa de aprendizaje y épocas de entrenamiento óptimas\n",
    "\n",
    "Habiendo desarrollado la función para el cálculo de un modelo de regresión lineal, procedemos a realizar los experimentos para determinar cual es la tasa de aprendizaje y cantidad de épocas óptimas para el entrenamiento de este modelo de regresión lineal."
   ]
  },
  {
   "cell_type": "markdown",
   "metadata": {},
   "source": [
    "#### Hipótesis\n",
    "\n",
    "Suponiendo que tenemos un modelo de regresión lineal, con un único mínimo global en su función de costo, la rapidez con el que el modelo alcanza el error mínimo debería de depender principalmente del learning rate. Esto a su vez también condiciona el número de épocas necesarias de entrenamiento antes de llegar a un mínimo.\n",
    "\n",
    "(En este caso no se está considerando el caso o la posibilidad de overfitting, pero dado que tenemos mucho más datos que parámetros a optimizar, la probabilidad de overfitting es baja)\n",
    "\n",
    "Consideremos entonces que un learning rate de entre 0.1 y 0.01 es el adecuado por realizar, y la cantidad de iteraciones puede depender de este learning rate inicial.\n"
   ]
  },
  {
   "cell_type": "code",
   "execution_count": 8,
   "metadata": {
    "scrolled": true
   },
   "outputs": [
    {
     "name": "stdout",
     "output_type": "stream",
     "text": [
      "WARNING:tensorflow:From C:\\ProgramData\\Anaconda3\\lib\\site-packages\\tensorflow\\python\\ops\\array_ops.py:1354: add_dispatch_support.<locals>.wrapper (from tensorflow.python.ops.array_ops) is deprecated and will be removed in a future version.\n",
      "Instructions for updating:\n",
      "Use tf.where in 2.0, which has the same broadcast rule as np.where\n",
      "INFO:tensorflow:Graph was finalized.\n",
      "INFO:tensorflow:Running local_init_op.\n",
      "INFO:tensorflow:Done running local_init_op.\n",
      "Epoch:  0 Weights:  [[11938.992   1810.8187]] Cost:  19683643000.0\n",
      "-------------------------------------------------------------------------\n",
      "Epoch:  1000 Weights:  [[ 36015.01 -35339.1 ]] Cost:  1320914200.0\n",
      "-------------------------------------------------------------------------\n",
      "Epoch:  2000 Weights:  [[ 39826.996 -59773.3  ]] Cost:  1258487400.0\n",
      "-------------------------------------------------------------------------\n",
      "Epoch:  3000 Weights:  [[ 42159.406 -74723.664]] Cost:  1235116500.0\n",
      "-------------------------------------------------------------------------\n",
      "Epoch:  4000 Weights:  [[ 43586.51 -83871.2 ]] Cost:  1226366600.0\n",
      "-------------------------------------------------------------------------\n",
      "Epoch:  5000 Weights:  [[ 44459.7  -89468.19]] Cost:  1223091100.0\n",
      "-------------------------------------------------------------------------\n",
      "Epoch:  6000 Weights:  [[ 44993.97 -92892.79]] Cost:  1221864800.0\n",
      "-------------------------------------------------------------------------\n",
      "Epoch:  7000 Weights:  [[ 45320.88 -94988.19]] Cost:  1221405800.0\n",
      "-------------------------------------------------------------------------\n",
      "Epoch:  8000 Weights:  [[ 45520.9  -96270.27]] Cost:  1221233900.0\n",
      "-------------------------------------------------------------------------\n",
      "Epoch:  9000 Weights:  [[ 45643.277 -97054.72 ]] Cost:  1221169400.0\n",
      "-------------------------------------------------------------------------\n",
      "Epoch:  10000 Weights:  [[ 45718.164 -97534.71 ]] Cost:  1221145500.0\n",
      "-------------------------------------------------------------------------\n",
      "Epoch:  11000 Weights:  [[ 45763.977 -97828.38 ]] Cost:  1221136500.0\n",
      "-------------------------------------------------------------------------\n",
      "Epoch:  12000 Weights:  [[ 45792.008 -98008.06 ]] Cost:  1221133200.0\n",
      "-------------------------------------------------------------------------\n",
      "Epoch:  13000 Weights:  [[ 45809.152 -98117.96 ]] Cost:  1221132200.0\n",
      "-------------------------------------------------------------------------\n",
      "Epoch:  14000 Weights:  [[ 45819.656 -98185.305]] Cost:  1221131400.0\n",
      "-------------------------------------------------------------------------\n",
      "Epoch:  15000 Weights:  [[ 45826.047 -98226.24 ]] Cost:  1221131400.0\n",
      "-------------------------------------------------------------------------\n",
      "Epoch:  16000 Weights:  [[ 45830.062 -98251.97 ]] Cost:  1221131100.0\n",
      "-------------------------------------------------------------------------\n",
      "Epoch:  17000 Weights:  [[ 45832.496 -98267.59 ]] Cost:  1221130900.0\n",
      "-------------------------------------------------------------------------\n",
      "Epoch:  18000 Weights:  [[ 45833.73 -98275.5 ]] Cost:  1221131100.0\n",
      "-------------------------------------------------------------------------\n",
      "Epoch:  19000 Weights:  [[ 45834.934 -98283.23 ]] Cost:  1221131000.0\n",
      "-------------------------------------------------------------------------\n",
      "Epoch:  20000 Weights:  [[ 45834.934 -98283.23 ]] Cost:  1221131000.0\n",
      "-------------------------------------------------------------------------\n"
     ]
    }
   ],
   "source": [
    "#Experimento 1\n",
    "\n",
    "training(0.01, 20000,1000)"
   ]
  },
  {
   "cell_type": "code",
   "execution_count": 9,
   "metadata": {},
   "outputs": [
    {
     "name": "stdout",
     "output_type": "stream",
     "text": [
      "INFO:tensorflow:Graph was finalized.\n",
      "INFO:tensorflow:Running local_init_op.\n",
      "INFO:tensorflow:Done running local_init_op.\n",
      "Epoch:  0 Weights:  [[23877.984   3621.6375]] Cost:  19683643000.0\n",
      "-------------------------------------------------------------------------\n",
      "Epoch:  1000 Weights:  [[ 39831.383 -59801.414]] Cost:  1258469600.0\n",
      "-------------------------------------------------------------------------\n",
      "Epoch:  2000 Weights:  [[ 43588.69 -83885.15]] Cost:  1226362000.0\n",
      "-------------------------------------------------------------------------\n",
      "Epoch:  3000 Weights:  [[ 44995.008 -92899.42 ]] Cost:  1221863700.0\n",
      "-------------------------------------------------------------------------\n",
      "Epoch:  4000 Weights:  [[ 45521.363 -96273.27 ]] Cost:  1221233500.0\n",
      "-------------------------------------------------------------------------\n",
      "Epoch:  5000 Weights:  [[ 45718.375 -97536.08 ]] Cost:  1221145900.0\n",
      "-------------------------------------------------------------------------\n",
      "Epoch:  6000 Weights:  [[ 45792.113 -98008.76 ]] Cost:  1221133200.0\n",
      "-------------------------------------------------------------------------\n",
      "Epoch:  7000 Weights:  [[ 45819.715 -98185.66 ]] Cost:  1221131100.0\n",
      "-------------------------------------------------------------------------\n",
      "Epoch:  8000 Weights:  [[ 45830.03 -98251.78]] Cost:  1221131100.0\n",
      "-------------------------------------------------------------------------\n"
     ]
    }
   ],
   "source": [
    "#Experimento 2\n",
    "\n",
    "training(0.02, 8000,1000)"
   ]
  },
  {
   "cell_type": "code",
   "execution_count": 10,
   "metadata": {},
   "outputs": [
    {
     "name": "stdout",
     "output_type": "stream",
     "text": [
      "INFO:tensorflow:Graph was finalized.\n",
      "INFO:tensorflow:Running local_init_op.\n",
      "INFO:tensorflow:Done running local_init_op.\n",
      "Epoch:  0 Weights:  [[119389.93   18108.188]] Cost:  19683643000.0\n",
      "-------------------------------------------------------------------------\n",
      "Epoch:  100 Weights:  [[nan nan]] Cost:  nan\n",
      "-------------------------------------------------------------------------\n",
      "Epoch:  200 Weights:  [[nan nan]] Cost:  nan\n",
      "-------------------------------------------------------------------------\n",
      "Epoch:  300 Weights:  [[nan nan]] Cost:  nan\n",
      "-------------------------------------------------------------------------\n",
      "Epoch:  400 Weights:  [[nan nan]] Cost:  nan\n",
      "-------------------------------------------------------------------------\n",
      "Epoch:  500 Weights:  [[nan nan]] Cost:  nan\n",
      "-------------------------------------------------------------------------\n",
      "Epoch:  600 Weights:  [[nan nan]] Cost:  nan\n",
      "-------------------------------------------------------------------------\n",
      "Epoch:  700 Weights:  [[nan nan]] Cost:  nan\n",
      "-------------------------------------------------------------------------\n",
      "Epoch:  800 Weights:  [[nan nan]] Cost:  nan\n",
      "-------------------------------------------------------------------------\n",
      "Epoch:  900 Weights:  [[nan nan]] Cost:  nan\n",
      "-------------------------------------------------------------------------\n",
      "Epoch:  1000 Weights:  [[nan nan]] Cost:  nan\n",
      "-------------------------------------------------------------------------\n"
     ]
    }
   ],
   "source": [
    "#Experimento 3\n",
    "\n",
    "training(0.1, 1000,100)"
   ]
  },
  {
   "cell_type": "code",
   "execution_count": 11,
   "metadata": {
    "scrolled": true
   },
   "outputs": [
    {
     "name": "stdout",
     "output_type": "stream",
     "text": [
      "INFO:tensorflow:Graph was finalized.\n",
      "INFO:tensorflow:Running local_init_op.\n",
      "INFO:tensorflow:Done running local_init_op.\n",
      "Epoch:  0 Weights:  [[119389.93   18108.188]] Cost:  19683643000.0\n",
      "-------------------------------------------------------------------------\n",
      "Epoch:  100 Weights:  [[nan nan]] Cost:  nan\n",
      "-------------------------------------------------------------------------\n",
      "Epoch:  200 Weights:  [[nan nan]] Cost:  nan\n",
      "-------------------------------------------------------------------------\n",
      "Epoch:  300 Weights:  [[nan nan]] Cost:  nan\n",
      "-------------------------------------------------------------------------\n",
      "Epoch:  400 Weights:  [[nan nan]] Cost:  nan\n",
      "-------------------------------------------------------------------------\n",
      "Epoch:  500 Weights:  [[nan nan]] Cost:  nan\n",
      "-------------------------------------------------------------------------\n",
      "Epoch:  600 Weights:  [[nan nan]] Cost:  nan\n",
      "-------------------------------------------------------------------------\n",
      "Epoch:  700 Weights:  [[nan nan]] Cost:  nan\n",
      "-------------------------------------------------------------------------\n",
      "Epoch:  800 Weights:  [[nan nan]] Cost:  nan\n",
      "-------------------------------------------------------------------------\n",
      "Epoch:  900 Weights:  [[nan nan]] Cost:  nan\n",
      "-------------------------------------------------------------------------\n",
      "Epoch:  1000 Weights:  [[nan nan]] Cost:  nan\n",
      "-------------------------------------------------------------------------\n",
      "Epoch:  1100 Weights:  [[nan nan]] Cost:  nan\n",
      "-------------------------------------------------------------------------\n",
      "Epoch:  1200 Weights:  [[nan nan]] Cost:  nan\n",
      "-------------------------------------------------------------------------\n",
      "Epoch:  1300 Weights:  [[nan nan]] Cost:  nan\n",
      "-------------------------------------------------------------------------\n",
      "Epoch:  1400 Weights:  [[nan nan]] Cost:  nan\n",
      "-------------------------------------------------------------------------\n",
      "Epoch:  1500 Weights:  [[nan nan]] Cost:  nan\n",
      "-------------------------------------------------------------------------\n",
      "Epoch:  1600 Weights:  [[nan nan]] Cost:  nan\n",
      "-------------------------------------------------------------------------\n",
      "Epoch:  1700 Weights:  [[nan nan]] Cost:  nan\n",
      "-------------------------------------------------------------------------\n",
      "Epoch:  1800 Weights:  [[nan nan]] Cost:  nan\n",
      "-------------------------------------------------------------------------\n",
      "Epoch:  1900 Weights:  [[nan nan]] Cost:  nan\n",
      "-------------------------------------------------------------------------\n",
      "Epoch:  2000 Weights:  [[nan nan]] Cost:  nan\n",
      "-------------------------------------------------------------------------\n"
     ]
    }
   ],
   "source": [
    "#Experimento 4\n",
    "\n",
    "training(0.1, 2000,100)"
   ]
  },
  {
   "cell_type": "code",
   "execution_count": 14,
   "metadata": {
    "scrolled": true
   },
   "outputs": [
    {
     "name": "stdout",
     "output_type": "stream",
     "text": [
      "INFO:tensorflow:Graph was finalized.\n",
      "INFO:tensorflow:Running local_init_op.\n",
      "INFO:tensorflow:Done running local_init_op.\n",
      "Epoch:  0 Weights:  [[11938.992   1810.8187]] Cost:  19683643000.0\n",
      "-------------------------------------------------------------------------\n",
      "Epoch:  100 Weights:  [[30554.354   -337.1659]] Cost:  1462722300.0\n",
      "-------------------------------------------------------------------------\n",
      "Epoch:  200 Weights:  [[31286.93  -5032.858]] Cost:  1440115000.0\n",
      "-------------------------------------------------------------------------\n",
      "Epoch:  300 Weights:  [[31984.387 -9503.447]] Cost:  1419622400.0\n",
      "-------------------------------------------------------------------------\n",
      "Epoch:  400 Weights:  [[ 32648.412 -13759.732]] Cost:  1401048700.0\n",
      "-------------------------------------------------------------------------\n",
      "Epoch:  500 Weights:  [[ 33280.6   -17811.986]] Cost:  1384212200.0\n",
      "-------------------------------------------------------------------------\n",
      "Epoch:  600 Weights:  [[ 33882.492 -21669.975]] Cost:  1368951900.0\n",
      "-------------------------------------------------------------------------\n",
      "Epoch:  700 Weights:  [[ 34455.523 -25343.027]] Cost:  1355119100.0\n",
      "-------------------------------------------------------------------------\n",
      "Epoch:  800 Weights:  [[ 35001.086 -28839.998]] Cost:  1342580900.0\n",
      "-------------------------------------------------------------------------\n",
      "Epoch:  900 Weights:  [[ 35520.496 -32169.336]] Cost:  1331215900.0\n",
      "-------------------------------------------------------------------------\n",
      "Epoch:  1000 Weights:  [[ 36015.01 -35339.1 ]] Cost:  1320914200.0\n",
      "-------------------------------------------------------------------------\n"
     ]
    }
   ],
   "source": [
    "#Experimento 5\n",
    "\n",
    "training(0.01, 1000,100)"
   ]
  },
  {
   "cell_type": "code",
   "execution_count": 13,
   "metadata": {},
   "outputs": [
    {
     "name": "stdout",
     "output_type": "stream",
     "text": [
      "INFO:tensorflow:Graph was finalized.\n",
      "INFO:tensorflow:Running local_init_op.\n",
      "INFO:tensorflow:Done running local_init_op.\n",
      "Epoch:  0 Weights:  [[59694.965  9054.094]] Cost:  19683643000.0\n",
      "-------------------------------------------------------------------------\n",
      "Epoch:  1000 Weights:  [[942727.94   50631.484]] Cost:  16447350000000.0\n",
      "-------------------------------------------------------------------------\n",
      "Epoch:  2000 Weights:  [[27050622.   4115502.5]] Cost:  1.4864234e+16\n",
      "-------------------------------------------------------------------------\n",
      "Epoch:  3000 Weights:  [[8.1190874e+08 1.2656056e+08]] Cost:  1.3434531e+19\n",
      "-------------------------------------------------------------------------\n",
      "Epoch:  4000 Weights:  [[2.4407663e+10 3.8077363e+09]] Cost:  1.2142514e+22\n",
      "-------------------------------------------------------------------------\n",
      "Epoch:  5000 Weights:  [[7.3377972e+11 1.1447791e+11]] Cost:  1.0974616e+25\n",
      "-------------------------------------------------------------------------\n",
      "Epoch:  6000 Weights:  [[2.2059975e+13 3.4416147e+12]] Cost:  9.918991e+27\n",
      "-------------------------------------------------------------------------\n",
      "Epoch:  7000 Weights:  [[6.6319818e+14 1.0346549e+14]] Cost:  8.964868e+30\n",
      "-------------------------------------------------------------------------\n",
      "Epoch:  8000 Weights:  [[1.9938147e+16 3.1105519e+15]] Cost:  8.1026394e+33\n",
      "-------------------------------------------------------------------------\n",
      "Epoch:  9000 Weights:  [[5.994213e+17 9.351637e+16]] Cost:  inf\n",
      "-------------------------------------------------------------------------\n",
      "Epoch:  10000 Weights:  [[1.8020702e+19 2.8114086e+18]] Cost:  inf\n",
      "-------------------------------------------------------------------------\n"
     ]
    }
   ],
   "source": [
    "#Experimento 6\n",
    "\n",
    "training(0.05, 10000,1000)"
   ]
  },
  {
   "cell_type": "code",
   "execution_count": 15,
   "metadata": {},
   "outputs": [
    {
     "name": "stdout",
     "output_type": "stream",
     "text": [
      "INFO:tensorflow:Graph was finalized.\n",
      "INFO:tensorflow:Running local_init_op.\n",
      "INFO:tensorflow:Done running local_init_op.\n",
      "Epoch:  0 Weights:  [[23877.984   3621.6375]] Cost:  19683643000.0\n",
      "-------------------------------------------------------------------------\n",
      "Epoch:  1000 Weights:  [[ 39831.383 -59801.414]] Cost:  1258469600.0\n",
      "-------------------------------------------------------------------------\n",
      "Epoch:  2000 Weights:  [[ 43588.69 -83885.15]] Cost:  1226362000.0\n",
      "-------------------------------------------------------------------------\n",
      "Epoch:  3000 Weights:  [[ 44995.008 -92899.42 ]] Cost:  1221863700.0\n",
      "-------------------------------------------------------------------------\n",
      "Epoch:  4000 Weights:  [[ 45521.363 -96273.27 ]] Cost:  1221233500.0\n",
      "-------------------------------------------------------------------------\n",
      "Epoch:  5000 Weights:  [[ 45718.375 -97536.08 ]] Cost:  1221145900.0\n",
      "-------------------------------------------------------------------------\n"
     ]
    }
   ],
   "source": [
    "#Experimento 7\n",
    "\n",
    "training(0.02, 5000,1000)"
   ]
  },
  {
   "cell_type": "code",
   "execution_count": 16,
   "metadata": {},
   "outputs": [
    {
     "name": "stdout",
     "output_type": "stream",
     "text": [
      "INFO:tensorflow:Graph was finalized.\n",
      "INFO:tensorflow:Running local_init_op.\n",
      "INFO:tensorflow:Done running local_init_op.\n",
      "Epoch:  0 Weights:  [[35816.977  5432.456]] Cost:  19683643000.0\n",
      "-------------------------------------------------------------------------\n",
      "Epoch:  1000 Weights:  [[ 42165.664 -74763.79 ]] Cost:  1235096400.0\n",
      "-------------------------------------------------------------------------\n",
      "Epoch:  2000 Weights:  [[ 44996.035 -92906.01 ]] Cost:  1221862900.0\n",
      "-------------------------------------------------------------------------\n",
      "Epoch:  3000 Weights:  [[ 45643.906 -97058.76 ]] Cost:  1221169500.0\n",
      "-------------------------------------------------------------------------\n",
      "Epoch:  4000 Weights:  [[ 45792.203 -98009.305]] Cost:  1221133200.0\n",
      "-------------------------------------------------------------------------\n"
     ]
    }
   ],
   "source": [
    "#Experimento 8\n",
    "\n",
    "training(0.03, 4000,1000)"
   ]
  },
  {
   "cell_type": "code",
   "execution_count": 17,
   "metadata": {},
   "outputs": [
    {
     "name": "stdout",
     "output_type": "stream",
     "text": [
      "INFO:tensorflow:Graph was finalized.\n",
      "INFO:tensorflow:Running local_init_op.\n",
      "INFO:tensorflow:Done running local_init_op.\n",
      "Epoch:  0 Weights:  [[35816.977  5432.456]] Cost:  19683643000.0\n",
      "-------------------------------------------------------------------------\n",
      "Epoch:  1000 Weights:  [[ 42165.664 -74763.79 ]] Cost:  1235096400.0\n",
      "-------------------------------------------------------------------------\n",
      "Epoch:  2000 Weights:  [[ 44996.035 -92906.01 ]] Cost:  1221862900.0\n",
      "-------------------------------------------------------------------------\n",
      "Epoch:  3000 Weights:  [[ 45643.906 -97058.76 ]] Cost:  1221169500.0\n",
      "-------------------------------------------------------------------------\n",
      "Epoch:  4000 Weights:  [[ 45792.203 -98009.305]] Cost:  1221133200.0\n",
      "-------------------------------------------------------------------------\n",
      "Epoch:  5000 Weights:  [[ 45826.15 -98226.91]] Cost:  1221131100.0\n",
      "-------------------------------------------------------------------------\n"
     ]
    }
   ],
   "source": [
    "#Experimento 9\n",
    "\n",
    "training(0.03, 5000,1000)"
   ]
  },
  {
   "cell_type": "code",
   "execution_count": 18,
   "metadata": {},
   "outputs": [
    {
     "name": "stdout",
     "output_type": "stream",
     "text": [
      "INFO:tensorflow:Graph was finalized.\n",
      "INFO:tensorflow:Running local_init_op.\n",
      "INFO:tensorflow:Done running local_init_op.\n",
      "Epoch:  0 Weights:  [[47755.97   7243.275]] Cost:  19683643000.0\n",
      "-------------------------------------------------------------------------\n",
      "Epoch:  500 Weights:  [[ 39840.19 -59857.88]] Cost:  1258433400.0\n",
      "-------------------------------------------------------------------------\n",
      "Epoch:  1000 Weights:  [[ 43593.082 -83913.3  ]] Cost:  1226351900.0\n",
      "-------------------------------------------------------------------------\n",
      "Epoch:  1500 Weights:  [[ 44997.05 -92912.51]] Cost:  1221861900.0\n",
      "-------------------------------------------------------------------------\n",
      "Epoch:  2000 Weights:  [[ 45522.29  -96279.195]] Cost:  1221233400.0\n",
      "-------------------------------------------------------------------------\n",
      "Epoch:  2500 Weights:  [[ 45718.773 -97538.64 ]] Cost:  1221145500.0\n",
      "-------------------------------------------------------------------------\n",
      "Epoch:  3000 Weights:  [[ 45792.28 -98009.82]] Cost:  1221133200.0\n",
      "-------------------------------------------------------------------------\n"
     ]
    }
   ],
   "source": [
    "#Experimento 10\n",
    "\n",
    "training(0.04, 3000,500)"
   ]
  },
  {
   "cell_type": "code",
   "execution_count": 19,
   "metadata": {},
   "outputs": [
    {
     "name": "stdout",
     "output_type": "stream",
     "text": [
      "INFO:tensorflow:Graph was finalized.\n",
      "INFO:tensorflow:Running local_init_op.\n",
      "INFO:tensorflow:Done running local_init_op.\n",
      "Epoch:  0 Weights:  [[47755.97   7243.275]] Cost:  19683643000.0\n",
      "-------------------------------------------------------------------------\n",
      "Epoch:  500 Weights:  [[ 39840.19 -59857.88]] Cost:  1258433400.0\n",
      "-------------------------------------------------------------------------\n",
      "Epoch:  1000 Weights:  [[ 43593.082 -83913.3  ]] Cost:  1226351900.0\n",
      "-------------------------------------------------------------------------\n",
      "Epoch:  1500 Weights:  [[ 44997.05 -92912.51]] Cost:  1221861900.0\n",
      "-------------------------------------------------------------------------\n",
      "Epoch:  2000 Weights:  [[ 45522.29  -96279.195]] Cost:  1221233400.0\n",
      "-------------------------------------------------------------------------\n",
      "Epoch:  2500 Weights:  [[ 45718.773 -97538.64 ]] Cost:  1221145500.0\n",
      "-------------------------------------------------------------------------\n",
      "Epoch:  3000 Weights:  [[ 45792.28 -98009.82]] Cost:  1221133200.0\n",
      "-------------------------------------------------------------------------\n",
      "Epoch:  3500 Weights:  [[ 45819.785 -98186.13 ]] Cost:  1221131400.0\n",
      "-------------------------------------------------------------------------\n",
      "Epoch:  4000 Weights:  [[ 45830.08 -98252.08]] Cost:  1221131400.0\n",
      "-------------------------------------------------------------------------\n"
     ]
    }
   ],
   "source": [
    "#Experimento 11\n",
    "\n",
    "training(0.04, 4000,500)"
   ]
  },
  {
   "cell_type": "code",
   "execution_count": 20,
   "metadata": {},
   "outputs": [
    {
     "name": "stdout",
     "output_type": "stream",
     "text": [
      "INFO:tensorflow:Graph was finalized.\n",
      "INFO:tensorflow:Running local_init_op.\n",
      "INFO:tensorflow:Done running local_init_op.\n",
      "Epoch:  0 Weights:  [[47755.97   7243.275]] Cost:  19683643000.0\n",
      "-------------------------------------------------------------------------\n",
      "Epoch:  500 Weights:  [[ 39840.19 -59857.88]] Cost:  1258433400.0\n",
      "-------------------------------------------------------------------------\n",
      "Epoch:  1000 Weights:  [[ 43593.082 -83913.3  ]] Cost:  1226351900.0\n",
      "-------------------------------------------------------------------------\n",
      "Epoch:  1500 Weights:  [[ 44997.05 -92912.51]] Cost:  1221861900.0\n",
      "-------------------------------------------------------------------------\n",
      "Epoch:  2000 Weights:  [[ 45522.29  -96279.195]] Cost:  1221233400.0\n",
      "-------------------------------------------------------------------------\n",
      "Epoch:  2500 Weights:  [[ 45718.773 -97538.64 ]] Cost:  1221145500.0\n",
      "-------------------------------------------------------------------------\n",
      "Epoch:  3000 Weights:  [[ 45792.28 -98009.82]] Cost:  1221133200.0\n",
      "-------------------------------------------------------------------------\n",
      "Epoch:  3500 Weights:  [[ 45819.785 -98186.13 ]] Cost:  1221131400.0\n",
      "-------------------------------------------------------------------------\n",
      "Epoch:  4000 Weights:  [[ 45830.08 -98252.08]] Cost:  1221131400.0\n",
      "-------------------------------------------------------------------------\n",
      "Epoch:  4500 Weights:  [[ 45833.926 -98276.766]] Cost:  1221131400.0\n",
      "-------------------------------------------------------------------------\n"
     ]
    }
   ],
   "source": [
    "#Experimento 12\n",
    "\n",
    "training(0.04, 4500,500)"
   ]
  },
  {
   "cell_type": "code",
   "execution_count": 7,
   "metadata": {},
   "outputs": [
    {
     "data": {
      "text/plain": [
       "ERROR: Timed out waiting for TensorBoard to start. It may still be running as pid 10992."
      ]
     },
     "metadata": {},
     "output_type": "display_data"
    }
   ],
   "source": [
    "%tensorboard --logdir ./graphs --port 6006"
   ]
  },
  {
   "cell_type": "code",
   "execution_count": 22,
   "metadata": {
    "scrolled": false
   },
   "outputs": [
    {
     "data": {
      "text/plain": [
       "Reusing TensorBoard on port 6006 (pid 9408), started 11:34:24 ago. (Use '!kill 9408' to kill it.)"
      ]
     },
     "metadata": {},
     "output_type": "display_data"
    },
    {
     "data": {
      "text/html": [
       "\n",
       "        <iframe\n",
       "            width=\"100%\"\n",
       "            height=\"800\"\n",
       "            src=\"http://localhost:6006\"\n",
       "            frameborder=\"0\"\n",
       "            allowfullscreen\n",
       "        ></iframe>\n",
       "        "
      ],
      "text/plain": [
       "<IPython.lib.display.IFrame at 0x1de01b59160>"
      ]
     },
     "metadata": {},
     "output_type": "display_data"
    }
   ],
   "source": [
    "%tensorboard --logdir ./graphs --port 6006"
   ]
  },
  {
   "cell_type": "markdown",
   "metadata": {},
   "source": [
    "### Resultados\n",
    "\n",
    "\n",
    "Tras la realización de los experimentos se observaron los siguientes resultados:\n",
    "\n",
    "* Un *learning rate* de 0.04 es cercano al máximo permitido antes de que el algoritmo de gradient descent empiece a diverger.\n",
    "* Un *learning rate* mayor de 0.05 causa divergencia o resultados NaN.\n",
    "* Tomando en cuenta que 0.04 es un *learning rate* que permite tomar pasos un poco más grandes, son necesarias menos iteraciones de la misma para llegar al mínimo de la función de costo."
   ]
  },
  {
   "cell_type": "markdown",
   "metadata": {},
   "source": [
    "### Conclusión\n",
    "\n",
    "* Es posible hacer un entrenamiento por medio de *gradient descent* para un modelo de regresión lineal por medio de un paradigma de programación por grafos utilizando Tensorflow.\n",
    "* El *learning rate* 0.04 con 4000-4500 épocas de entrenamiento fue lo necesario para optimizar el modelo en un costo mínimo, sin embargo, podría tomarse en cuenta el caso de entrenar por menos iteraciones, ya que cada subsecuente época de entrenamiento luego de las primeras 500-1000 causa una reducción pequeña del error."
   ]
  },
  {
   "cell_type": "markdown",
   "metadata": {},
   "source": [
    "<img src=\"relevantexperiments.png\">"
   ]
  }
 ],
 "metadata": {
  "kernelspec": {
   "display_name": "Python 3",
   "language": "python",
   "name": "python3"
  },
  "language_info": {
   "codemirror_mode": {
    "name": "ipython",
    "version": 3
   },
   "file_extension": ".py",
   "mimetype": "text/x-python",
   "name": "python",
   "nbconvert_exporter": "python",
   "pygments_lexer": "ipython3",
   "version": "3.7.3"
  }
 },
 "nbformat": 4,
 "nbformat_minor": 2
}
