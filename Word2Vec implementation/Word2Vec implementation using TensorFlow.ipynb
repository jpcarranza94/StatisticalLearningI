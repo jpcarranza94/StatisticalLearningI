{
 "cells": [
  {
   "cell_type": "markdown",
   "metadata": {},
   "source": [
    "# Word2Vec implementation from scratch using NumPy and TensorFlow"
   ]
  },
  {
   "cell_type": "code",
   "execution_count": 2,
   "metadata": {},
   "outputs": [],
   "source": [
    "import re\n",
    "import nltk\n",
    "import urllib\n",
    "import numpy as np\n"
   ]
  },
  {
   "cell_type": "code",
   "execution_count": 3,
   "metadata": {},
   "outputs": [
    {
     "data": {
      "text/plain": [
       "59737"
      ]
     },
     "execution_count": 3,
     "metadata": {},
     "output_type": "execute_result"
    }
   ],
   "source": [
    "response = urllib.request.urlopen('http://www.gutenberg.org/files/1342/1342-0.txt') \n",
    "\n",
    "corpus = response.read().decode('utf8')\n",
    "\n",
    "stopwords =set(nltk.corpus.stopwords.words('english'))\n",
    "\n",
    "wordtokens = nltk.tokenize.word_tokenize(corpus)\n",
    "\n",
    "pptxt = []\n",
    "\n",
    "for w in wordtokens:\n",
    "    if w not in stopwords:\n",
    "        pptxt.append(w)\n",
    "        \n",
    "pptxt = [word for word in pptxt if word.isalpha()]\n",
    "\n",
    "len(pptxt)"
   ]
  },
  {
   "cell_type": "code",
   "execution_count": 4,
   "metadata": {},
   "outputs": [],
   "source": [
    "#Mapping de palabras a IDs \n",
    "\n",
    "def word_mapping(tokens):\n",
    "    word2id = dict()\n",
    "    id2word = dict()\n",
    "    \n",
    "    for i, token in enumerate(pptxt):\n",
    "        word2id[token] = i\n",
    "        id2word[i] = token\n",
    "        \n",
    "    return word2id, id2word\n",
    "\n",
    "#Generar data para word2vec\n",
    "\n",
    "def generate_data(tokens, word2id, window_size):\n",
    "    wordcount = len(tokens)\n",
    "    X, Y = [],[]\n",
    "    \n",
    "    for i in range(wordcount):\n",
    "        \n",
    "        indexword = list(range(max(0, i - window_size), i)) + \\\n",
    "                    list(range(i + 1, min(wordcount, i + window_size + 1)))\n",
    "        \n",
    "        for j in indexword:\n",
    "            X.append(word2id[tokens[i]])\n",
    "            Y.append(word2id[tokens[j]])\n",
    "            \n",
    "    X = np.array(X)\n",
    "    X = np.expand_dims(X, axis = 0)\n",
    "    Y = np.array(Y)\n",
    "    Y = np.expand_dims(Y, axis = 0)\n",
    "        \n",
    "    return X, Y\n",
    "    "
   ]
  },
  {
   "cell_type": "code",
   "execution_count": 5,
   "metadata": {},
   "outputs": [
    {
     "ename": "MemoryError",
     "evalue": "",
     "output_type": "error",
     "traceback": [
      "\u001b[1;31m---------------------------------------------------------------------------\u001b[0m",
      "\u001b[1;31mMemoryError\u001b[0m                               Traceback (most recent call last)",
      "\u001b[1;32m<ipython-input-5-f289d788987c>\u001b[0m in \u001b[0;36m<module>\u001b[1;34m\u001b[0m\n\u001b[0;32m      7\u001b[0m \u001b[0mm\u001b[0m \u001b[1;33m=\u001b[0m \u001b[0mY\u001b[0m\u001b[1;33m.\u001b[0m\u001b[0mshape\u001b[0m\u001b[1;33m[\u001b[0m\u001b[1;36m1\u001b[0m\u001b[1;33m]\u001b[0m\u001b[1;33m\u001b[0m\u001b[1;33m\u001b[0m\u001b[0m\n\u001b[0;32m      8\u001b[0m \u001b[1;33m\u001b[0m\u001b[0m\n\u001b[1;32m----> 9\u001b[1;33m \u001b[0mY_one_hot\u001b[0m \u001b[1;33m=\u001b[0m \u001b[0mnp\u001b[0m\u001b[1;33m.\u001b[0m\u001b[0mzeros\u001b[0m\u001b[1;33m(\u001b[0m\u001b[1;33m(\u001b[0m\u001b[0mvocab_size\u001b[0m\u001b[1;33m,\u001b[0m \u001b[0mm\u001b[0m\u001b[1;33m)\u001b[0m\u001b[1;33m)\u001b[0m\u001b[1;33m\u001b[0m\u001b[1;33m\u001b[0m\u001b[0m\n\u001b[0m\u001b[0;32m     10\u001b[0m \u001b[1;33m\u001b[0m\u001b[0m\n\u001b[0;32m     11\u001b[0m \u001b[0mY_one_hot\u001b[0m\u001b[1;33m[\u001b[0m\u001b[0mY\u001b[0m\u001b[1;33m.\u001b[0m\u001b[0mflatten\u001b[0m\u001b[1;33m(\u001b[0m\u001b[1;33m)\u001b[0m\u001b[1;33m,\u001b[0m \u001b[0mnp\u001b[0m\u001b[1;33m.\u001b[0m\u001b[0marange\u001b[0m\u001b[1;33m(\u001b[0m\u001b[0mm\u001b[0m\u001b[1;33m)\u001b[0m\u001b[1;33m]\u001b[0m \u001b[1;33m=\u001b[0m \u001b[1;36m1\u001b[0m\u001b[1;33m\u001b[0m\u001b[1;33m\u001b[0m\u001b[0m\n",
      "\u001b[1;31mMemoryError\u001b[0m: "
     ]
    }
   ],
   "source": [
    "word2id, id2word = word_mapping(pptxt)\n",
    "\n",
    "X, Y = generate_data(pptxt, word2id, window_size = 1)\n",
    "\n",
    "vocab_size = len(id2word)\n",
    "\n",
    "m = Y.shape[1]\n",
    "\n",
    "Y_one_hot = np.zeros((vocab_size, m))\n",
    "\n",
    "Y_one_hot[Y.flatten(), np.arange(m)] = 1\n"
   ]
  },
  {
   "cell_type": "code",
   "execution_count": 6,
   "metadata": {},
   "outputs": [
    {
     "data": {
      "text/plain": [
       "119472"
      ]
     },
     "execution_count": 6,
     "metadata": {},
     "output_type": "execute_result"
    }
   ],
   "source": [
    "m"
   ]
  }
 ],
 "metadata": {
  "kernelspec": {
   "display_name": "Python 3",
   "language": "python",
   "name": "python3"
  },
  "language_info": {
   "codemirror_mode": {
    "name": "ipython",
    "version": 3
   },
   "file_extension": ".py",
   "mimetype": "text/x-python",
   "name": "python",
   "nbconvert_exporter": "python",
   "pygments_lexer": "ipython3",
   "version": "3.7.3"
  }
 },
 "nbformat": 4,
 "nbformat_minor": 2
}
