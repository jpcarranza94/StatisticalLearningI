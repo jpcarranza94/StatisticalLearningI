{
 "cells": [
  {
   "cell_type": "markdown",
   "metadata": {},
   "source": [
    "# Proyecto final Statistical Learning I: Clasificador de supervivencia en el Titanic\n",
    "\n",
    "### Juan Pablo Carranza Hurtado 20000607"
   ]
  },
  {
   "cell_type": "markdown",
   "metadata": {},
   "source": [
    "**Instrucciones:** \n",
    "\n",
    "* El proyecto consiste en hacer clasificación binaria para determinar si una persona sobrevive ($y=1$) o no ($y=0$) del hundimiento del Titanic.\n",
    "\n",
    "**Objetivos:**\n",
    "* Realizar un análisis exploratorio de datos para el dataset del hundimiento del Titanic.\n",
    "* Considerar el desarrollo de features adicionales a los ya contenidos dentro del data set\n",
    "* Desarrollar un modelo de clasificación binaria que alcance un nivel de exactitud de al menos el 80%.\n"
   ]
  },
  {
   "cell_type": "markdown",
   "metadata": {},
   "source": [
    "### Seccion I: Análisis exploratorio de dataset\n",
    "\n",
    "A continuación se presenta un breve análisis descriptivo del dataset, a manera de encontrar ciertas características descriptivas del mismo, y así poder desarrollar features más robustos si así fuera necesario."
   ]
  },
  {
   "cell_type": "code",
   "execution_count": 260,
   "metadata": {},
   "outputs": [],
   "source": [
    "# Empezamos cargando las librerías a utilizar en el proyecto\n",
    "\n",
    "import numpy as np\n",
    "import pandas as pd\n",
    "import tensorflow as tf\n",
    "import matplotlib.pyplot as plt\n",
    "import scipy\n",
    "from sklearn.preprocessing import OneHotEncoder, normalize, scale\n",
    "import seaborn as sns"
   ]
  },
  {
   "cell_type": "code",
   "execution_count": 89,
   "metadata": {},
   "outputs": [],
   "source": [
    "from sklearn.linear_model import LinearRegression"
   ]
  },
  {
   "cell_type": "code",
   "execution_count": 863,
   "metadata": {},
   "outputs": [
    {
     "name": "stdout",
     "output_type": "stream",
     "text": [
      "<class 'pandas.core.frame.DataFrame'>\n",
      "RangeIndex: 891 entries, 0 to 890\n",
      "Data columns (total 12 columns):\n",
      " #   Column              Non-Null Count  Dtype  \n",
      "---  ------              --------------  -----  \n",
      " 0   PassengerId         891 non-null    int64  \n",
      " 1   Name                891 non-null    object \n",
      " 2   Age                 714 non-null    float64\n",
      " 3   SibSp               891 non-null    int64  \n",
      " 4   Parch               891 non-null    int64  \n",
      " 5   Ticket              891 non-null    object \n",
      " 6   Fare                891 non-null    float64\n",
      " 7   Cabin               204 non-null    object \n",
      " 8   Embarked            889 non-null    object \n",
      " 9   passenger_class     891 non-null    object \n",
      " 10  passenger_sex       891 non-null    object \n",
      " 11  passenger_survived  891 non-null    object \n",
      "dtypes: float64(2), int64(3), object(7)\n",
      "memory usage: 83.7+ KB\n"
     ]
    }
   ],
   "source": [
    "df = pd.read_csv(\"data_titanic_proyecto.csv\")\n",
    "\n",
    "df.info()\n",
    "\n",
    "# Se puede ver que hay varios datos del dataframe que se encuentran faltantes"
   ]
  },
  {
   "cell_type": "code",
   "execution_count": 864,
   "metadata": {},
   "outputs": [
    {
     "data": {
      "text/html": [
       "<div>\n",
       "<style scoped>\n",
       "    .dataframe tbody tr th:only-of-type {\n",
       "        vertical-align: middle;\n",
       "    }\n",
       "\n",
       "    .dataframe tbody tr th {\n",
       "        vertical-align: top;\n",
       "    }\n",
       "\n",
       "    .dataframe thead th {\n",
       "        text-align: right;\n",
       "    }\n",
       "</style>\n",
       "<table border=\"1\" class=\"dataframe\">\n",
       "  <thead>\n",
       "    <tr style=\"text-align: right;\">\n",
       "      <th></th>\n",
       "      <th>PassengerId</th>\n",
       "      <th>Age</th>\n",
       "      <th>SibSp</th>\n",
       "      <th>Parch</th>\n",
       "      <th>Fare</th>\n",
       "    </tr>\n",
       "  </thead>\n",
       "  <tbody>\n",
       "    <tr>\n",
       "      <th>count</th>\n",
       "      <td>891.000000</td>\n",
       "      <td>714.000000</td>\n",
       "      <td>891.000000</td>\n",
       "      <td>891.000000</td>\n",
       "      <td>891.000000</td>\n",
       "    </tr>\n",
       "    <tr>\n",
       "      <th>mean</th>\n",
       "      <td>446.000000</td>\n",
       "      <td>29.699118</td>\n",
       "      <td>0.523008</td>\n",
       "      <td>0.381594</td>\n",
       "      <td>32.204208</td>\n",
       "    </tr>\n",
       "    <tr>\n",
       "      <th>std</th>\n",
       "      <td>257.353842</td>\n",
       "      <td>14.526497</td>\n",
       "      <td>1.102743</td>\n",
       "      <td>0.806057</td>\n",
       "      <td>49.693429</td>\n",
       "    </tr>\n",
       "    <tr>\n",
       "      <th>min</th>\n",
       "      <td>1.000000</td>\n",
       "      <td>0.420000</td>\n",
       "      <td>0.000000</td>\n",
       "      <td>0.000000</td>\n",
       "      <td>0.000000</td>\n",
       "    </tr>\n",
       "    <tr>\n",
       "      <th>25%</th>\n",
       "      <td>223.500000</td>\n",
       "      <td>20.125000</td>\n",
       "      <td>0.000000</td>\n",
       "      <td>0.000000</td>\n",
       "      <td>7.910400</td>\n",
       "    </tr>\n",
       "    <tr>\n",
       "      <th>50%</th>\n",
       "      <td>446.000000</td>\n",
       "      <td>28.000000</td>\n",
       "      <td>0.000000</td>\n",
       "      <td>0.000000</td>\n",
       "      <td>14.454200</td>\n",
       "    </tr>\n",
       "    <tr>\n",
       "      <th>75%</th>\n",
       "      <td>668.500000</td>\n",
       "      <td>38.000000</td>\n",
       "      <td>1.000000</td>\n",
       "      <td>0.000000</td>\n",
       "      <td>31.000000</td>\n",
       "    </tr>\n",
       "    <tr>\n",
       "      <th>max</th>\n",
       "      <td>891.000000</td>\n",
       "      <td>80.000000</td>\n",
       "      <td>8.000000</td>\n",
       "      <td>6.000000</td>\n",
       "      <td>512.329200</td>\n",
       "    </tr>\n",
       "  </tbody>\n",
       "</table>\n",
       "</div>"
      ],
      "text/plain": [
       "       PassengerId         Age       SibSp       Parch        Fare\n",
       "count   891.000000  714.000000  891.000000  891.000000  891.000000\n",
       "mean    446.000000   29.699118    0.523008    0.381594   32.204208\n",
       "std     257.353842   14.526497    1.102743    0.806057   49.693429\n",
       "min       1.000000    0.420000    0.000000    0.000000    0.000000\n",
       "25%     223.500000   20.125000    0.000000    0.000000    7.910400\n",
       "50%     446.000000   28.000000    0.000000    0.000000   14.454200\n",
       "75%     668.500000   38.000000    1.000000    0.000000   31.000000\n",
       "max     891.000000   80.000000    8.000000    6.000000  512.329200"
      ]
     },
     "execution_count": 864,
     "metadata": {},
     "output_type": "execute_result"
    }
   ],
   "source": [
    "df.describe()"
   ]
  },
  {
   "cell_type": "code",
   "execution_count": 865,
   "metadata": {},
   "outputs": [
    {
     "data": {
      "text/html": [
       "<div>\n",
       "<style scoped>\n",
       "    .dataframe tbody tr th:only-of-type {\n",
       "        vertical-align: middle;\n",
       "    }\n",
       "\n",
       "    .dataframe tbody tr th {\n",
       "        vertical-align: top;\n",
       "    }\n",
       "\n",
       "    .dataframe thead th {\n",
       "        text-align: right;\n",
       "    }\n",
       "</style>\n",
       "<table border=\"1\" class=\"dataframe\">\n",
       "  <thead>\n",
       "    <tr style=\"text-align: right;\">\n",
       "      <th></th>\n",
       "      <th>PassengerId</th>\n",
       "      <th>Name</th>\n",
       "      <th>Age</th>\n",
       "      <th>SibSp</th>\n",
       "      <th>Parch</th>\n",
       "      <th>Ticket</th>\n",
       "      <th>Fare</th>\n",
       "      <th>Cabin</th>\n",
       "      <th>Embarked</th>\n",
       "      <th>passenger_class</th>\n",
       "      <th>passenger_sex</th>\n",
       "      <th>passenger_survived</th>\n",
       "    </tr>\n",
       "  </thead>\n",
       "  <tbody>\n",
       "    <tr>\n",
       "      <th>0</th>\n",
       "      <td>1</td>\n",
       "      <td>Braund, Mr. Owen Harris</td>\n",
       "      <td>22.0</td>\n",
       "      <td>1</td>\n",
       "      <td>0</td>\n",
       "      <td>A/5 21171</td>\n",
       "      <td>7.2500</td>\n",
       "      <td>NaN</td>\n",
       "      <td>S</td>\n",
       "      <td>Lower</td>\n",
       "      <td>M</td>\n",
       "      <td>N</td>\n",
       "    </tr>\n",
       "    <tr>\n",
       "      <th>1</th>\n",
       "      <td>2</td>\n",
       "      <td>Cumings, Mrs. John Bradley (Florence Briggs Th...</td>\n",
       "      <td>38.0</td>\n",
       "      <td>1</td>\n",
       "      <td>0</td>\n",
       "      <td>PC 17599</td>\n",
       "      <td>71.2833</td>\n",
       "      <td>C85</td>\n",
       "      <td>C</td>\n",
       "      <td>Upper</td>\n",
       "      <td>F</td>\n",
       "      <td>Y</td>\n",
       "    </tr>\n",
       "    <tr>\n",
       "      <th>2</th>\n",
       "      <td>3</td>\n",
       "      <td>Heikkinen, Miss. Laina</td>\n",
       "      <td>26.0</td>\n",
       "      <td>0</td>\n",
       "      <td>0</td>\n",
       "      <td>STON/O2. 3101282</td>\n",
       "      <td>7.9250</td>\n",
       "      <td>NaN</td>\n",
       "      <td>S</td>\n",
       "      <td>Lower</td>\n",
       "      <td>F</td>\n",
       "      <td>Y</td>\n",
       "    </tr>\n",
       "    <tr>\n",
       "      <th>3</th>\n",
       "      <td>4</td>\n",
       "      <td>Futrelle, Mrs. Jacques Heath (Lily May Peel)</td>\n",
       "      <td>35.0</td>\n",
       "      <td>1</td>\n",
       "      <td>0</td>\n",
       "      <td>113803</td>\n",
       "      <td>53.1000</td>\n",
       "      <td>C123</td>\n",
       "      <td>S</td>\n",
       "      <td>Upper</td>\n",
       "      <td>F</td>\n",
       "      <td>Y</td>\n",
       "    </tr>\n",
       "    <tr>\n",
       "      <th>4</th>\n",
       "      <td>5</td>\n",
       "      <td>Allen, Mr. William Henry</td>\n",
       "      <td>35.0</td>\n",
       "      <td>0</td>\n",
       "      <td>0</td>\n",
       "      <td>373450</td>\n",
       "      <td>8.0500</td>\n",
       "      <td>NaN</td>\n",
       "      <td>S</td>\n",
       "      <td>Lower</td>\n",
       "      <td>M</td>\n",
       "      <td>N</td>\n",
       "    </tr>\n",
       "  </tbody>\n",
       "</table>\n",
       "</div>"
      ],
      "text/plain": [
       "   PassengerId                                               Name   Age  \\\n",
       "0            1                            Braund, Mr. Owen Harris  22.0   \n",
       "1            2  Cumings, Mrs. John Bradley (Florence Briggs Th...  38.0   \n",
       "2            3                             Heikkinen, Miss. Laina  26.0   \n",
       "3            4       Futrelle, Mrs. Jacques Heath (Lily May Peel)  35.0   \n",
       "4            5                           Allen, Mr. William Henry  35.0   \n",
       "\n",
       "   SibSp  Parch            Ticket     Fare Cabin Embarked passenger_class  \\\n",
       "0      1      0         A/5 21171   7.2500   NaN        S           Lower   \n",
       "1      1      0          PC 17599  71.2833   C85        C           Upper   \n",
       "2      0      0  STON/O2. 3101282   7.9250   NaN        S           Lower   \n",
       "3      1      0            113803  53.1000  C123        S           Upper   \n",
       "4      0      0            373450   8.0500   NaN        S           Lower   \n",
       "\n",
       "  passenger_sex passenger_survived  \n",
       "0             M                  N  \n",
       "1             F                  Y  \n",
       "2             F                  Y  \n",
       "3             F                  Y  \n",
       "4             M                  N  "
      ]
     },
     "execution_count": 865,
     "metadata": {},
     "output_type": "execute_result"
    }
   ],
   "source": [
    "df.head()"
   ]
  },
  {
   "cell_type": "code",
   "execution_count": 866,
   "metadata": {},
   "outputs": [
    {
     "name": "stderr",
     "output_type": "stream",
     "text": [
      "C:\\Users\\USUARIO\\anaconda3\\lib\\site-packages\\numpy\\lib\\histograms.py:839: RuntimeWarning: invalid value encountered in greater_equal\n",
      "  keep = (tmp_a >= first_edge)\n",
      "C:\\Users\\USUARIO\\anaconda3\\lib\\site-packages\\numpy\\lib\\histograms.py:840: RuntimeWarning: invalid value encountered in less_equal\n",
      "  keep &= (tmp_a <= last_edge)\n"
     ]
    },
    {
     "data": {
      "image/png": "[encoded data removed]",
      "text/plain": [
       "<Figure size 432x288 with 1 Axes>"
      ]
     },
     "metadata": {
      "needs_background": "light"
     },
     "output_type": "display_data"
    }
   ],
   "source": [
    "plt.hist(df['Age'], bins = 20)\n",
    "plt.show()"
   ]
  },
  {
   "cell_type": "code",
   "execution_count": 867,
   "metadata": {},
   "outputs": [
    {
     "data": {
      "image/png": "[encoded data removed]",
      "text/plain": [
       "<Figure size 432x288 with 1 Axes>"
      ]
     },
     "metadata": {
      "needs_background": "light"
     },
     "output_type": "display_data"
    }
   ],
   "source": [
    "plt.hist((df['Fare']), bins = 20)\n",
    "plt.show()"
   ]
  },
  {
   "cell_type": "code",
   "execution_count": 868,
   "metadata": {},
   "outputs": [
    {
     "data": {
      "image/png": "[encoded data removed]",
      "text/plain": [
       "<Figure size 432x288 with 1 Axes>"
      ]
     },
     "metadata": {
      "needs_background": "light"
     },
     "output_type": "display_data"
    }
   ],
   "source": [
    "plt.hist((df['SibSp']), bins = 20)\n",
    "plt.show()"
   ]
  },
  {
   "cell_type": "code",
   "execution_count": 869,
   "metadata": {
    "scrolled": false
   },
   "outputs": [
    {
     "data": {
      "image/png": "[encoded data removed]",
      "text/plain": [
       "<Figure size 432x288 with 1 Axes>"
      ]
     },
     "metadata": {
      "needs_background": "light"
     },
     "output_type": "display_data"
    }
   ],
   "source": [
    "plt.hist((df['Parch']), bins = 20)\n",
    "plt.show()"
   ]
  },
  {
   "cell_type": "markdown",
   "metadata": {},
   "source": [
    "## Feature engineering"
   ]
  },
  {
   "cell_type": "code",
   "execution_count": 886,
   "metadata": {},
   "outputs": [],
   "source": [
    "df = df.dropna(subset = ['Embarked'])"
   ]
  },
  {
   "cell_type": "code",
   "execution_count": 887,
   "metadata": {},
   "outputs": [
    {
     "data": {
      "text/plain": [
       "0    0\n",
       "1    1\n",
       "2    1\n",
       "3    1\n",
       "4    0\n",
       "Name: passenger_survived, dtype: int64"
      ]
     },
     "execution_count": 887,
     "metadata": {},
     "output_type": "execute_result"
    }
   ],
   "source": [
    "df['passenger_survived'] = df['passenger_survived'].replace('Y',1)\n",
    "df['passenger_survived'] = df['passenger_survived'].replace('N',0)\n",
    "\n",
    "df['passenger_survived'].head()"
   ]
  },
  {
   "cell_type": "code",
   "execution_count": 888,
   "metadata": {},
   "outputs": [
    {
     "data": {
      "text/plain": [
       "0    1\n",
       "1    0\n",
       "2    0\n",
       "3    0\n",
       "4    1\n",
       "Name: passenger_sex, dtype: int64"
      ]
     },
     "execution_count": 888,
     "metadata": {},
     "output_type": "execute_result"
    }
   ],
   "source": [
    "df['passenger_sex'] = df['passenger_sex'].replace('M',1)\n",
    "df['passenger_sex'] = df['passenger_sex'].replace('F',0)\n",
    "\n",
    "df['passenger_sex'].head()"
   ]
  },
  {
   "cell_type": "code",
   "execution_count": 889,
   "metadata": {},
   "outputs": [],
   "source": [
    "\n",
    "onehot_class = np.array(df['passenger_class']).reshape(-1,1)\n",
    "\n",
    "\n",
    "enc_train = OneHotEncoder(categories='auto')\n",
    "enc_train.fit(onehot_class)\n",
    "onehot_class = enc_train.transform(onehot_class).toarray()"
   ]
  },
  {
   "cell_type": "code",
   "execution_count": 890,
   "metadata": {
    "scrolled": false
   },
   "outputs": [],
   "source": [
    "df['Lower_class'], df['Middle_class'], df['Upper_class'] = [onehot_class.T[0], onehot_class.T[1], onehot_class.T[2]]"
   ]
  },
  {
   "cell_type": "code",
   "execution_count": 891,
   "metadata": {},
   "outputs": [],
   "source": [
    "\n",
    "onehot_class = np.array(df['passenger_class']).reshape(-1,1)\n",
    "\n",
    "\n",
    "enc_train = OneHotEncoder(categories='auto')\n",
    "enc_train.fit(onehot_class)\n",
    "onehotlabels_train = enc_train.transform(onehot_class).toarray()"
   ]
  },
  {
   "cell_type": "code",
   "execution_count": 892,
   "metadata": {},
   "outputs": [],
   "source": [
    "\n",
    "onehot_embarked = np.array(df['Embarked']).reshape(-1,1)\n",
    "\n",
    "\n",
    "enc_train = OneHotEncoder(categories='auto')\n",
    "enc_train.fit(onehot_embarked)\n",
    "onehot_embarked = enc_train.transform(onehot_embarked).toarray()"
   ]
  },
  {
   "cell_type": "code",
   "execution_count": 893,
   "metadata": {},
   "outputs": [
    {
     "data": {
      "text/plain": [
       "array([[0., 1., 0., ..., 0., 1., 0.],\n",
       "       [0., 0., 0., ..., 0., 0., 1.],\n",
       "       [1., 0., 1., ..., 1., 0., 0.]])"
      ]
     },
     "execution_count": 893,
     "metadata": {},
     "output_type": "execute_result"
    }
   ],
   "source": [
    "onehot_embarked.T"
   ]
  },
  {
   "cell_type": "code",
   "execution_count": 894,
   "metadata": {},
   "outputs": [],
   "source": [
    "df['Embarked_C'], df['Embarked_Q'], df['Embarked_S'] = [onehot_embarked.T[0], onehot_embarked.T[1], onehot_embarked.T[2]]"
   ]
  },
  {
   "cell_type": "code",
   "execution_count": 895,
   "metadata": {},
   "outputs": [],
   "source": [
    "df_trim = df.drop(columns = ['Embarked', 'passenger_class', 'Ticket', 'Name', 'Cabin', 'PassengerId'])"
   ]
  },
  {
   "cell_type": "code",
   "execution_count": 896,
   "metadata": {
    "scrolled": true
   },
   "outputs": [
    {
     "name": "stdout",
     "output_type": "stream",
     "text": [
      "<class 'pandas.core.frame.DataFrame'>\n",
      "Int64Index: 889 entries, 0 to 890\n",
      "Data columns (total 12 columns):\n",
      " #   Column              Non-Null Count  Dtype  \n",
      "---  ------              --------------  -----  \n",
      " 0   Age                 712 non-null    float64\n",
      " 1   SibSp               889 non-null    int64  \n",
      " 2   Parch               889 non-null    int64  \n",
      " 3   Fare                889 non-null    float64\n",
      " 4   passenger_sex       889 non-null    int64  \n",
      " 5   passenger_survived  889 non-null    int64  \n",
      " 6   Lower_class         889 non-null    float64\n",
      " 7   Middle_class        889 non-null    float64\n",
      " 8   Upper_class         889 non-null    float64\n",
      " 9   Embarked_C          889 non-null    float64\n",
      " 10  Embarked_Q          889 non-null    float64\n",
      " 11  Embarked_S          889 non-null    float64\n",
      "dtypes: float64(8), int64(4)\n",
      "memory usage: 90.3 KB\n"
     ]
    }
   ],
   "source": [
    "df_trim.info()"
   ]
  },
  {
   "cell_type": "code",
   "execution_count": 897,
   "metadata": {},
   "outputs": [
    {
     "data": {
      "text/html": [
       "<div>\n",
       "<style scoped>\n",
       "    .dataframe tbody tr th:only-of-type {\n",
       "        vertical-align: middle;\n",
       "    }\n",
       "\n",
       "    .dataframe tbody tr th {\n",
       "        vertical-align: top;\n",
       "    }\n",
       "\n",
       "    .dataframe thead th {\n",
       "        text-align: right;\n",
       "    }\n",
       "</style>\n",
       "<table border=\"1\" class=\"dataframe\">\n",
       "  <thead>\n",
       "    <tr style=\"text-align: right;\">\n",
       "      <th></th>\n",
       "      <th>Age</th>\n",
       "      <th>SibSp</th>\n",
       "      <th>Parch</th>\n",
       "      <th>Fare</th>\n",
       "      <th>passenger_sex</th>\n",
       "      <th>passenger_survived</th>\n",
       "      <th>Lower_class</th>\n",
       "      <th>Middle_class</th>\n",
       "      <th>Upper_class</th>\n",
       "      <th>Embarked_C</th>\n",
       "      <th>Embarked_Q</th>\n",
       "      <th>Embarked_S</th>\n",
       "    </tr>\n",
       "  </thead>\n",
       "  <tbody>\n",
       "    <tr>\n",
       "      <th>0</th>\n",
       "      <td>22.0</td>\n",
       "      <td>1</td>\n",
       "      <td>0</td>\n",
       "      <td>7.2500</td>\n",
       "      <td>1</td>\n",
       "      <td>0</td>\n",
       "      <td>1.0</td>\n",
       "      <td>0.0</td>\n",
       "      <td>0.0</td>\n",
       "      <td>0.0</td>\n",
       "      <td>0.0</td>\n",
       "      <td>1.0</td>\n",
       "    </tr>\n",
       "    <tr>\n",
       "      <th>1</th>\n",
       "      <td>38.0</td>\n",
       "      <td>1</td>\n",
       "      <td>0</td>\n",
       "      <td>71.2833</td>\n",
       "      <td>0</td>\n",
       "      <td>1</td>\n",
       "      <td>0.0</td>\n",
       "      <td>0.0</td>\n",
       "      <td>1.0</td>\n",
       "      <td>1.0</td>\n",
       "      <td>0.0</td>\n",
       "      <td>0.0</td>\n",
       "    </tr>\n",
       "    <tr>\n",
       "      <th>2</th>\n",
       "      <td>26.0</td>\n",
       "      <td>0</td>\n",
       "      <td>0</td>\n",
       "      <td>7.9250</td>\n",
       "      <td>0</td>\n",
       "      <td>1</td>\n",
       "      <td>1.0</td>\n",
       "      <td>0.0</td>\n",
       "      <td>0.0</td>\n",
       "      <td>0.0</td>\n",
       "      <td>0.0</td>\n",
       "      <td>1.0</td>\n",
       "    </tr>\n",
       "    <tr>\n",
       "      <th>3</th>\n",
       "      <td>35.0</td>\n",
       "      <td>1</td>\n",
       "      <td>0</td>\n",
       "      <td>53.1000</td>\n",
       "      <td>0</td>\n",
       "      <td>1</td>\n",
       "      <td>0.0</td>\n",
       "      <td>0.0</td>\n",
       "      <td>1.0</td>\n",
       "      <td>0.0</td>\n",
       "      <td>0.0</td>\n",
       "      <td>1.0</td>\n",
       "    </tr>\n",
       "    <tr>\n",
       "      <th>4</th>\n",
       "      <td>35.0</td>\n",
       "      <td>0</td>\n",
       "      <td>0</td>\n",
       "      <td>8.0500</td>\n",
       "      <td>1</td>\n",
       "      <td>0</td>\n",
       "      <td>1.0</td>\n",
       "      <td>0.0</td>\n",
       "      <td>0.0</td>\n",
       "      <td>0.0</td>\n",
       "      <td>0.0</td>\n",
       "      <td>1.0</td>\n",
       "    </tr>\n",
       "    <tr>\n",
       "      <th>...</th>\n",
       "      <td>...</td>\n",
       "      <td>...</td>\n",
       "      <td>...</td>\n",
       "      <td>...</td>\n",
       "      <td>...</td>\n",
       "      <td>...</td>\n",
       "      <td>...</td>\n",
       "      <td>...</td>\n",
       "      <td>...</td>\n",
       "      <td>...</td>\n",
       "      <td>...</td>\n",
       "      <td>...</td>\n",
       "    </tr>\n",
       "    <tr>\n",
       "      <th>886</th>\n",
       "      <td>27.0</td>\n",
       "      <td>0</td>\n",
       "      <td>0</td>\n",
       "      <td>13.0000</td>\n",
       "      <td>1</td>\n",
       "      <td>0</td>\n",
       "      <td>0.0</td>\n",
       "      <td>1.0</td>\n",
       "      <td>0.0</td>\n",
       "      <td>0.0</td>\n",
       "      <td>0.0</td>\n",
       "      <td>1.0</td>\n",
       "    </tr>\n",
       "    <tr>\n",
       "      <th>887</th>\n",
       "      <td>19.0</td>\n",
       "      <td>0</td>\n",
       "      <td>0</td>\n",
       "      <td>30.0000</td>\n",
       "      <td>0</td>\n",
       "      <td>1</td>\n",
       "      <td>0.0</td>\n",
       "      <td>0.0</td>\n",
       "      <td>1.0</td>\n",
       "      <td>0.0</td>\n",
       "      <td>0.0</td>\n",
       "      <td>1.0</td>\n",
       "    </tr>\n",
       "    <tr>\n",
       "      <th>888</th>\n",
       "      <td>NaN</td>\n",
       "      <td>1</td>\n",
       "      <td>2</td>\n",
       "      <td>23.4500</td>\n",
       "      <td>0</td>\n",
       "      <td>0</td>\n",
       "      <td>1.0</td>\n",
       "      <td>0.0</td>\n",
       "      <td>0.0</td>\n",
       "      <td>0.0</td>\n",
       "      <td>0.0</td>\n",
       "      <td>1.0</td>\n",
       "    </tr>\n",
       "    <tr>\n",
       "      <th>889</th>\n",
       "      <td>26.0</td>\n",
       "      <td>0</td>\n",
       "      <td>0</td>\n",
       "      <td>30.0000</td>\n",
       "      <td>1</td>\n",
       "      <td>1</td>\n",
       "      <td>0.0</td>\n",
       "      <td>0.0</td>\n",
       "      <td>1.0</td>\n",
       "      <td>1.0</td>\n",
       "      <td>0.0</td>\n",
       "      <td>0.0</td>\n",
       "    </tr>\n",
       "    <tr>\n",
       "      <th>890</th>\n",
       "      <td>32.0</td>\n",
       "      <td>0</td>\n",
       "      <td>0</td>\n",
       "      <td>7.7500</td>\n",
       "      <td>1</td>\n",
       "      <td>0</td>\n",
       "      <td>1.0</td>\n",
       "      <td>0.0</td>\n",
       "      <td>0.0</td>\n",
       "      <td>0.0</td>\n",
       "      <td>1.0</td>\n",
       "      <td>0.0</td>\n",
       "    </tr>\n",
       "  </tbody>\n",
       "</table>\n",
       "<p>889 rows × 12 columns</p>\n",
       "</div>"
      ],
      "text/plain": [
       "      Age  SibSp  Parch     Fare  passenger_sex  passenger_survived  \\\n",
       "0    22.0      1      0   7.2500              1                   0   \n",
       "1    38.0      1      0  71.2833              0                   1   \n",
       "2    26.0      0      0   7.9250              0                   1   \n",
       "3    35.0      1      0  53.1000              0                   1   \n",
       "4    35.0      0      0   8.0500              1                   0   \n",
       "..    ...    ...    ...      ...            ...                 ...   \n",
       "886  27.0      0      0  13.0000              1                   0   \n",
       "887  19.0      0      0  30.0000              0                   1   \n",
       "888   NaN      1      2  23.4500              0                   0   \n",
       "889  26.0      0      0  30.0000              1                   1   \n",
       "890  32.0      0      0   7.7500              1                   0   \n",
       "\n",
       "     Lower_class  Middle_class  Upper_class  Embarked_C  Embarked_Q  \\\n",
       "0            1.0           0.0          0.0         0.0         0.0   \n",
       "1            0.0           0.0          1.0         1.0         0.0   \n",
       "2            1.0           0.0          0.0         0.0         0.0   \n",
       "3            0.0           0.0          1.0         0.0         0.0   \n",
       "4            1.0           0.0          0.0         0.0         0.0   \n",
       "..           ...           ...          ...         ...         ...   \n",
       "886          0.0           1.0          0.0         0.0         0.0   \n",
       "887          0.0           0.0          1.0         0.0         0.0   \n",
       "888          1.0           0.0          0.0         0.0         0.0   \n",
       "889          0.0           0.0          1.0         1.0         0.0   \n",
       "890          1.0           0.0          0.0         0.0         1.0   \n",
       "\n",
       "     Embarked_S  \n",
       "0           1.0  \n",
       "1           0.0  \n",
       "2           1.0  \n",
       "3           1.0  \n",
       "4           1.0  \n",
       "..          ...  \n",
       "886         1.0  \n",
       "887         1.0  \n",
       "888         1.0  \n",
       "889         0.0  \n",
       "890         0.0  \n",
       "\n",
       "[889 rows x 12 columns]"
      ]
     },
     "execution_count": 897,
     "metadata": {},
     "output_type": "execute_result"
    }
   ],
   "source": [
    "df_trim"
   ]
  },
  {
   "cell_type": "code",
   "execution_count": 885,
   "metadata": {
    "scrolled": true
   },
   "outputs": [],
   "source": [
    "# Replace Age NA's with results from linear regression model\n",
    "\n",
    "#y = df_trim['passenger_survived']\n",
    "\n",
    "#df_trim = df.drop(columns = ['passenger_survived'])\n"
   ]
  },
  {
   "cell_type": "code",
   "execution_count": 898,
   "metadata": {},
   "outputs": [],
   "source": [
    "df_trim['Age'] = df_trim['Age'].replace({np.nan: 0})"
   ]
  },
  {
   "cell_type": "code",
   "execution_count": 899,
   "metadata": {},
   "outputs": [
    {
     "data": {
      "text/html": [
       "<div>\n",
       "<style scoped>\n",
       "    .dataframe tbody tr th:only-of-type {\n",
       "        vertical-align: middle;\n",
       "    }\n",
       "\n",
       "    .dataframe tbody tr th {\n",
       "        vertical-align: top;\n",
       "    }\n",
       "\n",
       "    .dataframe thead th {\n",
       "        text-align: right;\n",
       "    }\n",
       "</style>\n",
       "<table border=\"1\" class=\"dataframe\">\n",
       "  <thead>\n",
       "    <tr style=\"text-align: right;\">\n",
       "      <th></th>\n",
       "      <th>SibSp</th>\n",
       "      <th>Parch</th>\n",
       "      <th>Fare</th>\n",
       "      <th>passenger_sex</th>\n",
       "      <th>passenger_survived</th>\n",
       "      <th>Lower_class</th>\n",
       "      <th>Middle_class</th>\n",
       "      <th>Upper_class</th>\n",
       "      <th>Embarked_C</th>\n",
       "      <th>Embarked_Q</th>\n",
       "      <th>Embarked_S</th>\n",
       "    </tr>\n",
       "  </thead>\n",
       "  <tbody>\n",
       "    <tr>\n",
       "      <th>5</th>\n",
       "      <td>0</td>\n",
       "      <td>0</td>\n",
       "      <td>8.4583</td>\n",
       "      <td>1</td>\n",
       "      <td>0</td>\n",
       "      <td>1.0</td>\n",
       "      <td>0.0</td>\n",
       "      <td>0.0</td>\n",
       "      <td>0.0</td>\n",
       "      <td>1.0</td>\n",
       "      <td>0.0</td>\n",
       "    </tr>\n",
       "    <tr>\n",
       "      <th>17</th>\n",
       "      <td>0</td>\n",
       "      <td>0</td>\n",
       "      <td>13.0000</td>\n",
       "      <td>1</td>\n",
       "      <td>1</td>\n",
       "      <td>0.0</td>\n",
       "      <td>1.0</td>\n",
       "      <td>0.0</td>\n",
       "      <td>0.0</td>\n",
       "      <td>0.0</td>\n",
       "      <td>1.0</td>\n",
       "    </tr>\n",
       "    <tr>\n",
       "      <th>19</th>\n",
       "      <td>0</td>\n",
       "      <td>0</td>\n",
       "      <td>7.2250</td>\n",
       "      <td>0</td>\n",
       "      <td>1</td>\n",
       "      <td>1.0</td>\n",
       "      <td>0.0</td>\n",
       "      <td>0.0</td>\n",
       "      <td>1.0</td>\n",
       "      <td>0.0</td>\n",
       "      <td>0.0</td>\n",
       "    </tr>\n",
       "    <tr>\n",
       "      <th>26</th>\n",
       "      <td>0</td>\n",
       "      <td>0</td>\n",
       "      <td>7.2250</td>\n",
       "      <td>1</td>\n",
       "      <td>0</td>\n",
       "      <td>1.0</td>\n",
       "      <td>0.0</td>\n",
       "      <td>0.0</td>\n",
       "      <td>1.0</td>\n",
       "      <td>0.0</td>\n",
       "      <td>0.0</td>\n",
       "    </tr>\n",
       "    <tr>\n",
       "      <th>28</th>\n",
       "      <td>0</td>\n",
       "      <td>0</td>\n",
       "      <td>7.8792</td>\n",
       "      <td>0</td>\n",
       "      <td>1</td>\n",
       "      <td>1.0</td>\n",
       "      <td>0.0</td>\n",
       "      <td>0.0</td>\n",
       "      <td>0.0</td>\n",
       "      <td>1.0</td>\n",
       "      <td>0.0</td>\n",
       "    </tr>\n",
       "    <tr>\n",
       "      <th>...</th>\n",
       "      <td>...</td>\n",
       "      <td>...</td>\n",
       "      <td>...</td>\n",
       "      <td>...</td>\n",
       "      <td>...</td>\n",
       "      <td>...</td>\n",
       "      <td>...</td>\n",
       "      <td>...</td>\n",
       "      <td>...</td>\n",
       "      <td>...</td>\n",
       "      <td>...</td>\n",
       "    </tr>\n",
       "    <tr>\n",
       "      <th>859</th>\n",
       "      <td>0</td>\n",
       "      <td>0</td>\n",
       "      <td>7.2292</td>\n",
       "      <td>1</td>\n",
       "      <td>0</td>\n",
       "      <td>1.0</td>\n",
       "      <td>0.0</td>\n",
       "      <td>0.0</td>\n",
       "      <td>1.0</td>\n",
       "      <td>0.0</td>\n",
       "      <td>0.0</td>\n",
       "    </tr>\n",
       "    <tr>\n",
       "      <th>863</th>\n",
       "      <td>8</td>\n",
       "      <td>2</td>\n",
       "      <td>69.5500</td>\n",
       "      <td>0</td>\n",
       "      <td>0</td>\n",
       "      <td>1.0</td>\n",
       "      <td>0.0</td>\n",
       "      <td>0.0</td>\n",
       "      <td>0.0</td>\n",
       "      <td>0.0</td>\n",
       "      <td>1.0</td>\n",
       "    </tr>\n",
       "    <tr>\n",
       "      <th>868</th>\n",
       "      <td>0</td>\n",
       "      <td>0</td>\n",
       "      <td>9.5000</td>\n",
       "      <td>1</td>\n",
       "      <td>0</td>\n",
       "      <td>1.0</td>\n",
       "      <td>0.0</td>\n",
       "      <td>0.0</td>\n",
       "      <td>0.0</td>\n",
       "      <td>0.0</td>\n",
       "      <td>1.0</td>\n",
       "    </tr>\n",
       "    <tr>\n",
       "      <th>878</th>\n",
       "      <td>0</td>\n",
       "      <td>0</td>\n",
       "      <td>7.8958</td>\n",
       "      <td>1</td>\n",
       "      <td>0</td>\n",
       "      <td>1.0</td>\n",
       "      <td>0.0</td>\n",
       "      <td>0.0</td>\n",
       "      <td>0.0</td>\n",
       "      <td>0.0</td>\n",
       "      <td>1.0</td>\n",
       "    </tr>\n",
       "    <tr>\n",
       "      <th>888</th>\n",
       "      <td>1</td>\n",
       "      <td>2</td>\n",
       "      <td>23.4500</td>\n",
       "      <td>0</td>\n",
       "      <td>0</td>\n",
       "      <td>1.0</td>\n",
       "      <td>0.0</td>\n",
       "      <td>0.0</td>\n",
       "      <td>0.0</td>\n",
       "      <td>0.0</td>\n",
       "      <td>1.0</td>\n",
       "    </tr>\n",
       "  </tbody>\n",
       "</table>\n",
       "<p>177 rows × 11 columns</p>\n",
       "</div>"
      ],
      "text/plain": [
       "     SibSp  Parch     Fare  passenger_sex  passenger_survived  Lower_class  \\\n",
       "5        0      0   8.4583              1                   0          1.0   \n",
       "17       0      0  13.0000              1                   1          0.0   \n",
       "19       0      0   7.2250              0                   1          1.0   \n",
       "26       0      0   7.2250              1                   0          1.0   \n",
       "28       0      0   7.8792              0                   1          1.0   \n",
       "..     ...    ...      ...            ...                 ...          ...   \n",
       "859      0      0   7.2292              1                   0          1.0   \n",
       "863      8      2  69.5500              0                   0          1.0   \n",
       "868      0      0   9.5000              1                   0          1.0   \n",
       "878      0      0   7.8958              1                   0          1.0   \n",
       "888      1      2  23.4500              0                   0          1.0   \n",
       "\n",
       "     Middle_class  Upper_class  Embarked_C  Embarked_Q  Embarked_S  \n",
       "5             0.0          0.0         0.0         1.0         0.0  \n",
       "17            1.0          0.0         0.0         0.0         1.0  \n",
       "19            0.0          0.0         1.0         0.0         0.0  \n",
       "26            0.0          0.0         1.0         0.0         0.0  \n",
       "28            0.0          0.0         0.0         1.0         0.0  \n",
       "..            ...          ...         ...         ...         ...  \n",
       "859           0.0          0.0         1.0         0.0         0.0  \n",
       "863           0.0          0.0         0.0         0.0         1.0  \n",
       "868           0.0          0.0         0.0         0.0         1.0  \n",
       "878           0.0          0.0         0.0         0.0         1.0  \n",
       "888           0.0          0.0         0.0         0.0         1.0  \n",
       "\n",
       "[177 rows x 11 columns]"
      ]
     },
     "execution_count": 899,
     "metadata": {},
     "output_type": "execute_result"
    }
   ],
   "source": [
    "df_trim[df_trim['Age']==0].drop(columns = 'Age')"
   ]
  },
  {
   "cell_type": "code",
   "execution_count": 900,
   "metadata": {
    "scrolled": true
   },
   "outputs": [],
   "source": [
    "df_lr_age = df_trim[df_trim['Age'] != 0]"
   ]
  },
  {
   "cell_type": "code",
   "execution_count": 901,
   "metadata": {},
   "outputs": [
    {
     "data": {
      "text/plain": [
       "0.27906493934572274"
      ]
     },
     "execution_count": 901,
     "metadata": {},
     "output_type": "execute_result"
    }
   ],
   "source": [
    "Age_lr = LinearRegression().fit(df_lr_age.drop(columns = ['Age']), df_lr_age['Age'])\n",
    "\n",
    "# \n",
    "Age_lr.score(df_lr_age.drop(columns = ['Age']), df_lr_age['Age'])\n"
   ]
  },
  {
   "cell_type": "code",
   "execution_count": 902,
   "metadata": {},
   "outputs": [],
   "source": [
    "age_replace_0 = Age_lr.predict(df_trim[df_trim['Age']==0].drop(columns = 'Age'))"
   ]
  },
  {
   "cell_type": "code",
   "execution_count": 903,
   "metadata": {
    "scrolled": true
   },
   "outputs": [
    {
     "name": "stderr",
     "output_type": "stream",
     "text": [
      "C:\\Users\\USUARIO\\anaconda3\\lib\\site-packages\\ipykernel_launcher.py:1: SettingWithCopyWarning: \n",
      "A value is trying to be set on a copy of a slice from a DataFrame\n",
      "\n",
      "See the caveats in the documentation: https://pandas.pydata.org/pandas-docs/stable/user_guide/indexing.html#returning-a-view-versus-a-copy\n",
      "  \"\"\"Entry point for launching an IPython kernel.\n"
     ]
    }
   ],
   "source": [
    "df_trim['Age'][df_trim['Age']==0] = age_replace_0"
   ]
  },
  {
   "cell_type": "code",
   "execution_count": 908,
   "metadata": {},
   "outputs": [],
   "source": [
    "df_trim['FamilySize'] = df_trim['SibSp'] + df_trim['Parch']"
   ]
  },
  {
   "cell_type": "code",
   "execution_count": 910,
   "metadata": {},
   "outputs": [
    {
     "data": {
      "text/html": [
       "<div>\n",
       "<style scoped>\n",
       "    .dataframe tbody tr th:only-of-type {\n",
       "        vertical-align: middle;\n",
       "    }\n",
       "\n",
       "    .dataframe tbody tr th {\n",
       "        vertical-align: top;\n",
       "    }\n",
       "\n",
       "    .dataframe thead th {\n",
       "        text-align: right;\n",
       "    }\n",
       "</style>\n",
       "<table border=\"1\" class=\"dataframe\">\n",
       "  <thead>\n",
       "    <tr style=\"text-align: right;\">\n",
       "      <th></th>\n",
       "      <th>Age</th>\n",
       "      <th>SibSp</th>\n",
       "      <th>Parch</th>\n",
       "      <th>Fare</th>\n",
       "      <th>passenger_sex</th>\n",
       "      <th>passenger_survived</th>\n",
       "      <th>Lower_class</th>\n",
       "      <th>Middle_class</th>\n",
       "      <th>Upper_class</th>\n",
       "      <th>Embarked_C</th>\n",
       "      <th>Embarked_Q</th>\n",
       "      <th>Embarked_S</th>\n",
       "      <th>FamilySize</th>\n",
       "    </tr>\n",
       "  </thead>\n",
       "  <tbody>\n",
       "    <tr>\n",
       "      <th>0</th>\n",
       "      <td>22.000000</td>\n",
       "      <td>1</td>\n",
       "      <td>0</td>\n",
       "      <td>7.2500</td>\n",
       "      <td>1</td>\n",
       "      <td>0</td>\n",
       "      <td>1.0</td>\n",
       "      <td>0.0</td>\n",
       "      <td>0.0</td>\n",
       "      <td>0.0</td>\n",
       "      <td>0.0</td>\n",
       "      <td>1.0</td>\n",
       "      <td>1</td>\n",
       "    </tr>\n",
       "    <tr>\n",
       "      <th>1</th>\n",
       "      <td>38.000000</td>\n",
       "      <td>1</td>\n",
       "      <td>0</td>\n",
       "      <td>71.2833</td>\n",
       "      <td>0</td>\n",
       "      <td>1</td>\n",
       "      <td>0.0</td>\n",
       "      <td>0.0</td>\n",
       "      <td>1.0</td>\n",
       "      <td>1.0</td>\n",
       "      <td>0.0</td>\n",
       "      <td>0.0</td>\n",
       "      <td>1</td>\n",
       "    </tr>\n",
       "    <tr>\n",
       "      <th>2</th>\n",
       "      <td>26.000000</td>\n",
       "      <td>0</td>\n",
       "      <td>0</td>\n",
       "      <td>7.9250</td>\n",
       "      <td>0</td>\n",
       "      <td>1</td>\n",
       "      <td>1.0</td>\n",
       "      <td>0.0</td>\n",
       "      <td>0.0</td>\n",
       "      <td>0.0</td>\n",
       "      <td>0.0</td>\n",
       "      <td>1.0</td>\n",
       "      <td>0</td>\n",
       "    </tr>\n",
       "    <tr>\n",
       "      <th>3</th>\n",
       "      <td>35.000000</td>\n",
       "      <td>1</td>\n",
       "      <td>0</td>\n",
       "      <td>53.1000</td>\n",
       "      <td>0</td>\n",
       "      <td>1</td>\n",
       "      <td>0.0</td>\n",
       "      <td>0.0</td>\n",
       "      <td>1.0</td>\n",
       "      <td>0.0</td>\n",
       "      <td>0.0</td>\n",
       "      <td>1.0</td>\n",
       "      <td>1</td>\n",
       "    </tr>\n",
       "    <tr>\n",
       "      <th>4</th>\n",
       "      <td>35.000000</td>\n",
       "      <td>0</td>\n",
       "      <td>0</td>\n",
       "      <td>8.0500</td>\n",
       "      <td>1</td>\n",
       "      <td>0</td>\n",
       "      <td>1.0</td>\n",
       "      <td>0.0</td>\n",
       "      <td>0.0</td>\n",
       "      <td>0.0</td>\n",
       "      <td>0.0</td>\n",
       "      <td>1.0</td>\n",
       "      <td>0</td>\n",
       "    </tr>\n",
       "    <tr>\n",
       "      <th>...</th>\n",
       "      <td>...</td>\n",
       "      <td>...</td>\n",
       "      <td>...</td>\n",
       "      <td>...</td>\n",
       "      <td>...</td>\n",
       "      <td>...</td>\n",
       "      <td>...</td>\n",
       "      <td>...</td>\n",
       "      <td>...</td>\n",
       "      <td>...</td>\n",
       "      <td>...</td>\n",
       "      <td>...</td>\n",
       "      <td>...</td>\n",
       "    </tr>\n",
       "    <tr>\n",
       "      <th>886</th>\n",
       "      <td>27.000000</td>\n",
       "      <td>0</td>\n",
       "      <td>0</td>\n",
       "      <td>13.0000</td>\n",
       "      <td>1</td>\n",
       "      <td>0</td>\n",
       "      <td>0.0</td>\n",
       "      <td>1.0</td>\n",
       "      <td>0.0</td>\n",
       "      <td>0.0</td>\n",
       "      <td>0.0</td>\n",
       "      <td>1.0</td>\n",
       "      <td>0</td>\n",
       "    </tr>\n",
       "    <tr>\n",
       "      <th>887</th>\n",
       "      <td>19.000000</td>\n",
       "      <td>0</td>\n",
       "      <td>0</td>\n",
       "      <td>30.0000</td>\n",
       "      <td>0</td>\n",
       "      <td>1</td>\n",
       "      <td>0.0</td>\n",
       "      <td>0.0</td>\n",
       "      <td>1.0</td>\n",
       "      <td>0.0</td>\n",
       "      <td>0.0</td>\n",
       "      <td>1.0</td>\n",
       "      <td>0</td>\n",
       "    </tr>\n",
       "    <tr>\n",
       "      <th>888</th>\n",
       "      <td>24.049162</td>\n",
       "      <td>1</td>\n",
       "      <td>2</td>\n",
       "      <td>23.4500</td>\n",
       "      <td>0</td>\n",
       "      <td>0</td>\n",
       "      <td>1.0</td>\n",
       "      <td>0.0</td>\n",
       "      <td>0.0</td>\n",
       "      <td>0.0</td>\n",
       "      <td>0.0</td>\n",
       "      <td>1.0</td>\n",
       "      <td>3</td>\n",
       "    </tr>\n",
       "    <tr>\n",
       "      <th>889</th>\n",
       "      <td>26.000000</td>\n",
       "      <td>0</td>\n",
       "      <td>0</td>\n",
       "      <td>30.0000</td>\n",
       "      <td>1</td>\n",
       "      <td>1</td>\n",
       "      <td>0.0</td>\n",
       "      <td>0.0</td>\n",
       "      <td>1.0</td>\n",
       "      <td>1.0</td>\n",
       "      <td>0.0</td>\n",
       "      <td>0.0</td>\n",
       "      <td>0</td>\n",
       "    </tr>\n",
       "    <tr>\n",
       "      <th>890</th>\n",
       "      <td>32.000000</td>\n",
       "      <td>0</td>\n",
       "      <td>0</td>\n",
       "      <td>7.7500</td>\n",
       "      <td>1</td>\n",
       "      <td>0</td>\n",
       "      <td>1.0</td>\n",
       "      <td>0.0</td>\n",
       "      <td>0.0</td>\n",
       "      <td>0.0</td>\n",
       "      <td>1.0</td>\n",
       "      <td>0.0</td>\n",
       "      <td>0</td>\n",
       "    </tr>\n",
       "  </tbody>\n",
       "</table>\n",
       "<p>889 rows × 13 columns</p>\n",
       "</div>"
      ],
      "text/plain": [
       "           Age  SibSp  Parch     Fare  passenger_sex  passenger_survived  \\\n",
       "0    22.000000      1      0   7.2500              1                   0   \n",
       "1    38.000000      1      0  71.2833              0                   1   \n",
       "2    26.000000      0      0   7.9250              0                   1   \n",
       "3    35.000000      1      0  53.1000              0                   1   \n",
       "4    35.000000      0      0   8.0500              1                   0   \n",
       "..         ...    ...    ...      ...            ...                 ...   \n",
       "886  27.000000      0      0  13.0000              1                   0   \n",
       "887  19.000000      0      0  30.0000              0                   1   \n",
       "888  24.049162      1      2  23.4500              0                   0   \n",
       "889  26.000000      0      0  30.0000              1                   1   \n",
       "890  32.000000      0      0   7.7500              1                   0   \n",
       "\n",
       "     Lower_class  Middle_class  Upper_class  Embarked_C  Embarked_Q  \\\n",
       "0            1.0           0.0          0.0         0.0         0.0   \n",
       "1            0.0           0.0          1.0         1.0         0.0   \n",
       "2            1.0           0.0          0.0         0.0         0.0   \n",
       "3            0.0           0.0          1.0         0.0         0.0   \n",
       "4            1.0           0.0          0.0         0.0         0.0   \n",
       "..           ...           ...          ...         ...         ...   \n",
       "886          0.0           1.0          0.0         0.0         0.0   \n",
       "887          0.0           0.0          1.0         0.0         0.0   \n",
       "888          1.0           0.0          0.0         0.0         0.0   \n",
       "889          0.0           0.0          1.0         1.0         0.0   \n",
       "890          1.0           0.0          0.0         0.0         1.0   \n",
       "\n",
       "     Embarked_S  FamilySize  \n",
       "0           1.0           1  \n",
       "1           0.0           1  \n",
       "2           1.0           0  \n",
       "3           1.0           1  \n",
       "4           1.0           0  \n",
       "..          ...         ...  \n",
       "886         1.0           0  \n",
       "887         1.0           0  \n",
       "888         1.0           3  \n",
       "889         0.0           0  \n",
       "890         0.0           0  \n",
       "\n",
       "[889 rows x 13 columns]"
      ]
     },
     "execution_count": 910,
     "metadata": {},
     "output_type": "execute_result"
    }
   ],
   "source": [
    "df_trim"
   ]
  },
  {
   "cell_type": "code",
   "execution_count": 911,
   "metadata": {},
   "outputs": [],
   "source": [
    "# Normalizar variables que no sean one hot encodings\n",
    "df_trim[['Age', 'SibSp', 'Parch', 'Fare', 'FamilySize']] = normalize(df_trim[['Age', 'SibSp', 'Parch', 'Fare', 'FamilySize']]) "
   ]
  },
  {
   "cell_type": "code",
   "execution_count": 912,
   "metadata": {},
   "outputs": [
    {
     "data": {
      "text/html": [
       "<div>\n",
       "<style scoped>\n",
       "    .dataframe tbody tr th:only-of-type {\n",
       "        vertical-align: middle;\n",
       "    }\n",
       "\n",
       "    .dataframe tbody tr th {\n",
       "        vertical-align: top;\n",
       "    }\n",
       "\n",
       "    .dataframe thead th {\n",
       "        text-align: right;\n",
       "    }\n",
       "</style>\n",
       "<table border=\"1\" class=\"dataframe\">\n",
       "  <thead>\n",
       "    <tr style=\"text-align: right;\">\n",
       "      <th></th>\n",
       "      <th>Age</th>\n",
       "      <th>SibSp</th>\n",
       "      <th>Parch</th>\n",
       "      <th>Fare</th>\n",
       "      <th>passenger_sex</th>\n",
       "      <th>Lower_class</th>\n",
       "      <th>Middle_class</th>\n",
       "      <th>Upper_class</th>\n",
       "      <th>Embarked_C</th>\n",
       "      <th>Embarked_Q</th>\n",
       "      <th>Embarked_S</th>\n",
       "      <th>FamilySize</th>\n",
       "    </tr>\n",
       "  </thead>\n",
       "  <tbody>\n",
       "    <tr>\n",
       "      <th>0</th>\n",
       "      <td>0.947992</td>\n",
       "      <td>0.043091</td>\n",
       "      <td>0.000000</td>\n",
       "      <td>0.312406</td>\n",
       "      <td>1</td>\n",
       "      <td>1.0</td>\n",
       "      <td>0.0</td>\n",
       "      <td>0.0</td>\n",
       "      <td>0.0</td>\n",
       "      <td>0.0</td>\n",
       "      <td>1.0</td>\n",
       "      <td>0.043091</td>\n",
       "    </tr>\n",
       "    <tr>\n",
       "      <th>1</th>\n",
       "      <td>0.470345</td>\n",
       "      <td>0.012377</td>\n",
       "      <td>0.000000</td>\n",
       "      <td>0.882309</td>\n",
       "      <td>0</td>\n",
       "      <td>0.0</td>\n",
       "      <td>0.0</td>\n",
       "      <td>1.0</td>\n",
       "      <td>1.0</td>\n",
       "      <td>0.0</td>\n",
       "      <td>0.0</td>\n",
       "      <td>0.012377</td>\n",
       "    </tr>\n",
       "    <tr>\n",
       "      <th>2</th>\n",
       "      <td>0.956551</td>\n",
       "      <td>0.000000</td>\n",
       "      <td>0.000000</td>\n",
       "      <td>0.291564</td>\n",
       "      <td>0</td>\n",
       "      <td>1.0</td>\n",
       "      <td>0.0</td>\n",
       "      <td>0.0</td>\n",
       "      <td>0.0</td>\n",
       "      <td>0.0</td>\n",
       "      <td>1.0</td>\n",
       "      <td>0.000000</td>\n",
       "    </tr>\n",
       "    <tr>\n",
       "      <th>3</th>\n",
       "      <td>0.550202</td>\n",
       "      <td>0.015720</td>\n",
       "      <td>0.000000</td>\n",
       "      <td>0.834735</td>\n",
       "      <td>0</td>\n",
       "      <td>0.0</td>\n",
       "      <td>0.0</td>\n",
       "      <td>1.0</td>\n",
       "      <td>0.0</td>\n",
       "      <td>0.0</td>\n",
       "      <td>1.0</td>\n",
       "      <td>0.015720</td>\n",
       "    </tr>\n",
       "    <tr>\n",
       "      <th>4</th>\n",
       "      <td>0.974555</td>\n",
       "      <td>0.000000</td>\n",
       "      <td>0.000000</td>\n",
       "      <td>0.224148</td>\n",
       "      <td>1</td>\n",
       "      <td>1.0</td>\n",
       "      <td>0.0</td>\n",
       "      <td>0.0</td>\n",
       "      <td>0.0</td>\n",
       "      <td>0.0</td>\n",
       "      <td>1.0</td>\n",
       "      <td>0.000000</td>\n",
       "    </tr>\n",
       "    <tr>\n",
       "      <th>...</th>\n",
       "      <td>...</td>\n",
       "      <td>...</td>\n",
       "      <td>...</td>\n",
       "      <td>...</td>\n",
       "      <td>...</td>\n",
       "      <td>...</td>\n",
       "      <td>...</td>\n",
       "      <td>...</td>\n",
       "      <td>...</td>\n",
       "      <td>...</td>\n",
       "      <td>...</td>\n",
       "      <td>...</td>\n",
       "    </tr>\n",
       "    <tr>\n",
       "      <th>886</th>\n",
       "      <td>0.901002</td>\n",
       "      <td>0.000000</td>\n",
       "      <td>0.000000</td>\n",
       "      <td>0.433816</td>\n",
       "      <td>1</td>\n",
       "      <td>0.0</td>\n",
       "      <td>1.0</td>\n",
       "      <td>0.0</td>\n",
       "      <td>0.0</td>\n",
       "      <td>0.0</td>\n",
       "      <td>1.0</td>\n",
       "      <td>0.000000</td>\n",
       "    </tr>\n",
       "    <tr>\n",
       "      <th>887</th>\n",
       "      <td>0.535052</td>\n",
       "      <td>0.000000</td>\n",
       "      <td>0.000000</td>\n",
       "      <td>0.844819</td>\n",
       "      <td>0</td>\n",
       "      <td>0.0</td>\n",
       "      <td>0.0</td>\n",
       "      <td>1.0</td>\n",
       "      <td>0.0</td>\n",
       "      <td>0.0</td>\n",
       "      <td>1.0</td>\n",
       "      <td>0.000000</td>\n",
       "    </tr>\n",
       "    <tr>\n",
       "      <th>888</th>\n",
       "      <td>0.711568</td>\n",
       "      <td>0.029588</td>\n",
       "      <td>0.059176</td>\n",
       "      <td>0.693840</td>\n",
       "      <td>0</td>\n",
       "      <td>1.0</td>\n",
       "      <td>0.0</td>\n",
       "      <td>0.0</td>\n",
       "      <td>0.0</td>\n",
       "      <td>0.0</td>\n",
       "      <td>1.0</td>\n",
       "      <td>0.088764</td>\n",
       "    </tr>\n",
       "    <tr>\n",
       "      <th>889</th>\n",
       "      <td>0.654931</td>\n",
       "      <td>0.000000</td>\n",
       "      <td>0.000000</td>\n",
       "      <td>0.755689</td>\n",
       "      <td>1</td>\n",
       "      <td>0.0</td>\n",
       "      <td>0.0</td>\n",
       "      <td>1.0</td>\n",
       "      <td>1.0</td>\n",
       "      <td>0.0</td>\n",
       "      <td>0.0</td>\n",
       "      <td>0.000000</td>\n",
       "    </tr>\n",
       "    <tr>\n",
       "      <th>890</th>\n",
       "      <td>0.971903</td>\n",
       "      <td>0.000000</td>\n",
       "      <td>0.000000</td>\n",
       "      <td>0.235383</td>\n",
       "      <td>1</td>\n",
       "      <td>1.0</td>\n",
       "      <td>0.0</td>\n",
       "      <td>0.0</td>\n",
       "      <td>0.0</td>\n",
       "      <td>1.0</td>\n",
       "      <td>0.0</td>\n",
       "      <td>0.000000</td>\n",
       "    </tr>\n",
       "  </tbody>\n",
       "</table>\n",
       "<p>889 rows × 12 columns</p>\n",
       "</div>"
      ],
      "text/plain": [
       "          Age     SibSp     Parch      Fare  passenger_sex  Lower_class  \\\n",
       "0    0.947992  0.043091  0.000000  0.312406              1          1.0   \n",
       "1    0.470345  0.012377  0.000000  0.882309              0          0.0   \n",
       "2    0.956551  0.000000  0.000000  0.291564              0          1.0   \n",
       "3    0.550202  0.015720  0.000000  0.834735              0          0.0   \n",
       "4    0.974555  0.000000  0.000000  0.224148              1          1.0   \n",
       "..        ...       ...       ...       ...            ...          ...   \n",
       "886  0.901002  0.000000  0.000000  0.433816              1          0.0   \n",
       "887  0.535052  0.000000  0.000000  0.844819              0          0.0   \n",
       "888  0.711568  0.029588  0.059176  0.693840              0          1.0   \n",
       "889  0.654931  0.000000  0.000000  0.755689              1          0.0   \n",
       "890  0.971903  0.000000  0.000000  0.235383              1          1.0   \n",
       "\n",
       "     Middle_class  Upper_class  Embarked_C  Embarked_Q  Embarked_S  FamilySize  \n",
       "0             0.0          0.0         0.0         0.0         1.0    0.043091  \n",
       "1             0.0          1.0         1.0         0.0         0.0    0.012377  \n",
       "2             0.0          0.0         0.0         0.0         1.0    0.000000  \n",
       "3             0.0          1.0         0.0         0.0         1.0    0.015720  \n",
       "4             0.0          0.0         0.0         0.0         1.0    0.000000  \n",
       "..            ...          ...         ...         ...         ...         ...  \n",
       "886           1.0          0.0         0.0         0.0         1.0    0.000000  \n",
       "887           0.0          1.0         0.0         0.0         1.0    0.000000  \n",
       "888           0.0          0.0         0.0         0.0         1.0    0.088764  \n",
       "889           0.0          1.0         1.0         0.0         0.0    0.000000  \n",
       "890           0.0          0.0         0.0         1.0         0.0    0.000000  \n",
       "\n",
       "[889 rows x 12 columns]"
      ]
     },
     "execution_count": 912,
     "metadata": {},
     "output_type": "execute_result"
    }
   ],
   "source": [
    "x = df_trim.drop(columns = ['passenger_survived'])\n",
    "x"
   ]
  },
  {
   "cell_type": "markdown",
   "metadata": {},
   "source": [
    " ## Split de datos en entrenamiento, validación y prueba"
   ]
  },
  {
   "cell_type": "code",
   "execution_count": 913,
   "metadata": {},
   "outputs": [],
   "source": [
    "from sklearn.model_selection import train_test_split\n",
    "from sklearn.metrics import classification_report\n",
    "from sklearn.metrics import precision_recall_fscore_support\n",
    "import datetime\n",
    "from tensorboard_logger import configure, log_value\n"
   ]
  },
  {
   "cell_type": "code",
   "execution_count": 914,
   "metadata": {},
   "outputs": [],
   "source": [
    "X_train, X_test, y_train, y_test = train_test_split(x, y, test_size=0.20,random_state=109)\n"
   ]
  },
  {
   "cell_type": "code",
   "execution_count": 915,
   "metadata": {},
   "outputs": [],
   "source": [
    "X_train, X_val, y_train, y_val = train_test_split(X_train, y_train, test_size=0.20,random_state=109)"
   ]
  },
  {
   "cell_type": "code",
   "execution_count": 916,
   "metadata": {
    "scrolled": true
   },
   "outputs": [
    {
     "name": "stdout",
     "output_type": "stream",
     "text": [
      "training set size:  (568, 12)\n",
      "validation set size:  (143, 12)\n",
      "test set size:  (178, 12)\n"
     ]
    }
   ],
   "source": [
    "print(\"training set size: \", X_train.shape)\n",
    "print(\"validation set size: \", X_val.shape)\n",
    "print(\"test set size: \", X_test.shape)"
   ]
  },
  {
   "cell_type": "markdown",
   "metadata": {},
   "source": [
    " ## Entrenamiento de arbol de decisión"
   ]
  },
  {
   "cell_type": "code",
   "execution_count": 917,
   "metadata": {},
   "outputs": [],
   "source": [
    "from sklearn.tree import DecisionTreeClassifier\n",
    "\n",
    "# Creamos el modelo de clasificación con un arbol de decisión\n",
    "# default \n",
    "\n",
    "def train_DecisionTreeClassifier( max_depth = None, min_samples_split = 2, min_samples_leaf = 1):\n",
    "    \n",
    "    \n",
    "    train_str = 'experiments/'+\"DecsnTree\"+datetime.datetime.now().strftime(\"%Y%m%d-%H%M%S\") + \"_maxdepth=\" + str(max_depth) \\\n",
    "    + \"_minsamplesplit=\" + str(min_samples_split) + \"_minsampleleaf=\" + str(min_samples_leaf)\n",
    "     \n",
    "    dirlog = tensorboard_logger.Logger(train_str)\n",
    "\n",
    "    tree_model = DecisionTreeClassifier(max_depth = max_depth, min_samples_split = min_samples_split, min_samples_leaf = min_samples_leaf)\n",
    "\n",
    "    tree_model.fit(X_train, y_train)\n",
    "    \n",
    "    # train accuracy\n",
    "    train_accuracy = tree_model.score(X_train, y_train)\n",
    "    dirlog.log_value('train_accuracy', train_accuracy, 1)\n",
    "\n",
    "    # test accuracy\n",
    "    val_accuracy = tree_model.score(X_val, y_val)\n",
    "    dirlog.log_value('val_accuracy', val_accuracy, 1)\n",
    "    \n",
    "    tree_predictions_val = tree_model.predict(X_val)\n",
    "    \n",
    "    print(classification_report(tree_predictions_val, y_val))\n",
    "    \n",
    "    print(\"***************************************************\")\n",
    "    print(\"training accuracy:\", train_accuracy)\n",
    "    print(\"val accuracy:\", val_accuracy)\n",
    "    print(\"***************************************************\")\n",
    "    \n",
    "    return tree_model\n"
   ]
  },
  {
   "cell_type": "code",
   "execution_count": 918,
   "metadata": {},
   "outputs": [
    {
     "name": "stdout",
     "output_type": "stream",
     "text": [
      "              precision    recall  f1-score   support\n",
      "\n",
      "           0       0.81      0.82      0.81        88\n",
      "           1       0.70      0.69      0.70        55\n",
      "\n",
      "    accuracy                           0.77       143\n",
      "   macro avg       0.76      0.75      0.76       143\n",
      "weighted avg       0.77      0.77      0.77       143\n",
      "\n",
      "***************************************************\n",
      "training accuracy: 0.9911971830985915\n",
      "val accuracy: 0.7692307692307693\n",
      "***************************************************\n"
     ]
    },
    {
     "data": {
      "text/plain": [
       "DecisionTreeClassifier()"
      ]
     },
     "execution_count": 918,
     "metadata": {},
     "output_type": "execute_result"
    }
   ],
   "source": [
    "# default\n",
    "\n",
    "train_DecisionTreeClassifier()"
   ]
  },
  {
   "cell_type": "code",
   "execution_count": 919,
   "metadata": {},
   "outputs": [
    {
     "name": "stdout",
     "output_type": "stream",
     "text": [
      "              precision    recall  f1-score   support\n",
      "\n",
      "           0       0.83      0.81      0.82        91\n",
      "           1       0.69      0.71      0.70        52\n",
      "\n",
      "    accuracy                           0.78       143\n",
      "   macro avg       0.76      0.76      0.76       143\n",
      "weighted avg       0.78      0.78      0.78       143\n",
      "\n",
      "***************************************************\n",
      "training accuracy: 0.9436619718309859\n",
      "val accuracy: 0.7762237762237763\n",
      "***************************************************\n"
     ]
    },
    {
     "data": {
      "text/plain": [
       "DecisionTreeClassifier(max_depth=10)"
      ]
     },
     "execution_count": 919,
     "metadata": {},
     "output_type": "execute_result"
    }
   ],
   "source": [
    "train_DecisionTreeClassifier(max_depth = 10, min_samples_split = 2, min_samples_leaf = 1)"
   ]
  },
  {
   "cell_type": "code",
   "execution_count": 920,
   "metadata": {},
   "outputs": [
    {
     "name": "stdout",
     "output_type": "stream",
     "text": [
      "              precision    recall  f1-score   support\n",
      "\n",
      "           0       0.88      0.81      0.84        96\n",
      "           1       0.67      0.77      0.71        47\n",
      "\n",
      "    accuracy                           0.80       143\n",
      "   macro avg       0.77      0.79      0.78       143\n",
      "weighted avg       0.81      0.80      0.80       143\n",
      "\n",
      "***************************************************\n",
      "training accuracy: 0.8626760563380281\n",
      "val accuracy: 0.7972027972027972\n",
      "***************************************************\n"
     ]
    },
    {
     "data": {
      "text/plain": [
       "DecisionTreeClassifier(max_depth=5)"
      ]
     },
     "execution_count": 920,
     "metadata": {},
     "output_type": "execute_result"
    }
   ],
   "source": [
    "train_DecisionTreeClassifier(max_depth = 5, min_samples_split = 2, min_samples_leaf = 1)"
   ]
  },
  {
   "cell_type": "code",
   "execution_count": 921,
   "metadata": {},
   "outputs": [
    {
     "name": "stdout",
     "output_type": "stream",
     "text": [
      "              precision    recall  f1-score   support\n",
      "\n",
      "           0       0.85      0.83      0.84        92\n",
      "           1       0.70      0.75      0.72        51\n",
      "\n",
      "    accuracy                           0.80       143\n",
      "   macro avg       0.78      0.79      0.78       143\n",
      "weighted avg       0.80      0.80      0.80       143\n",
      "\n",
      "***************************************************\n",
      "training accuracy: 0.8257042253521126\n",
      "val accuracy: 0.7972027972027972\n",
      "***************************************************\n"
     ]
    },
    {
     "data": {
      "text/plain": [
       "DecisionTreeClassifier(max_depth=3)"
      ]
     },
     "execution_count": 921,
     "metadata": {},
     "output_type": "execute_result"
    }
   ],
   "source": [
    "train_DecisionTreeClassifier(max_depth = 3, min_samples_split = 2, min_samples_leaf = 1)"
   ]
  },
  {
   "cell_type": "code",
   "execution_count": 922,
   "metadata": {},
   "outputs": [
    {
     "name": "stdout",
     "output_type": "stream",
     "text": [
      "              precision    recall  f1-score   support\n",
      "\n",
      "           0       0.85      0.83      0.84        92\n",
      "           1       0.70      0.75      0.72        51\n",
      "\n",
      "    accuracy                           0.80       143\n",
      "   macro avg       0.78      0.79      0.78       143\n",
      "weighted avg       0.80      0.80      0.80       143\n",
      "\n",
      "***************************************************\n",
      "training accuracy: 0.8257042253521126\n",
      "val accuracy: 0.7972027972027972\n",
      "***************************************************\n"
     ]
    },
    {
     "data": {
      "text/plain": [
       "DecisionTreeClassifier(max_depth=3, min_samples_split=3)"
      ]
     },
     "execution_count": 922,
     "metadata": {},
     "output_type": "execute_result"
    }
   ],
   "source": [
    "train_DecisionTreeClassifier(max_depth = 3, min_samples_split = 3, min_samples_leaf = 1)"
   ]
  },
  {
   "cell_type": "code",
   "execution_count": 923,
   "metadata": {},
   "outputs": [
    {
     "name": "stdout",
     "output_type": "stream",
     "text": [
      "              precision    recall  f1-score   support\n",
      "\n",
      "           0       0.87      0.80      0.83        96\n",
      "           1       0.65      0.74      0.69        47\n",
      "\n",
      "    accuracy                           0.78       143\n",
      "   macro avg       0.76      0.77      0.76       143\n",
      "weighted avg       0.79      0.78      0.79       143\n",
      "\n",
      "***************************************************\n",
      "training accuracy: 0.7922535211267606\n",
      "val accuracy: 0.7832167832167832\n",
      "***************************************************\n"
     ]
    },
    {
     "data": {
      "text/plain": [
       "DecisionTreeClassifier(max_depth=2, min_samples_split=3)"
      ]
     },
     "execution_count": 923,
     "metadata": {},
     "output_type": "execute_result"
    }
   ],
   "source": [
    "train_DecisionTreeClassifier(max_depth = 2, min_samples_split = 3, min_samples_leaf = 1)"
   ]
  },
  {
   "cell_type": "code",
   "execution_count": 924,
   "metadata": {},
   "outputs": [
    {
     "name": "stdout",
     "output_type": "stream",
     "text": [
      "              precision    recall  f1-score   support\n",
      "\n",
      "           0       0.85      0.82      0.84        93\n",
      "           1       0.69      0.74      0.71        50\n",
      "\n",
      "    accuracy                           0.79       143\n",
      "   macro avg       0.77      0.78      0.77       143\n",
      "weighted avg       0.79      0.79      0.79       143\n",
      "\n",
      "***************************************************\n",
      "training accuracy: 0.823943661971831\n",
      "val accuracy: 0.7902097902097902\n",
      "***************************************************\n"
     ]
    },
    {
     "data": {
      "text/plain": [
       "DecisionTreeClassifier(max_depth=3, min_samples_leaf=2)"
      ]
     },
     "execution_count": 924,
     "metadata": {},
     "output_type": "execute_result"
    }
   ],
   "source": [
    "train_DecisionTreeClassifier(max_depth = 3, min_samples_split = 2, min_samples_leaf = 2)"
   ]
  },
  {
   "cell_type": "code",
   "execution_count": 925,
   "metadata": {},
   "outputs": [
    {
     "name": "stdout",
     "output_type": "stream",
     "text": [
      "              precision    recall  f1-score   support\n",
      "\n",
      "           0       0.85      0.83      0.84        92\n",
      "           1       0.70      0.75      0.72        51\n",
      "\n",
      "    accuracy                           0.80       143\n",
      "   macro avg       0.78      0.79      0.78       143\n",
      "weighted avg       0.80      0.80      0.80       143\n",
      "\n",
      "***************************************************\n",
      "training accuracy: 0.823943661971831\n",
      "val accuracy: 0.7972027972027972\n",
      "***************************************************\n"
     ]
    },
    {
     "data": {
      "text/plain": [
       "DecisionTreeClassifier(max_depth=3, min_samples_leaf=3)"
      ]
     },
     "execution_count": 925,
     "metadata": {},
     "output_type": "execute_result"
    }
   ],
   "source": [
    "train_DecisionTreeClassifier(max_depth = 3, min_samples_split = 2, min_samples_leaf = 3)"
   ]
  },
  {
   "cell_type": "code",
   "execution_count": 926,
   "metadata": {},
   "outputs": [
    {
     "name": "stdout",
     "output_type": "stream",
     "text": [
      "              precision    recall  f1-score   support\n",
      "\n",
      "           0       0.89      0.81      0.84        98\n",
      "           1       0.65      0.78      0.71        45\n",
      "\n",
      "    accuracy                           0.80       143\n",
      "   macro avg       0.77      0.79      0.78       143\n",
      "weighted avg       0.81      0.80      0.80       143\n",
      "\n",
      "***************************************************\n",
      "training accuracy: 0.8503521126760564\n",
      "val accuracy: 0.7972027972027972\n",
      "***************************************************\n"
     ]
    },
    {
     "data": {
      "text/plain": [
       "DecisionTreeClassifier(max_depth=4)"
      ]
     },
     "execution_count": 926,
     "metadata": {},
     "output_type": "execute_result"
    }
   ],
   "source": [
    "# best value for depth is 4 \n",
    "train_DecisionTreeClassifier(max_depth = 4, min_samples_split = 2, min_samples_leaf = 1)"
   ]
  },
  {
   "cell_type": "code",
   "execution_count": 927,
   "metadata": {},
   "outputs": [
    {
     "name": "stdout",
     "output_type": "stream",
     "text": [
      "              precision    recall  f1-score   support\n",
      "\n",
      "           0       0.89      0.81      0.84        98\n",
      "           1       0.65      0.78      0.71        45\n",
      "\n",
      "    accuracy                           0.80       143\n",
      "   macro avg       0.77      0.79      0.78       143\n",
      "weighted avg       0.81      0.80      0.80       143\n",
      "\n",
      "***************************************************\n",
      "training accuracy: 0.8503521126760564\n",
      "val accuracy: 0.7972027972027972\n",
      "***************************************************\n"
     ]
    },
    {
     "data": {
      "text/plain": [
       "DecisionTreeClassifier(max_depth=4, min_samples_split=3)"
      ]
     },
     "execution_count": 927,
     "metadata": {},
     "output_type": "execute_result"
    }
   ],
   "source": [
    "train_DecisionTreeClassifier(max_depth = 4, min_samples_split = 3, min_samples_leaf = 1)"
   ]
  },
  {
   "cell_type": "code",
   "execution_count": 928,
   "metadata": {},
   "outputs": [
    {
     "name": "stdout",
     "output_type": "stream",
     "text": [
      "              precision    recall  f1-score   support\n",
      "\n",
      "           0       0.89      0.81      0.84        98\n",
      "           1       0.65      0.78      0.71        45\n",
      "\n",
      "    accuracy                           0.80       143\n",
      "   macro avg       0.77      0.79      0.78       143\n",
      "weighted avg       0.81      0.80      0.80       143\n",
      "\n",
      "***************************************************\n",
      "training accuracy: 0.8503521126760564\n",
      "val accuracy: 0.7972027972027972\n",
      "***************************************************\n"
     ]
    },
    {
     "data": {
      "text/plain": [
       "DecisionTreeClassifier(max_depth=4, min_samples_split=5)"
      ]
     },
     "execution_count": 928,
     "metadata": {},
     "output_type": "execute_result"
    }
   ],
   "source": [
    "train_DecisionTreeClassifier(max_depth = 4, min_samples_split = 5, min_samples_leaf = 1)"
   ]
  },
  {
   "cell_type": "code",
   "execution_count": 929,
   "metadata": {},
   "outputs": [
    {
     "name": "stdout",
     "output_type": "stream",
     "text": [
      "              precision    recall  f1-score   support\n",
      "\n",
      "           0       0.88      0.80      0.83        98\n",
      "           1       0.63      0.76      0.69        45\n",
      "\n",
      "    accuracy                           0.78       143\n",
      "   macro avg       0.75      0.78      0.76       143\n",
      "weighted avg       0.80      0.78      0.79       143\n",
      "\n",
      "***************************************************\n",
      "training accuracy: 0.9383802816901409\n",
      "val accuracy: 0.7832167832167832\n",
      "***************************************************\n"
     ]
    },
    {
     "data": {
      "text/plain": [
       "DecisionTreeClassifier(max_depth=10)"
      ]
     },
     "execution_count": 929,
     "metadata": {},
     "output_type": "execute_result"
    }
   ],
   "source": [
    "# There is no change in validation accuracy after setting max depth of tree to 4 and changing the other two values\n",
    "train_DecisionTreeClassifier(max_depth = 10, min_samples_split = 2, min_samples_leaf = 1)"
   ]
  },
  {
   "cell_type": "code",
   "execution_count": 930,
   "metadata": {},
   "outputs": [
    {
     "name": "stdout",
     "output_type": "stream",
     "text": [
      "              precision    recall  f1-score   support\n",
      "\n",
      "           0       0.88      0.79      0.83        99\n",
      "           1       0.61      0.75      0.67        44\n",
      "\n",
      "    accuracy                           0.78       143\n",
      "   macro avg       0.74      0.77      0.75       143\n",
      "weighted avg       0.79      0.78      0.78       143\n",
      "\n",
      "***************************************************\n",
      "training accuracy: 0.9066901408450704\n",
      "val accuracy: 0.7762237762237763\n",
      "***************************************************\n"
     ]
    },
    {
     "data": {
      "text/plain": [
       "DecisionTreeClassifier(max_depth=10, min_samples_leaf=2)"
      ]
     },
     "execution_count": 930,
     "metadata": {},
     "output_type": "execute_result"
    }
   ],
   "source": [
    "train_DecisionTreeClassifier(max_depth = 10, min_samples_split = 2, min_samples_leaf = 2)"
   ]
  },
  {
   "cell_type": "code",
   "execution_count": 931,
   "metadata": {},
   "outputs": [
    {
     "name": "stdout",
     "output_type": "stream",
     "text": [
      "              precision    recall  f1-score   support\n",
      "\n",
      "           0       0.85      0.79      0.82        96\n",
      "           1       0.63      0.72      0.67        47\n",
      "\n",
      "    accuracy                           0.77       143\n",
      "   macro avg       0.74      0.76      0.75       143\n",
      "weighted avg       0.78      0.77      0.77       143\n",
      "\n",
      "***************************************************\n",
      "training accuracy: 0.9348591549295775\n",
      "val accuracy: 0.7692307692307693\n",
      "***************************************************\n"
     ]
    },
    {
     "data": {
      "text/plain": [
       "DecisionTreeClassifier(max_depth=10, min_samples_split=3)"
      ]
     },
     "execution_count": 931,
     "metadata": {},
     "output_type": "execute_result"
    }
   ],
   "source": [
    "train_DecisionTreeClassifier(max_depth = 10, min_samples_split = 3, min_samples_leaf = 1)"
   ]
  },
  {
   "cell_type": "code",
   "execution_count": 932,
   "metadata": {},
   "outputs": [
    {
     "name": "stdout",
     "output_type": "stream",
     "text": [
      "              precision    recall  f1-score   support\n",
      "\n",
      "           0       0.88      0.81      0.84        96\n",
      "           1       0.67      0.77      0.71        47\n",
      "\n",
      "    accuracy                           0.80       143\n",
      "   macro avg       0.77      0.79      0.78       143\n",
      "weighted avg       0.81      0.80      0.80       143\n",
      "\n",
      "***************************************************\n",
      "training accuracy: 0.926056338028169\n",
      "val accuracy: 0.7972027972027972\n",
      "***************************************************\n"
     ]
    },
    {
     "data": {
      "text/plain": [
       "DecisionTreeClassifier(max_depth=10, min_samples_split=4)"
      ]
     },
     "execution_count": 932,
     "metadata": {},
     "output_type": "execute_result"
    }
   ],
   "source": [
    "train_DecisionTreeClassifier(max_depth = 10, min_samples_split = 4, min_samples_leaf = 1)"
   ]
  },
  {
   "cell_type": "code",
   "execution_count": 933,
   "metadata": {},
   "outputs": [
    {
     "name": "stdout",
     "output_type": "stream",
     "text": [
      "              precision    recall  f1-score   support\n",
      "\n",
      "           0       0.87      0.81      0.84        95\n",
      "           1       0.67      0.75      0.71        48\n",
      "\n",
      "    accuracy                           0.79       143\n",
      "   macro avg       0.77      0.78      0.77       143\n",
      "weighted avg       0.80      0.79      0.79       143\n",
      "\n",
      "***************************************************\n",
      "training accuracy: 0.9154929577464789\n",
      "val accuracy: 0.7902097902097902\n",
      "***************************************************\n"
     ]
    },
    {
     "data": {
      "text/plain": [
       "DecisionTreeClassifier(max_depth=10, min_samples_split=7)"
      ]
     },
     "execution_count": 933,
     "metadata": {},
     "output_type": "execute_result"
    }
   ],
   "source": [
    "train_DecisionTreeClassifier(max_depth = 10, min_samples_split = 7, min_samples_leaf = 1)"
   ]
  },
  {
   "cell_type": "code",
   "execution_count": 934,
   "metadata": {},
   "outputs": [
    {
     "name": "stdout",
     "output_type": "stream",
     "text": [
      "              precision    recall  f1-score   support\n",
      "\n",
      "           0       0.85      0.81      0.83        94\n",
      "           1       0.67      0.73      0.70        49\n",
      "\n",
      "    accuracy                           0.78       143\n",
      "   macro avg       0.76      0.77      0.76       143\n",
      "weighted avg       0.79      0.78      0.79       143\n",
      "\n",
      "***************************************************\n",
      "training accuracy: 0.9154929577464789\n",
      "val accuracy: 0.7832167832167832\n",
      "***************************************************\n"
     ]
    },
    {
     "data": {
      "text/plain": [
       "DecisionTreeClassifier(max_depth=10, min_samples_split=8)"
      ]
     },
     "execution_count": 934,
     "metadata": {},
     "output_type": "execute_result"
    }
   ],
   "source": [
    "train_DecisionTreeClassifier(max_depth = 10, min_samples_split = 8, min_samples_leaf = 1)"
   ]
  },
  {
   "cell_type": "code",
   "execution_count": 986,
   "metadata": {},
   "outputs": [
    {
     "name": "stdout",
     "output_type": "stream",
     "text": [
      "              precision    recall  f1-score   support\n",
      "\n",
      "           0       0.91      0.80      0.85       101\n",
      "           1       0.63      0.81      0.71        42\n",
      "\n",
      "    accuracy                           0.80       143\n",
      "   macro avg       0.77      0.81      0.78       143\n",
      "weighted avg       0.83      0.80      0.81       143\n",
      "\n",
      "***************************************************\n",
      "training accuracy: 0.8415492957746479\n",
      "val accuracy: 0.8041958041958042\n",
      "***************************************************\n"
     ]
    },
    {
     "data": {
      "text/plain": [
       "DecisionTreeClassifier(min_samples_leaf=15, min_samples_split=3)"
      ]
     },
     "execution_count": 986,
     "metadata": {},
     "output_type": "execute_result"
    }
   ],
   "source": [
    "train_DecisionTreeClassifier(max_depth = None, min_samples_split = 3, min_samples_leaf = 15)"
   ]
  },
  {
   "cell_type": "code",
   "execution_count": 1096,
   "metadata": {
    "scrolled": true
   },
   "outputs": [
    {
     "name": "stdout",
     "output_type": "stream",
     "text": [
      "              precision    recall  f1-score   support\n",
      "\n",
      "           0       0.96      0.79      0.86       108\n",
      "           1       0.57      0.89      0.70        35\n",
      "\n",
      "    accuracy                           0.81       143\n",
      "   macro avg       0.76      0.84      0.78       143\n",
      "weighted avg       0.86      0.81      0.82       143\n",
      "\n",
      "***************************************************\n",
      "training accuracy: 0.8327464788732394\n",
      "val accuracy: 0.8111888111888111\n",
      "***************************************************\n"
     ]
    }
   ],
   "source": [
    "best_DecisionTree = train_DecisionTreeClassifier(max_depth = 4, min_samples_split = 3, min_samples_leaf = 15)"
   ]
  },
  {
   "cell_type": "code",
   "execution_count": 1099,
   "metadata": {},
   "outputs": [],
   "source": [
    "from joblib import dump"
   ]
  },
  {
   "cell_type": "code",
   "execution_count": 1100,
   "metadata": {},
   "outputs": [
    {
     "data": {
      "text/plain": [
       "['train_DecisionTreeClassifier(max_depth = 4, min_samples_split = 3, min_samples_leaf = 15).joblib']"
      ]
     },
     "execution_count": 1100,
     "metadata": {},
     "output_type": "execute_result"
    }
   ],
   "source": [
    "dump(best_DecisionTree, \"train_DecisionTreeClassifier(max_depth = 4, min_samples_split = 3, min_samples_leaf = 15).joblib\")"
   ]
  },
  {
   "cell_type": "markdown",
   "metadata": {},
   "source": [
    "## Entrenar un modelo de support vector machine"
   ]
  },
  {
   "cell_type": "code",
   "execution_count": 997,
   "metadata": {},
   "outputs": [],
   "source": [
    "from sklearn import svm"
   ]
  },
  {
   "cell_type": "code",
   "execution_count": 998,
   "metadata": {},
   "outputs": [],
   "source": [
    "\n",
    "def train_SVMClassifier(C = 1.0, kernel = 'rbf'):\n",
    "    \n",
    "    \n",
    "    train_str = 'experiments/'+\"SVM_\"+datetime.datetime.now().strftime(\"%Y%m%d-%H%M%S\") + \"_C=\" + str(C) + \"_kernel=\" + kernel \n",
    "     \n",
    "    dirlog = tensorboard_logger.Logger(train_str)\n",
    "\n",
    "    svm_model = svm.SVC(C=C, kernel=kernel)\n",
    "    svm_model.fit(X_train, y_train)\n",
    "    \n",
    "    # train accuracy\n",
    "    train_accuracy = svm_model.score(X_train, y_train)\n",
    "    dirlog.log_value('train_accuracy', train_accuracy, 1)\n",
    "\n",
    "    # test accuracy\n",
    "    val_accuracy = svm_model.score(X_val, y_val)\n",
    "    dirlog.log_value('val_accuracy', val_accuracy, 1)\n",
    "    \n",
    "    svm_predictions_val = svm_model.predict(X_val)\n",
    "    \n",
    "    print(classification_report(svm_predictions_val, y_val))\n",
    "    print(\"***************************************************\")\n",
    "    print(\"training accuracy:\", train_accuracy)\n",
    "    print(\"val accuracy:\", val_accuracy)\n",
    "    print(\"***************************************************\")\n",
    "    \n",
    "    return svm_model"
   ]
  },
  {
   "cell_type": "code",
   "execution_count": 999,
   "metadata": {},
   "outputs": [
    {
     "name": "stdout",
     "output_type": "stream",
     "text": [
      "              precision    recall  f1-score   support\n",
      "\n",
      "           0       0.97      0.77      0.86       111\n",
      "           1       0.54      0.91      0.67        32\n",
      "\n",
      "    accuracy                           0.80       143\n",
      "   macro avg       0.75      0.84      0.77       143\n",
      "weighted avg       0.87      0.80      0.82       143\n",
      "\n",
      "***************************************************\n",
      "training accuracy: 0.8151408450704225\n",
      "val accuracy: 0.8041958041958042\n",
      "***************************************************\n"
     ]
    },
    {
     "data": {
      "text/plain": [
       "SVC()"
      ]
     },
     "execution_count": 999,
     "metadata": {},
     "output_type": "execute_result"
    }
   ],
   "source": [
    "train_SVMClassifier(C = 1.0, kernel = 'rbf')"
   ]
  },
  {
   "cell_type": "code",
   "execution_count": 1000,
   "metadata": {},
   "outputs": [
    {
     "name": "stdout",
     "output_type": "stream",
     "text": [
      "              precision    recall  f1-score   support\n",
      "\n",
      "           0       0.87      0.80      0.83        96\n",
      "           1       0.65      0.74      0.69        47\n",
      "\n",
      "    accuracy                           0.78       143\n",
      "   macro avg       0.76      0.77      0.76       143\n",
      "weighted avg       0.79      0.78      0.79       143\n",
      "\n",
      "***************************************************\n",
      "training accuracy: 0.7922535211267606\n",
      "val accuracy: 0.7832167832167832\n",
      "***************************************************\n"
     ]
    },
    {
     "data": {
      "text/plain": [
       "SVC(kernel='linear')"
      ]
     },
     "execution_count": 1000,
     "metadata": {},
     "output_type": "execute_result"
    }
   ],
   "source": [
    "train_SVMClassifier(C = 1.0, kernel = 'linear')"
   ]
  },
  {
   "cell_type": "code",
   "execution_count": 1001,
   "metadata": {},
   "outputs": [
    {
     "name": "stdout",
     "output_type": "stream",
     "text": [
      "              precision    recall  f1-score   support\n",
      "\n",
      "           0       0.93      0.77      0.84       108\n",
      "           1       0.54      0.83      0.65        35\n",
      "\n",
      "    accuracy                           0.78       143\n",
      "   macro avg       0.73      0.80      0.75       143\n",
      "weighted avg       0.84      0.78      0.80       143\n",
      "\n",
      "***************************************************\n",
      "training accuracy: 0.8221830985915493\n",
      "val accuracy: 0.7832167832167832\n",
      "***************************************************\n"
     ]
    },
    {
     "data": {
      "text/plain": [
       "SVC(kernel='poly')"
      ]
     },
     "execution_count": 1001,
     "metadata": {},
     "output_type": "execute_result"
    }
   ],
   "source": [
    "train_SVMClassifier(C = 1.0, kernel = 'poly')"
   ]
  },
  {
   "cell_type": "code",
   "execution_count": 1002,
   "metadata": {},
   "outputs": [
    {
     "name": "stdout",
     "output_type": "stream",
     "text": [
      "              precision    recall  f1-score   support\n",
      "\n",
      "           0       0.72      0.70      0.71        92\n",
      "           1       0.48      0.51      0.50        51\n",
      "\n",
      "    accuracy                           0.63       143\n",
      "   macro avg       0.60      0.60      0.60       143\n",
      "weighted avg       0.63      0.63      0.63       143\n",
      "\n",
      "***************************************************\n",
      "training accuracy: 0.6373239436619719\n",
      "val accuracy: 0.6293706293706294\n",
      "***************************************************\n"
     ]
    },
    {
     "data": {
      "text/plain": [
       "SVC(kernel='sigmoid')"
      ]
     },
     "execution_count": 1002,
     "metadata": {},
     "output_type": "execute_result"
    }
   ],
   "source": [
    "train_SVMClassifier(C = 1.0, kernel = 'sigmoid')"
   ]
  },
  {
   "cell_type": "code",
   "execution_count": 1003,
   "metadata": {},
   "outputs": [
    {
     "name": "stdout",
     "output_type": "stream",
     "text": [
      "              precision    recall  f1-score   support\n",
      "\n",
      "           0       0.93      0.78      0.85       107\n",
      "           1       0.56      0.83      0.67        36\n",
      "\n",
      "    accuracy                           0.79       143\n",
      "   macro avg       0.74      0.80      0.76       143\n",
      "weighted avg       0.84      0.79      0.80       143\n",
      "\n",
      "***************************************************\n",
      "training accuracy: 0.8274647887323944\n",
      "val accuracy: 0.7902097902097902\n",
      "***************************************************\n"
     ]
    },
    {
     "data": {
      "text/plain": [
       "SVC(C=10.0)"
      ]
     },
     "execution_count": 1003,
     "metadata": {},
     "output_type": "execute_result"
    }
   ],
   "source": [
    "train_SVMClassifier(C = 10.0, kernel = 'rbf')"
   ]
  },
  {
   "cell_type": "code",
   "execution_count": 1004,
   "metadata": {},
   "outputs": [
    {
     "name": "stdout",
     "output_type": "stream",
     "text": [
      "              precision    recall  f1-score   support\n",
      "\n",
      "           0       0.94      0.76      0.84       110\n",
      "           1       0.52      0.85      0.64        33\n",
      "\n",
      "    accuracy                           0.78       143\n",
      "   macro avg       0.73      0.81      0.74       143\n",
      "weighted avg       0.85      0.78      0.80       143\n",
      "\n",
      "***************************************************\n",
      "training accuracy: 0.8433098591549296\n",
      "val accuracy: 0.7832167832167832\n",
      "***************************************************\n"
     ]
    },
    {
     "data": {
      "text/plain": [
       "SVC(C=100.0)"
      ]
     },
     "execution_count": 1004,
     "metadata": {},
     "output_type": "execute_result"
    }
   ],
   "source": [
    "train_SVMClassifier(C = 100.0, kernel = 'rbf')"
   ]
  },
  {
   "cell_type": "code",
   "execution_count": 1005,
   "metadata": {},
   "outputs": [
    {
     "name": "stdout",
     "output_type": "stream",
     "text": [
      "              precision    recall  f1-score   support\n",
      "\n",
      "           0       0.93      0.77      0.84       108\n",
      "           1       0.54      0.83      0.65        35\n",
      "\n",
      "    accuracy                           0.78       143\n",
      "   macro avg       0.73      0.80      0.75       143\n",
      "weighted avg       0.84      0.78      0.80       143\n",
      "\n",
      "***************************************************\n",
      "training accuracy: 0.8221830985915493\n",
      "val accuracy: 0.7832167832167832\n",
      "***************************************************\n"
     ]
    },
    {
     "data": {
      "text/plain": [
       "SVC(C=5.0)"
      ]
     },
     "execution_count": 1005,
     "metadata": {},
     "output_type": "execute_result"
    }
   ],
   "source": [
    "train_SVMClassifier(C = 5.0, kernel = 'rbf')"
   ]
  },
  {
   "cell_type": "code",
   "execution_count": 1006,
   "metadata": {},
   "outputs": [
    {
     "name": "stdout",
     "output_type": "stream",
     "text": [
      "              precision    recall  f1-score   support\n",
      "\n",
      "           0       0.94      0.77      0.85       109\n",
      "           1       0.54      0.85      0.66        34\n",
      "\n",
      "    accuracy                           0.79       143\n",
      "   macro avg       0.74      0.81      0.75       143\n",
      "weighted avg       0.85      0.79      0.80       143\n",
      "\n",
      "***************************************************\n",
      "training accuracy: 0.8257042253521126\n",
      "val accuracy: 0.7902097902097902\n",
      "***************************************************\n"
     ]
    },
    {
     "data": {
      "text/plain": [
       "SVC(C=2.0)"
      ]
     },
     "execution_count": 1006,
     "metadata": {},
     "output_type": "execute_result"
    }
   ],
   "source": [
    "train_SVMClassifier(C = 2.0, kernel = 'rbf')"
   ]
  },
  {
   "cell_type": "code",
   "execution_count": 1101,
   "metadata": {},
   "outputs": [
    {
     "name": "stdout",
     "output_type": "stream",
     "text": [
      "              precision    recall  f1-score   support\n",
      "\n",
      "           0       0.97      0.77      0.86       111\n",
      "           1       0.54      0.91      0.67        32\n",
      "\n",
      "    accuracy                           0.80       143\n",
      "   macro avg       0.75      0.84      0.77       143\n",
      "weighted avg       0.87      0.80      0.82       143\n",
      "\n",
      "***************************************************\n",
      "training accuracy: 0.8151408450704225\n",
      "val accuracy: 0.8041958041958042\n",
      "***************************************************\n"
     ]
    }
   ],
   "source": [
    "best_SVMClassifier = train_SVMClassifier(C = 1, kernel = 'rbf')"
   ]
  },
  {
   "cell_type": "code",
   "execution_count": 1103,
   "metadata": {},
   "outputs": [
    {
     "data": {
      "text/plain": [
       "[\"best_SVMClassifier = train_SVMClassifier(C = 1, kernel = 'rbf').joblib\"]"
      ]
     },
     "execution_count": 1103,
     "metadata": {},
     "output_type": "execute_result"
    }
   ],
   "source": [
    "dump(best_SVMClassifier, \"best_SVMClassifier = train_SVMClassifier(C = 1, kernel = 'rbf').joblib\")"
   ]
  },
  {
   "cell_type": "markdown",
   "metadata": {},
   "source": [
    "## Entrenamiento de modelo de Naive Bayes\n"
   ]
  },
  {
   "cell_type": "code",
   "execution_count": 1048,
   "metadata": {},
   "outputs": [],
   "source": [
    "# First separate the dataset into two classes\n",
    "\n",
    "x_train_0 = X_train[y_train == 0]\n",
    "x_train_1 = X_train[y_train == 1]\n",
    "\n",
    "\n",
    "#def NaiveBayes classifier"
   ]
  },
  {
   "cell_type": "code",
   "execution_count": 454,
   "metadata": {},
   "outputs": [],
   "source": [
    "#x_train_0 = x_train_0.drop(columns = 'passenger_survived')\n",
    "#x_train_1 = x_train_1.drop(columns = 'passenger_survived')"
   ]
  },
  {
   "cell_type": "code",
   "execution_count": 1049,
   "metadata": {
    "scrolled": false
   },
   "outputs": [
    {
     "name": "stdout",
     "output_type": "stream",
     "text": [
      "Age              0.813336\n",
      "SibSp            0.013227\n",
      "Parch            0.008158\n",
      "Fare             0.456925\n",
      "passenger_sex    0.846154\n",
      "Lower_class      0.668639\n",
      "Middle_class     0.177515\n",
      "Upper_class      0.153846\n",
      "Embarked_C       0.139053\n",
      "Embarked_Q       0.076923\n",
      "Embarked_S       0.784024\n",
      "FamilySize       0.021386\n",
      "dtype: float64\n",
      "Age              0.249487\n",
      "SibSp            0.028649\n",
      "Parch            0.019791\n",
      "Fare             0.252619\n",
      "passenger_sex    0.360801\n",
      "Lower_class      0.470703\n",
      "Middle_class     0.382104\n",
      "Upper_class      0.360801\n",
      "Embarked_C       0.346002\n",
      "Embarked_Q       0.266469\n",
      "Embarked_S       0.411498\n",
      "FamilySize       0.041619\n",
      "dtype: float64\n"
     ]
    }
   ],
   "source": [
    "print(np.mean(x_train_0))\n",
    "\n",
    "print(np.std(x_train_0))"
   ]
  },
  {
   "cell_type": "code",
   "execution_count": 1050,
   "metadata": {},
   "outputs": [],
   "source": [
    "mean_0 = np.array(np.mean(x_train_0))\n",
    "sd_0 = np.array(np.std(x_train_0))\n",
    "\n",
    "summary_0 = np.stack((mean_0,sd_0), axis = 0)"
   ]
  },
  {
   "cell_type": "code",
   "execution_count": 1051,
   "metadata": {},
   "outputs": [
    {
     "name": "stdout",
     "output_type": "stream",
     "text": [
      "Age              0.613837\n",
      "SibSp            0.012797\n",
      "Parch            0.013650\n",
      "Fare             0.674767\n",
      "passenger_sex    0.286957\n",
      "Lower_class      0.330435\n",
      "Middle_class     0.282609\n",
      "Upper_class      0.386957\n",
      "Embarked_C       0.265217\n",
      "Embarked_Q       0.095652\n",
      "Embarked_S       0.639130\n",
      "FamilySize       0.026446\n",
      "dtype: float64\n",
      "Age              0.307121\n",
      "SibSp            0.024536\n",
      "Parch            0.024950\n",
      "Fare             0.263798\n",
      "passenger_sex    0.452341\n",
      "Lower_class      0.470370\n",
      "Middle_class     0.450268\n",
      "Upper_class      0.487054\n",
      "Embarked_C       0.441449\n",
      "Embarked_Q       0.294114\n",
      "Embarked_S       0.480253\n",
      "FamilySize       0.041317\n",
      "dtype: float64\n"
     ]
    }
   ],
   "source": [
    "print(np.mean(x_train_1))\n",
    "\n",
    "print(np.std(x_train_1))"
   ]
  },
  {
   "cell_type": "code",
   "execution_count": 1052,
   "metadata": {},
   "outputs": [],
   "source": [
    "mean_1 = np.array(np.mean(x_train_1))\n",
    "sd_1 = np.array(np.std(x_train_1))\n",
    "\n",
    "summary_1 = np.stack((mean_1,sd_1), axis = 0)"
   ]
  },
  {
   "cell_type": "code",
   "execution_count": 1053,
   "metadata": {},
   "outputs": [],
   "source": [
    "summary_0 = summary_0.T\n",
    "summary_1 = summary_1.T"
   ]
  },
  {
   "cell_type": "code",
   "execution_count": 1054,
   "metadata": {
    "scrolled": true
   },
   "outputs": [],
   "source": [
    "\n",
    "output_array_0 = []\n",
    "output_array_1 = []\n",
    "\n",
    "for i in range(0, summary_0.shape[0]):\n",
    "\n",
    "    predictions_0 = norm(summary_0[i][0], summary_0[i][1]).cdf(X_train.iloc[:, [i]])\n",
    "    predictions_1 = norm(summary_1[i][0], summary_1[i][1]).cdf(X_train.iloc[:, [i]])\n",
    "    output_array_0.append(predictions_0)\n",
    "    output_array_1.append(predictions_1)\n",
    "    \n",
    "x_0_probabilities = np.array(output_array_0).T.squeeze()\n",
    "x_1_probabilities = np.array(output_array_1).T.squeeze()"
   ]
  },
  {
   "cell_type": "code",
   "execution_count": 1055,
   "metadata": {},
   "outputs": [],
   "source": [
    "prob_class_0 = (1-np.mean(y_train))\n",
    "prob_class_1 = np.mean(y_train)"
   ]
  },
  {
   "cell_type": "code",
   "execution_count": 1056,
   "metadata": {},
   "outputs": [
    {
     "data": {
      "text/plain": [
       "(568, 1)"
      ]
     },
     "execution_count": 1056,
     "metadata": {},
     "output_type": "execute_result"
    }
   ],
   "source": [
    "np.full_like(x_0_probabilities[:,0],prob_class_0).reshape(-1,1).shape"
   ]
  },
  {
   "cell_type": "code",
   "execution_count": 1057,
   "metadata": {
    "scrolled": false
   },
   "outputs": [],
   "source": [
    "x_0 = np.concatenate((x_0_probabilities, np.full_like(x_0_probabilities[:,0],prob_class_0).reshape(-1,1)), axis = 1)"
   ]
  },
  {
   "cell_type": "code",
   "execution_count": null,
   "metadata": {},
   "outputs": [],
   "source": []
  },
  {
   "cell_type": "code",
   "execution_count": 1058,
   "metadata": {},
   "outputs": [],
   "source": [
    "x_1 = np.concatenate((x_1_probabilities, np.full_like(x_1_probabilities[:,0],prob_class_1).reshape(-1,1)), axis = 1)"
   ]
  },
  {
   "cell_type": "code",
   "execution_count": 1059,
   "metadata": {},
   "outputs": [],
   "source": [
    "y_0 = np.prod(x_0, axis = 1).reshape(-1,1)\n",
    "y_1 = np.prod(x_1, axis = 1).reshape(-1,1)"
   ]
  },
  {
   "cell_type": "code",
   "execution_count": 1060,
   "metadata": {},
   "outputs": [],
   "source": [
    "y_0_1 = np.concatenate((y_0, y_1), axis = 1)"
   ]
  },
  {
   "cell_type": "code",
   "execution_count": 1061,
   "metadata": {},
   "outputs": [],
   "source": [
    "predictions = np.argmax(y_0_1, axis = 1)"
   ]
  },
  {
   "cell_type": "code",
   "execution_count": 1062,
   "metadata": {},
   "outputs": [],
   "source": [
    "accuracy = np.mean(predictions == y_train)"
   ]
  },
  {
   "cell_type": "code",
   "execution_count": 1063,
   "metadata": {},
   "outputs": [
    {
     "data": {
      "text/plain": [
       "0.7517605633802817"
      ]
     },
     "execution_count": 1063,
     "metadata": {},
     "output_type": "execute_result"
    }
   ],
   "source": [
    "accuracy"
   ]
  },
  {
   "cell_type": "code",
   "execution_count": 1064,
   "metadata": {},
   "outputs": [],
   "source": [
    "def train_NaiveBayesClassifier(X_train):\n",
    "    \n",
    "    string = \"_\"\n",
    "\n",
    "    for i in X_train.columns:\n",
    "        column = str(i) + \"-\"\n",
    "    \n",
    "        string += column\n",
    "    \n",
    "    train_str = 'experiments/'+\"NaiveBayes_\"+datetime.datetime.now().strftime(\"%Y%m%d-%H%M%S\") + string\n",
    "     \n",
    "    dirlog = tensorboard_logger.Logger(train_str)\n",
    "    \n",
    "    \n",
    "    x_train_0 = X_train[y_train == 0]\n",
    "    x_train_1 = X_train[y_train == 1]\n",
    "    \n",
    "    # Calcular media y sd para clase 0 \n",
    "    mean_0 = np.array(np.mean(x_train_0))\n",
    "    sd_0 = np.array(np.std(x_train_0))\n",
    "    summary_0 = np.stack((mean_0,sd_0), axis = 0)\n",
    "    \n",
    "    # Calulcar media y sd para clase 1\n",
    "    mean_1 = np.array(np.mean(x_train_1))\n",
    "    sd_1 = np.array(np.std(x_train_1))\n",
    "    summary_1 = np.stack((mean_1,sd_1), axis = 0)\n",
    "    \n",
    "    # Se calculan transpuestos\n",
    "    summary_0 = summary_0.T\n",
    "    summary_1 = summary_1.T\n",
    "    \n",
    "    output_array_0 = []\n",
    "    output_array_1 = []\n",
    "\n",
    "    for i in range(0, summary_0.shape[0]):\n",
    "\n",
    "        predictions_0 = norm(summary_0[i][0], summary_0[i][1]).cdf(X_train.iloc[:, [i]])\n",
    "        predictions_1 = norm(summary_1[i][0], summary_1[i][1]).cdf(X_train.iloc[:, [i]])\n",
    "        output_array_0.append(predictions_0)\n",
    "        output_array_1.append(predictions_1)\n",
    "    \n",
    "    x_0_probabilities = np.array(output_array_0).T.squeeze()\n",
    "    x_1_probabilities = np.array(output_array_1).T.squeeze()\n",
    "    \n",
    "    prob_class_0 = (1-np.mean(y_train))\n",
    "    prob_class_1 = np.mean(y_train)\n",
    "    \n",
    "    x_0 = np.concatenate((x_0_probabilities, np.full_like(x_0_probabilities[:,0],prob_class_0).reshape(-1,1)), axis = 1)\n",
    "    x_1 = np.concatenate((x_1_probabilities, np.full_like(x_1_probabilities[:,0],prob_class_1).reshape(-1,1)), axis = 1)\n",
    "    \n",
    "    y_0 = np.prod(x_0, axis = 1).reshape(-1,1)\n",
    "    y_1 = np.prod(x_1, axis = 1).reshape(-1,1)\n",
    "    \n",
    "    y_0_1 = np.concatenate((y_0, y_1), axis = 1)\n",
    "    \n",
    "    predictions = np.argmax(y_0_1, axis = 1)\n",
    "    \n",
    "    accuracy = np.mean(predictions == y_train)\n",
    "    \n",
    "    # Validation set\n",
    "    \n",
    "    output_array_0_val = []\n",
    "    output_array_1_val = []\n",
    "\n",
    "    for i in range(0, summary_0.shape[0]):\n",
    "\n",
    "        predictions_0_val = norm(summary_0[i][0], summary_0[i][1]).cdf(X_val.iloc[:, [i]])\n",
    "        predictions_1_val = norm(summary_1[i][0], summary_1[i][1]).cdf(X_val.iloc[:, [i]])\n",
    "        output_array_0_val.append(predictions_0_val)\n",
    "        output_array_1_val.append(predictions_1_val)\n",
    "    \n",
    "    x_0_probabilities_val = np.array(output_array_0_val).T.squeeze()\n",
    "    x_1_probabilities_val = np.array(output_array_1_val).T.squeeze()\n",
    "    \n",
    "    x_0_val = np.concatenate((x_0_probabilities_val, np.full_like(x_0_probabilities_val[:,0],prob_class_0).reshape(-1,1)), axis = 1)\n",
    "    x_1_val = np.concatenate((x_1_probabilities_val, np.full_like(x_1_probabilities_val[:,0],prob_class_1).reshape(-1,1)), axis = 1)\n",
    "    \n",
    "    y_0_val = np.prod(x_0_val, axis = 1).reshape(-1,1)\n",
    "    y_1_val = np.prod(x_1_val, axis = 1).reshape(-1,1)\n",
    "    \n",
    "    y_0_1_val = np.concatenate((y_0_val, y_1_val), axis = 1)\n",
    "    \n",
    "    predictions_val = np.argmax(y_0_1_val, axis = 1)\n",
    "    \n",
    "    accuracy_val = np.mean(predictions_val == y_val)\n",
    "    \n",
    "    dirlog.log_value('train_accuracy', accuracy, 1)\n",
    "    dirlog.log_value('val_accuracy', accuracy_val, 1)\n",
    "    \n",
    "    print(train_str)\n",
    "    print(classification_report(predictions_val, y_val))\n",
    "    print(\"***************************************************\")\n",
    "    print(\"training accuracy:\", accuracy)\n",
    "    print(\"validation accuracy:\", accuracy_val)\n",
    "    print(\"***************************************************\")\n",
    "    \n",
    "    dictionary = {\"likelihoods_0\": summary_0, \"likelihoods_1\": summary_1}\n",
    "    \n",
    "    \n",
    "    return dictionary , predictions"
   ]
  },
  {
   "cell_type": "code",
   "execution_count": 1065,
   "metadata": {},
   "outputs": [
    {
     "name": "stdout",
     "output_type": "stream",
     "text": [
      "experiments/NaiveBayes_20200629-174416_Age-SibSp-Parch-Fare-passenger_sex-Lower_class-Middle_class-Upper_class-Embarked_C-Embarked_Q-Embarked_S-FamilySize-\n",
      "              precision    recall  f1-score   support\n",
      "\n",
      "           0       0.65      0.91      0.76        64\n",
      "           1       0.89      0.61      0.72        79\n",
      "\n",
      "    accuracy                           0.74       143\n",
      "   macro avg       0.77      0.76      0.74       143\n",
      "weighted avg       0.78      0.74      0.74       143\n",
      "\n",
      "***************************************************\n",
      "training accuracy: 0.7517605633802817\n",
      "validation accuracy: 0.7412587412587412\n",
      "***************************************************\n"
     ]
    }
   ],
   "source": [
    "_, _ = train_NaiveBayesClassifier(X_train)"
   ]
  },
  {
   "cell_type": "code",
   "execution_count": 1066,
   "metadata": {},
   "outputs": [
    {
     "name": "stdout",
     "output_type": "stream",
     "text": [
      "experiments/NaiveBayes_20200629-174422_SibSp-Parch-Fare-passenger_sex-Lower_class-Middle_class-Upper_class-Embarked_C-Embarked_Q-Embarked_S-FamilySize-\n",
      "              precision    recall  f1-score   support\n",
      "\n",
      "           0       0.52      0.55      0.53        83\n",
      "           1       0.31      0.28      0.30        60\n",
      "\n",
      "    accuracy                           0.44       143\n",
      "   macro avg       0.42      0.42      0.42       143\n",
      "weighted avg       0.43      0.44      0.44       143\n",
      "\n",
      "***************************************************\n",
      "training accuracy: 0.7711267605633803\n",
      "validation accuracy: 0.4405594405594406\n",
      "***************************************************\n"
     ]
    }
   ],
   "source": [
    "_, _ = train_NaiveBayesClassifier(X_train.drop(columns = 'Age'))"
   ]
  },
  {
   "cell_type": "code",
   "execution_count": 1067,
   "metadata": {},
   "outputs": [
    {
     "name": "stdout",
     "output_type": "stream",
     "text": [
      "experiments/NaiveBayes_20200629-174426_SibSp-Parch-Fare-passenger_sex-Lower_class-Middle_class-Upper_class-Embarked_C-Embarked_Q-Embarked_S-FamilySize-\n",
      "              precision    recall  f1-score   support\n",
      "\n",
      "           0       0.52      0.55      0.53        83\n",
      "           1       0.31      0.28      0.30        60\n",
      "\n",
      "    accuracy                           0.44       143\n",
      "   macro avg       0.42      0.42      0.42       143\n",
      "weighted avg       0.43      0.44      0.44       143\n",
      "\n",
      "***************************************************\n",
      "training accuracy: 0.7711267605633803\n",
      "validation accuracy: 0.4405594405594406\n",
      "***************************************************\n",
      "experiments/NaiveBayes_20200629-174426_Age-Parch-Fare-passenger_sex-Lower_class-Middle_class-Upper_class-Embarked_C-Embarked_Q-Embarked_S-FamilySize-\n",
      "              precision    recall  f1-score   support\n",
      "\n",
      "           0       0.29      0.72      0.42        36\n",
      "           1       0.81      0.41      0.55       107\n",
      "\n",
      "    accuracy                           0.49       143\n",
      "   macro avg       0.55      0.57      0.48       143\n",
      "weighted avg       0.68      0.49      0.51       143\n",
      "\n",
      "***************************************************\n",
      "training accuracy: 0.7517605633802817\n",
      "validation accuracy: 0.48951048951048953\n",
      "***************************************************\n",
      "experiments/NaiveBayes_20200629-174426_Age-SibSp-Fare-passenger_sex-Lower_class-Middle_class-Upper_class-Embarked_C-Embarked_Q-Embarked_S-FamilySize-\n",
      "              precision    recall  f1-score   support\n",
      "\n",
      "           0       0.22      0.71      0.34        28\n",
      "           1       0.85      0.40      0.54       115\n",
      "\n",
      "    accuracy                           0.46       143\n",
      "   macro avg       0.54      0.56      0.44       143\n",
      "weighted avg       0.73      0.46      0.50       143\n",
      "\n",
      "***************************************************\n",
      "training accuracy: 0.7394366197183099\n",
      "validation accuracy: 0.46153846153846156\n",
      "***************************************************\n",
      "experiments/NaiveBayes_20200629-174426_Age-SibSp-Parch-passenger_sex-Lower_class-Middle_class-Upper_class-Embarked_C-Embarked_Q-Embarked_S-FamilySize-\n",
      "              precision    recall  f1-score   support\n",
      "\n",
      "           0       0.00      0.00      0.00         0\n",
      "           1       1.00      0.38      0.55       143\n",
      "\n",
      "    accuracy                           0.38       143\n",
      "   macro avg       0.50      0.19      0.27       143\n",
      "weighted avg       1.00      0.38      0.55       143\n",
      "\n",
      "***************************************************\n",
      "training accuracy: 0.6109154929577465\n",
      "validation accuracy: 0.3776223776223776\n",
      "***************************************************\n",
      "experiments/NaiveBayes_20200629-174426_Age-SibSp-Parch-Fare-Lower_class-Middle_class-Upper_class-Embarked_C-Embarked_Q-Embarked_S-FamilySize-\n"
     ]
    },
    {
     "name": "stderr",
     "output_type": "stream",
     "text": [
      "C:\\Users\\USUARIO\\anaconda3\\lib\\site-packages\\sklearn\\metrics\\_classification.py:1221: UndefinedMetricWarning: Recall and F-score are ill-defined and being set to 0.0 in labels with no true samples. Use `zero_division` parameter to control this behavior.\n",
      "  _warn_prf(average, modifier, msg_start, len(result))\n"
     ]
    },
    {
     "name": "stdout",
     "output_type": "stream",
     "text": [
      "              precision    recall  f1-score   support\n",
      "\n",
      "           0       0.69      0.80      0.74        76\n",
      "           1       0.72      0.58      0.64        67\n",
      "\n",
      "    accuracy                           0.70       143\n",
      "   macro avg       0.70      0.69      0.69       143\n",
      "weighted avg       0.70      0.70      0.69       143\n",
      "\n",
      "***************************************************\n",
      "training accuracy: 0.7059859154929577\n",
      "validation accuracy: 0.6993006993006993\n",
      "***************************************************\n",
      "experiments/NaiveBayes_20200629-174426_Age-SibSp-Parch-Fare-passenger_sex-Middle_class-Upper_class-Embarked_C-Embarked_Q-Embarked_S-FamilySize-\n",
      "              precision    recall  f1-score   support\n",
      "\n",
      "           0       0.65      0.88      0.75        66\n",
      "           1       0.85      0.60      0.70        77\n",
      "\n",
      "    accuracy                           0.73       143\n",
      "   macro avg       0.75      0.74      0.73       143\n",
      "weighted avg       0.76      0.73      0.72       143\n",
      "\n",
      "***************************************************\n",
      "training accuracy: 0.772887323943662\n",
      "validation accuracy: 0.7272727272727273\n",
      "***************************************************\n",
      "experiments/NaiveBayes_20200629-174426_Age-SibSp-Parch-Fare-passenger_sex-Lower_class-Upper_class-Embarked_C-Embarked_Q-Embarked_S-FamilySize-\n",
      "              precision    recall  f1-score   support\n",
      "\n",
      "           0       0.44      0.89      0.59        44\n",
      "           1       0.91      0.49      0.64        99\n",
      "\n",
      "    accuracy                           0.62       143\n",
      "   macro avg       0.67      0.69      0.61       143\n",
      "weighted avg       0.76      0.62      0.62       143\n",
      "\n",
      "***************************************************\n",
      "training accuracy: 0.7411971830985915\n",
      "validation accuracy: 0.6153846153846154\n",
      "***************************************************\n",
      "experiments/NaiveBayes_20200629-174427_Age-SibSp-Parch-Fare-passenger_sex-Lower_class-Middle_class-Embarked_C-Embarked_Q-Embarked_S-FamilySize-\n",
      "              precision    recall  f1-score   support\n",
      "\n",
      "           0       0.40      0.90      0.56        40\n",
      "           1       0.93      0.49      0.64       103\n",
      "\n",
      "    accuracy                           0.60       143\n",
      "   macro avg       0.67      0.69      0.60       143\n",
      "weighted avg       0.78      0.60      0.61       143\n",
      "\n",
      "***************************************************\n",
      "training accuracy: 0.7183098591549296\n",
      "validation accuracy: 0.6013986013986014\n",
      "***************************************************\n",
      "experiments/NaiveBayes_20200629-174427_Age-SibSp-Parch-Fare-passenger_sex-Lower_class-Middle_class-Upper_class-Embarked_Q-Embarked_S-FamilySize-\n",
      "              precision    recall  f1-score   support\n",
      "\n",
      "           0       0.44      0.89      0.59        44\n",
      "           1       0.91      0.49      0.64        99\n",
      "\n",
      "    accuracy                           0.62       143\n",
      "   macro avg       0.67      0.69      0.61       143\n",
      "weighted avg       0.76      0.62      0.62       143\n",
      "\n",
      "***************************************************\n",
      "training accuracy: 0.7341549295774648\n",
      "validation accuracy: 0.6153846153846154\n",
      "***************************************************\n",
      "experiments/NaiveBayes_20200629-174427_Age-SibSp-Parch-Fare-passenger_sex-Lower_class-Middle_class-Upper_class-Embarked_C-Embarked_S-FamilySize-\n",
      "              precision    recall  f1-score   support\n",
      "\n",
      "           0       0.45      0.89      0.60        45\n",
      "           1       0.91      0.50      0.64        98\n",
      "\n",
      "    accuracy                           0.62       143\n",
      "   macro avg       0.68      0.69      0.62       143\n",
      "weighted avg       0.76      0.62      0.63       143\n",
      "\n",
      "***************************************************\n",
      "training accuracy: 0.75\n",
      "validation accuracy: 0.6223776223776224\n",
      "***************************************************\n",
      "experiments/NaiveBayes_20200629-174427_Age-SibSp-Parch-Fare-passenger_sex-Lower_class-Middle_class-Upper_class-Embarked_C-Embarked_Q-FamilySize-\n",
      "              precision    recall  f1-score   support\n",
      "\n",
      "           0       0.67      0.90      0.77        67\n",
      "           1       0.87      0.62      0.72        76\n",
      "\n",
      "    accuracy                           0.75       143\n",
      "   macro avg       0.77      0.76      0.75       143\n",
      "weighted avg       0.78      0.75      0.74       143\n",
      "\n",
      "***************************************************\n",
      "training accuracy: 0.75\n",
      "validation accuracy: 0.7482517482517482\n",
      "***************************************************\n",
      "experiments/NaiveBayes_20200629-174427_Age-SibSp-Parch-Fare-passenger_sex-Lower_class-Middle_class-Upper_class-Embarked_C-Embarked_Q-Embarked_S-\n",
      "              precision    recall  f1-score   support\n",
      "\n",
      "           0       0.64      0.90      0.75        63\n",
      "           1       0.89      0.60      0.72        80\n",
      "\n",
      "    accuracy                           0.73       143\n",
      "   macro avg       0.76      0.75      0.73       143\n",
      "weighted avg       0.78      0.73      0.73       143\n",
      "\n",
      "***************************************************\n",
      "training accuracy: 0.7447183098591549\n",
      "validation accuracy: 0.7342657342657343\n",
      "***************************************************\n"
     ]
    }
   ],
   "source": [
    "for i in X_train.columns:\n",
    "    _, _ = train_NaiveBayesClassifier(X_train.drop(columns = i))"
   ]
  },
  {
   "cell_type": "code",
   "execution_count": 1068,
   "metadata": {},
   "outputs": [
    {
     "name": "stdout",
     "output_type": "stream",
     "text": [
      "experiments/NaiveBayes_20200629-174456_Age-SibSp-Parch-Fare-passenger_sex-Lower_class-Middle_class-Upper_class-Embarked_C-Embarked_Q-FamilySize-\n",
      "              precision    recall  f1-score   support\n",
      "\n",
      "           0       0.67      0.90      0.77        67\n",
      "           1       0.87      0.62      0.72        76\n",
      "\n",
      "    accuracy                           0.75       143\n",
      "   macro avg       0.77      0.76      0.75       143\n",
      "weighted avg       0.78      0.75      0.74       143\n",
      "\n",
      "***************************************************\n",
      "training accuracy: 0.75\n",
      "validation accuracy: 0.7482517482517482\n",
      "***************************************************\n"
     ]
    }
   ],
   "source": [
    "best_naivebayes_0, _ = train_NaiveBayesClassifier(X_train.drop(columns = 'Embarked_S'))"
   ]
  },
  {
   "cell_type": "code",
   "execution_count": 1069,
   "metadata": {},
   "outputs": [
    {
     "name": "stdout",
     "output_type": "stream",
     "text": [
      "experiments/NaiveBayes_20200629-174459_SibSp-Parch-Fare-passenger_sex-Lower_class-Middle_class-Upper_class-Embarked_C-Embarked_Q-FamilySize-\n",
      "              precision    recall  f1-score   support\n",
      "\n",
      "           0       0.96      0.62      0.76       136\n",
      "           1       0.06      0.43      0.10         7\n",
      "\n",
      "    accuracy                           0.62       143\n",
      "   macro avg       0.51      0.53      0.43       143\n",
      "weighted avg       0.91      0.62      0.72       143\n",
      "\n",
      "***************************************************\n",
      "training accuracy: 0.7922535211267606\n",
      "validation accuracy: 0.6153846153846154\n",
      "***************************************************\n",
      "experiments/NaiveBayes_20200629-174459_Age-Parch-Fare-passenger_sex-Lower_class-Middle_class-Upper_class-Embarked_C-Embarked_Q-FamilySize-\n",
      "              precision    recall  f1-score   support\n",
      "\n",
      "           0       0.87      0.69      0.77       112\n",
      "           1       0.35      0.61      0.45        31\n",
      "\n",
      "    accuracy                           0.67       143\n",
      "   macro avg       0.61      0.65      0.61       143\n",
      "weighted avg       0.75      0.67      0.70       143\n",
      "\n",
      "***************************************************\n",
      "training accuracy: 0.7517605633802817\n",
      "validation accuracy: 0.6713286713286714\n",
      "***************************************************\n",
      "experiments/NaiveBayes_20200629-174459_Age-SibSp-Fare-passenger_sex-Lower_class-Middle_class-Upper_class-Embarked_C-Embarked_Q-FamilySize-\n",
      "              precision    recall  f1-score   support\n",
      "\n",
      "           0       0.87      0.71      0.78       108\n",
      "           1       0.43      0.66      0.52        35\n",
      "\n",
      "    accuracy                           0.70       143\n",
      "   macro avg       0.65      0.69      0.65       143\n",
      "weighted avg       0.76      0.70      0.72       143\n",
      "\n",
      "***************************************************\n",
      "training accuracy: 0.7517605633802817\n",
      "validation accuracy: 0.6993006993006993\n",
      "***************************************************\n",
      "experiments/NaiveBayes_20200629-174459_Age-SibSp-Parch-passenger_sex-Lower_class-Middle_class-Upper_class-Embarked_C-Embarked_Q-FamilySize-\n",
      "              precision    recall  f1-score   support\n",
      "\n",
      "           0       0.00      0.00      0.00         0\n",
      "           1       1.00      0.38      0.55       143\n",
      "\n",
      "    accuracy                           0.38       143\n",
      "   macro avg       0.50      0.19      0.27       143\n",
      "weighted avg       1.00      0.38      0.55       143\n",
      "\n",
      "***************************************************\n",
      "training accuracy: 0.6619718309859155\n",
      "validation accuracy: 0.3776223776223776\n",
      "***************************************************\n",
      "experiments/NaiveBayes_20200629-174459_Age-SibSp-Parch-Fare-Lower_class-Middle_class-Upper_class-Embarked_C-Embarked_Q-FamilySize-\n",
      "              precision    recall  f1-score   support\n",
      "\n",
      "           0       0.87      0.71      0.78       108\n",
      "           1       0.43      0.66      0.52        35\n",
      "\n",
      "    accuracy                           0.70       143\n",
      "   macro avg       0.65      0.69      0.65       143\n",
      "weighted avg       0.76      0.70      0.72       143\n",
      "\n",
      "***************************************************\n",
      "training accuracy: 0.6936619718309859\n",
      "validation accuracy: 0.6993006993006993\n",
      "***************************************************\n",
      "experiments/NaiveBayes_20200629-174459_Age-SibSp-Parch-Fare-passenger_sex-Middle_class-Upper_class-Embarked_C-Embarked_Q-FamilySize-\n",
      "              precision    recall  f1-score   support\n",
      "\n",
      "           0       0.75      0.85      0.80        79\n",
      "           1       0.78      0.66      0.71        64\n",
      "\n",
      "    accuracy                           0.76       143\n",
      "   macro avg       0.77      0.75      0.75       143\n",
      "weighted avg       0.76      0.76      0.76       143\n",
      "\n",
      "***************************************************\n",
      "training accuracy: 0.7799295774647887\n",
      "validation accuracy: 0.7622377622377622\n",
      "***************************************************\n",
      "experiments/NaiveBayes_20200629-174459_Age-SibSp-Parch-Fare-passenger_sex-Lower_class-Upper_class-Embarked_C-Embarked_Q-FamilySize-\n",
      "              precision    recall  f1-score   support\n",
      "\n",
      "           0       0.69      0.88      0.77        69\n",
      "           1       0.85      0.62      0.72        74\n",
      "\n",
      "    accuracy                           0.75       143\n",
      "   macro avg       0.77      0.75      0.75       143\n",
      "weighted avg       0.77      0.75      0.74       143\n",
      "\n",
      "***************************************************\n",
      "training accuracy: 0.7535211267605634\n",
      "validation accuracy: 0.7482517482517482\n",
      "***************************************************\n",
      "experiments/NaiveBayes_20200629-174459_Age-SibSp-Parch-Fare-passenger_sex-Lower_class-Middle_class-Embarked_C-Embarked_Q-FamilySize-\n",
      "              precision    recall  f1-score   support\n",
      "\n",
      "           0       0.66      0.89      0.76        66\n",
      "           1       0.87      0.61      0.72        77\n",
      "\n",
      "    accuracy                           0.74       143\n",
      "   macro avg       0.77      0.75      0.74       143\n",
      "weighted avg       0.77      0.74      0.74       143\n",
      "\n",
      "***************************************************\n",
      "training accuracy: 0.727112676056338\n",
      "validation accuracy: 0.7412587412587412\n",
      "***************************************************\n",
      "experiments/NaiveBayes_20200629-174500_Age-SibSp-Parch-Fare-passenger_sex-Lower_class-Middle_class-Upper_class-Embarked_Q-FamilySize-\n",
      "              precision    recall  f1-score   support\n",
      "\n",
      "           0       0.67      0.90      0.77        67\n",
      "           1       0.87      0.62      0.72        76\n",
      "\n",
      "    accuracy                           0.75       143\n",
      "   macro avg       0.77      0.76      0.75       143\n",
      "weighted avg       0.78      0.75      0.74       143\n",
      "\n",
      "***************************************************\n",
      "training accuracy: 0.7535211267605634\n",
      "validation accuracy: 0.7482517482517482\n",
      "***************************************************\n",
      "experiments/NaiveBayes_20200629-174500_Age-SibSp-Parch-Fare-passenger_sex-Lower_class-Middle_class-Upper_class-Embarked_C-FamilySize-\n",
      "              precision    recall  f1-score   support\n",
      "\n",
      "           0       0.67      0.88      0.76        68\n",
      "           1       0.85      0.61      0.71        75\n",
      "\n",
      "    accuracy                           0.74       143\n",
      "   macro avg       0.76      0.75      0.74       143\n",
      "weighted avg       0.77      0.74      0.74       143\n",
      "\n",
      "***************************************************\n",
      "training accuracy: 0.75\n",
      "validation accuracy: 0.7412587412587412\n",
      "***************************************************\n",
      "experiments/NaiveBayes_20200629-174500_Age-SibSp-Parch-Fare-passenger_sex-Lower_class-Middle_class-Upper_class-Embarked_C-Embarked_Q-\n",
      "              precision    recall  f1-score   support\n",
      "\n",
      "           0       0.67      0.90      0.77        67\n",
      "           1       0.87      0.62      0.72        76\n",
      "\n",
      "    accuracy                           0.75       143\n",
      "   macro avg       0.77      0.76      0.75       143\n",
      "weighted avg       0.78      0.75      0.74       143\n",
      "\n",
      "***************************************************\n",
      "training accuracy: 0.7517605633802817\n",
      "validation accuracy: 0.7482517482517482\n",
      "***************************************************\n"
     ]
    }
   ],
   "source": [
    "for i in X_train.drop(columns = 'Embarked_S').columns:\n",
    "    _, _ = train_NaiveBayesClassifier(X_train.drop(columns = ['Embarked_S',i]))"
   ]
  },
  {
   "cell_type": "code",
   "execution_count": 1070,
   "metadata": {},
   "outputs": [
    {
     "name": "stdout",
     "output_type": "stream",
     "text": [
      "experiments/NaiveBayes_20200629-174526_Age-SibSp-Parch-Fare-passenger_sex-Middle_class-Upper_class-Embarked_C-Embarked_Q-FamilySize-\n",
      "              precision    recall  f1-score   support\n",
      "\n",
      "           0       0.75      0.85      0.80        79\n",
      "           1       0.78      0.66      0.71        64\n",
      "\n",
      "    accuracy                           0.76       143\n",
      "   macro avg       0.77      0.75      0.75       143\n",
      "weighted avg       0.76      0.76      0.76       143\n",
      "\n",
      "***************************************************\n",
      "training accuracy: 0.7799295774647887\n",
      "validation accuracy: 0.7622377622377622\n",
      "***************************************************\n"
     ]
    }
   ],
   "source": [
    "best_naivebayes_1, _ = train_NaiveBayesClassifier(X_train.drop(columns = ['Embarked_S', 'Lower_class']))"
   ]
  },
  {
   "cell_type": "code",
   "execution_count": 1071,
   "metadata": {},
   "outputs": [
    {
     "name": "stdout",
     "output_type": "stream",
     "text": [
      "experiments/NaiveBayes_20200629-174531_SibSp-Parch-Fare-passenger_sex-Middle_class-Upper_class-Embarked_C-Embarked_Q-FamilySize-\n",
      "              precision    recall  f1-score   support\n",
      "\n",
      "           0       0.97      0.61      0.75       140\n",
      "           1       0.00      0.00      0.00         3\n",
      "\n",
      "    accuracy                           0.60       143\n",
      "   macro avg       0.48      0.31      0.38       143\n",
      "weighted avg       0.95      0.60      0.74       143\n",
      "\n",
      "***************************************************\n",
      "training accuracy: 0.7922535211267606\n",
      "validation accuracy: 0.6013986013986014\n",
      "***************************************************\n",
      "experiments/NaiveBayes_20200629-174531_Age-Parch-Fare-passenger_sex-Middle_class-Upper_class-Embarked_C-Embarked_Q-FamilySize-\n",
      "              precision    recall  f1-score   support\n",
      "\n",
      "           0       0.91      0.63      0.75       128\n",
      "           1       0.13      0.47      0.20        15\n",
      "\n",
      "    accuracy                           0.62       143\n",
      "   macro avg       0.52      0.55      0.47       143\n",
      "weighted avg       0.83      0.62      0.69       143\n",
      "\n",
      "***************************************************\n",
      "training accuracy: 0.7764084507042254\n",
      "validation accuracy: 0.6153846153846154\n",
      "***************************************************\n",
      "experiments/NaiveBayes_20200629-174531_Age-SibSp-Fare-passenger_sex-Middle_class-Upper_class-Embarked_C-Embarked_Q-FamilySize-\n",
      "              precision    recall  f1-score   support\n",
      "\n",
      "           0       0.89      0.63      0.73       126\n",
      "           1       0.13      0.41      0.20        17\n",
      "\n",
      "    accuracy                           0.60       143\n",
      "   macro avg       0.51      0.52      0.47       143\n",
      "weighted avg       0.80      0.60      0.67       143\n",
      "\n",
      "***************************************************\n",
      "training accuracy: 0.7746478873239436\n",
      "validation accuracy: 0.6013986013986014\n",
      "***************************************************\n",
      "experiments/NaiveBayes_20200629-174531_Age-SibSp-Parch-passenger_sex-Middle_class-Upper_class-Embarked_C-Embarked_Q-FamilySize-\n",
      "              precision    recall  f1-score   support\n",
      "\n",
      "           0       0.00      0.00      0.00         3\n",
      "           1       0.94      0.36      0.53       140\n",
      "\n",
      "    accuracy                           0.36       143\n",
      "   macro avg       0.47      0.18      0.26       143\n",
      "weighted avg       0.92      0.36      0.51       143\n",
      "\n",
      "***************************************************\n",
      "training accuracy: 0.772887323943662\n",
      "validation accuracy: 0.35664335664335667\n",
      "***************************************************\n",
      "experiments/NaiveBayes_20200629-174531_Age-SibSp-Parch-Fare-Middle_class-Upper_class-Embarked_C-Embarked_Q-FamilySize-\n",
      "              precision    recall  f1-score   support\n",
      "\n",
      "           0       0.88      0.67      0.76       116\n",
      "           1       0.30      0.59      0.40        27\n",
      "\n",
      "    accuracy                           0.66       143\n",
      "   macro avg       0.59      0.63      0.58       143\n",
      "weighted avg       0.77      0.66      0.69       143\n",
      "\n",
      "***************************************************\n",
      "training accuracy: 0.6672535211267606\n",
      "validation accuracy: 0.6573426573426573\n",
      "***************************************************\n",
      "experiments/NaiveBayes_20200629-174531_Age-SibSp-Parch-Fare-passenger_sex-Upper_class-Embarked_C-Embarked_Q-FamilySize-\n",
      "              precision    recall  f1-score   support\n",
      "\n",
      "           0       0.74      0.85      0.79        78\n",
      "           1       0.78      0.65      0.71        65\n",
      "\n",
      "    accuracy                           0.76       143\n",
      "   macro avg       0.76      0.75      0.75       143\n",
      "weighted avg       0.76      0.76      0.75       143\n",
      "\n",
      "***************************************************\n",
      "training accuracy: 0.7746478873239436\n",
      "validation accuracy: 0.7552447552447552\n",
      "***************************************************\n",
      "experiments/NaiveBayes_20200629-174531_Age-SibSp-Parch-Fare-passenger_sex-Middle_class-Embarked_C-Embarked_Q-FamilySize-\n",
      "              precision    recall  f1-score   support\n",
      "\n",
      "           0       0.73      0.84      0.78        77\n",
      "           1       0.78      0.64      0.70        66\n",
      "\n",
      "    accuracy                           0.75       143\n",
      "   macro avg       0.75      0.74      0.74       143\n",
      "weighted avg       0.75      0.75      0.74       143\n",
      "\n",
      "***************************************************\n",
      "training accuracy: 0.778169014084507\n",
      "validation accuracy: 0.7482517482517482\n",
      "***************************************************\n",
      "experiments/NaiveBayes_20200629-174531_Age-SibSp-Parch-Fare-passenger_sex-Middle_class-Upper_class-Embarked_Q-FamilySize-\n",
      "              precision    recall  f1-score   support\n",
      "\n",
      "           0       0.74      0.85      0.79        78\n",
      "           1       0.78      0.65      0.71        65\n",
      "\n",
      "    accuracy                           0.76       143\n",
      "   macro avg       0.76      0.75      0.75       143\n",
      "weighted avg       0.76      0.76      0.75       143\n",
      "\n",
      "***************************************************\n",
      "training accuracy: 0.772887323943662\n",
      "validation accuracy: 0.7552447552447552\n",
      "***************************************************\n",
      "experiments/NaiveBayes_20200629-174531_Age-SibSp-Parch-Fare-passenger_sex-Middle_class-Upper_class-Embarked_C-FamilySize-\n",
      "              precision    recall  f1-score   support\n",
      "\n",
      "           0       0.74      0.85      0.79        78\n",
      "           1       0.78      0.65      0.71        65\n",
      "\n",
      "    accuracy                           0.76       143\n",
      "   macro avg       0.76      0.75      0.75       143\n",
      "weighted avg       0.76      0.76      0.75       143\n",
      "\n",
      "***************************************************\n",
      "training accuracy: 0.7799295774647887\n",
      "validation accuracy: 0.7552447552447552\n",
      "***************************************************\n",
      "experiments/NaiveBayes_20200629-174531_Age-SibSp-Parch-Fare-passenger_sex-Middle_class-Upper_class-Embarked_C-Embarked_Q-\n",
      "              precision    recall  f1-score   support\n",
      "\n",
      "           0       0.74      0.85      0.79        78\n",
      "           1       0.78      0.65      0.71        65\n",
      "\n",
      "    accuracy                           0.76       143\n",
      "   macro avg       0.76      0.75      0.75       143\n",
      "weighted avg       0.76      0.76      0.75       143\n",
      "\n",
      "***************************************************\n",
      "training accuracy: 0.7746478873239436\n",
      "validation accuracy: 0.7552447552447552\n",
      "***************************************************\n"
     ]
    }
   ],
   "source": [
    "for i in X_train.drop(columns = ['Embarked_S', 'Lower_class']).columns:\n",
    "    _, _ = train_NaiveBayesClassifier(X_train.drop(columns = ['Embarked_S', 'Lower_class',i]))"
   ]
  },
  {
   "cell_type": "code",
   "execution_count": 1072,
   "metadata": {},
   "outputs": [
    {
     "name": "stdout",
     "output_type": "stream",
     "text": [
      "experiments/NaiveBayes_20200629-174547_Age-SibSp-Parch-Fare-passenger_sex-Middle_class-Upper_class-Embarked_C-Embarked_Q-FamilySize-\n",
      "              precision    recall  f1-score   support\n",
      "\n",
      "           0       0.75      0.85      0.80        79\n",
      "           1       0.78      0.66      0.71        64\n",
      "\n",
      "    accuracy                           0.76       143\n",
      "   macro avg       0.77      0.75      0.75       143\n",
      "weighted avg       0.76      0.76      0.76       143\n",
      "\n",
      "***************************************************\n",
      "training accuracy: 0.7799295774647887\n",
      "validation accuracy: 0.7622377622377622\n",
      "***************************************************\n"
     ]
    }
   ],
   "source": [
    "best_naivebayes, _ = train_NaiveBayesClassifier(X_train.drop(columns = ['Embarked_S', 'Lower_class']))"
   ]
  },
  {
   "cell_type": "code",
   "execution_count": 1105,
   "metadata": {},
   "outputs": [
    {
     "data": {
      "text/plain": [
       "[\"train_NaiveBayesClassifier(X_train.drop(columns = ['Embarked_S', 'Lower_class'])).joblib\"]"
      ]
     },
     "execution_count": 1105,
     "metadata": {},
     "output_type": "execute_result"
    }
   ],
   "source": [
    "dump(best_naivebayes, \"train_NaiveBayesClassifier(X_train.drop(columns = ['Embarked_S', 'Lower_class'])).joblib\")"
   ]
  },
  {
   "cell_type": "markdown",
   "metadata": {},
   "source": [
    "## Entrenamiento de modelo de clasificación por medio de regresión logística"
   ]
  },
  {
   "cell_type": "code",
   "execution_count": 1073,
   "metadata": {},
   "outputs": [],
   "source": [
    "y_train_reshaped = np.array(y_train).reshape(-1,1)\n",
    "y_val_reshaped = np.array(y_val).reshape(-1,1)"
   ]
  },
  {
   "cell_type": "code",
   "execution_count": 1074,
   "metadata": {
    "scrolled": true
   },
   "outputs": [
    {
     "name": "stdout",
     "output_type": "stream",
     "text": [
      "(568, 1)\n",
      "(143, 1)\n"
     ]
    }
   ],
   "source": [
    "print(y_train_reshaped.shape)\n",
    "\n",
    "print(y_val_reshaped.shape)"
   ]
  },
  {
   "cell_type": "code",
   "execution_count": 1075,
   "metadata": {},
   "outputs": [],
   "source": [
    "X_train_reshaped = np.insert(np.array(X_train),0, np.ones(len(X_train)), axis = 1)"
   ]
  },
  {
   "cell_type": "code",
   "execution_count": 1076,
   "metadata": {},
   "outputs": [],
   "source": [
    "X_val_reshaped = np.insert(np.array(X_val),0, np.ones(len(X_val)), axis = 1)"
   ]
  },
  {
   "cell_type": "code",
   "execution_count": 1077,
   "metadata": {},
   "outputs": [
    {
     "name": "stdout",
     "output_type": "stream",
     "text": [
      "(568, 13)\n",
      "(143, 13)\n"
     ]
    }
   ],
   "source": [
    "print(X_train_reshaped.shape)\n",
    "print(X_val_reshaped.shape)"
   ]
  },
  {
   "cell_type": "code",
   "execution_count": 1078,
   "metadata": {},
   "outputs": [],
   "source": [
    "class LogisticRegressionSigmoid:\n",
    "    def __init__(self, x,  lambda_parameter, regularization):\n",
    "        # vector de weights para logits\n",
    "        self.w = tf.get_variable(\"weights\", dtype = tf.float32, shape = [1,x.shape[1]], initializer = tf.zeros_initializer())\n",
    "        self.lambda_parameter = tf.constant(lambda_parameter, dtype = tf.float32)\n",
    "        self.regularization = regularization\n",
    "    # Funcion para el calculo de logits\n",
    "    def logits(self, x):\n",
    "        with tf.name_scope(\"logits\"):\n",
    "            return tf.matmul(x, tf.transpose(self.w))\n",
    " \n",
    "    def prediction(self, x):\n",
    "        #Method to produce probability distribution for output\n",
    "        sigmoid = tf.nn.sigmoid(self.logits(x))\n",
    "        predictions = tf.round(sigmoid)\n",
    "        return predictions\n",
    "    \n",
    "    def accuracy(self, y_hat, y):\n",
    "        with tf.name_scope(\"accuracy\"):\n",
    "            accuracy = tf.equal(y_hat, y)\n",
    "            accuracy = tf.cast(accuracy, tf.int32)\n",
    "            accuracy = tf.divide(tf.reduce_sum(accuracy), tf.shape(y)[0])\n",
    "            return accuracy \n",
    "    \n",
    "    def loss(self, x, y):\n",
    "        cross_entropy = tf.reduce_mean(tf.nn.sigmoid_cross_entropy_with_logits(labels = y, logits = self.logits(x)))\n",
    "        if self.regularization == 'lasso':\n",
    "            error = tf.add(cross_entropy,tf.multiply(self.lambda_parameter, tf.reduce_sum(tf.abs(self.w))))\n",
    "        if self.regularization == 'ridge':\n",
    "            error = tf.add(cross_entropy, tf.multiply(self.lambda_parameter, tf.sqrt(tf.reduce_sum(tf.square(self.w)))))\n",
    "        return error\n",
    "    \n",
    "    def update(self, x_train, y_train, x_test, y_test, learningrate):\n",
    "        with tf.name_scope(\"error\"):\n",
    "            train_error = self.loss(x_train, y_train)\n",
    "            train_error_summary = tf.summary.scalar(\"TrainError\", train_error)\n",
    "            test_error = self.loss(x_test, y_test)\n",
    "            test_error_summary = tf.summary.scalar(\"ValError\", test_error)\n",
    "        with tf.name_scope(\"accuracy\"):\n",
    "            train_accuracy = self.accuracy(self.prediction(x_train), y_train)\n",
    "            train_accuracy_summary = tf.summary.scalar(\"TrainAccuracy\", train_accuracy)\n",
    "            test_accuracy = self.accuracy(self.prediction(x_test), y_test)\n",
    "            test_accuracy_summary = tf.summary.scalar(\"ValAccuracy\", test_accuracy)\n",
    "        # update parameters via gradient descent\n",
    "        gradient = tf.gradients(train_error, [self.w])\n",
    "        updated_w = tf.assign(self.w, self.w - learningrate * gradient[0])\n",
    "        \n",
    "        #return updated_w, train_error, train_accuracy\n",
    "        \n",
    "        return updated_w, train_error, test_error, train_accuracy, test_accuracy, train_error_summary, \\\n",
    "        test_error_summary, train_accuracy_summary, test_accuracy_summary"
   ]
  },
  {
   "cell_type": "code",
   "execution_count": 1079,
   "metadata": {},
   "outputs": [],
   "source": [
    "def train_LogisticRegressionClass(lr, epochs, frecprint, x_train, x_test, labels_train, labels_test, batch_size, lambda_parameter, regularization):\n",
    "    # String para definicion de experimento\n",
    "    string = './experiments/LogRegression'+ datetime.datetime.now().strftime(\"%Y%m%d-%H%M%S\") +\"_lr=\"+str(lr)+ \"_epochs=\"+str(epochs) + \"_batchsize=\" \\\n",
    "    + str(batch_size) + '_lambda_parameters=' + str(lambda_parameter) + \"_regularization=\" + regularization\n",
    "\n",
    "    g = tf.Graph()\n",
    "    with g.as_default():\n",
    "        # Inicialización de objeto de clase LogisticRegressionSoftmax\n",
    "        modelo = LogisticRegressionSigmoid(x_train, lambda_parameter, regularization)\n",
    "        # Definicion de placeholders para input de data a grafo\n",
    "        with tf.name_scope(\"train_tensors\"):\n",
    "            tensor_x_train = tf.placeholder(tf.float32, [None,x_train.shape[1]], \"tensor_x_train\")\n",
    "            tensor_labels_train = tf.placeholder(tf.float32, [None,labels_train.shape[1]], \"tensor_labels_train\")\n",
    "        with tf.name_scope(\"val_tensors\"):\n",
    "            tensor_x_test = tf.placeholder(tf.float32, [x_test.shape[0], x_test.shape[1]], \"tensor_x_val\")\n",
    "            tensor_labels_test = tf.placeholder(tf.float32, [labels_test.shape[0], labels_test.shape[1]], \"tensor_labels_val\")\n",
    "        # Utilizacion de método update para hacer el entrenamiento\n",
    "        update_parameters = modelo.update(tensor_x_train, tensor_labels_train, tensor_x_test, tensor_labels_test, lr)\n",
    "    \n",
    "        # Writer para utilizacion de tensorboard\n",
    "        writer = tf.summary.FileWriter(string, g)\n",
    "        \n",
    "        #batch_size = 32\n",
    "        \n",
    "        total_steps = int((labels_train.shape[0] / batch_size) * epochs)  \n",
    "        \n",
    "        with tf.train.MonitoredSession() as session:\n",
    "            \n",
    "            for i in range(total_steps + 1):\n",
    "                # Mini batch gradient descent with batch size 32\n",
    "                offset = (i * batch_size) % (labels_train.shape[0] - batch_size)\n",
    "                batch_data = x_train[offset:(offset + batch_size),]\n",
    "                batch_labels = labels_train[offset:(offset + batch_size),]\n",
    "                feed_dict = {tensor_x_train:batch_data, tensor_labels_train:batch_labels,tensor_x_test:x_test, tensor_labels_test:labels_test}\n",
    "                # Entrenamiento\n",
    "                training = session.run(update_parameters, feed_dict = feed_dict)\n",
    "                if (i)%frecprint == 0:\n",
    "                    # Cálculo de pesos para print por cada frecprint epocas\n",
    "                    weights = session.run(modelo.w, feed_dict = feed_dict)\n",
    "                    # Agregar datos a writer para poder visualizarlos en tensorboard\n",
    "                    writer.add_summary(training[5], i)\n",
    "                    writer.add_summary(training[6], i)\n",
    "                    writer.add_summary(training[7], i)\n",
    "                    writer.add_summary(training[8], i)\n",
    "                    print(\"Mini-batch:\", i, \"train error:\", training[1], \"train accuracy:\", training[3])\n",
    "                    print(\"Epoch:\", int(i//(labels_train.shape[0] / batch_size)+1), \"validation error:\", training[2], \"validation accuracy:\", training[4])\n",
    "                    print(\"-------------------------------------------------------------------------\")\n",
    "            \n",
    "            return weights\n",
    "\n",
    "            writer.close()"
   ]
  },
  {
   "cell_type": "code",
   "execution_count": 1080,
   "metadata": {
    "scrolled": true
   },
   "outputs": [
    {
     "name": "stdout",
     "output_type": "stream",
     "text": [
      "INFO:tensorflow:Graph was finalized.\n",
      "INFO:tensorflow:Running local_init_op.\n",
      "INFO:tensorflow:Done running local_init_op.\n",
      "Mini-batch: 0 train error: 0.6931472 train accuracy: 0.53125\n",
      "Epoch: 1 validation error: 0.6931472 validation accuracy: 0.6223776223776224\n",
      "-------------------------------------------------------------------------\n",
      "Mini-batch: 1000 train error: 0.54753935 train accuracy: 0.75\n",
      "Epoch: 57 validation error: 0.53599375 validation accuracy: 0.7622377622377622\n",
      "-------------------------------------------------------------------------\n",
      "Mini-batch: 2000 train error: 0.40252542 train accuracy: 0.90625\n",
      "Epoch: 113 validation error: 0.50421053 validation accuracy: 0.7692307692307693\n",
      "-------------------------------------------------------------------------\n",
      "Mini-batch: 3000 train error: 0.495663 train accuracy: 0.8125\n",
      "Epoch: 170 validation error: 0.49150023 validation accuracy: 0.7762237762237763\n",
      "-------------------------------------------------------------------------\n",
      "Mini-batch: 4000 train error: 0.48639634 train accuracy: 0.78125\n",
      "Epoch: 226 validation error: 0.4857055 validation accuracy: 0.7832167832167832\n",
      "-------------------------------------------------------------------------\n",
      "Mini-batch: 5000 train error: 0.3658056 train accuracy: 0.8125\n",
      "Epoch: 282 validation error: 0.48309588 validation accuracy: 0.7762237762237763\n",
      "-------------------------------------------------------------------------\n",
      "Mini-batch: 6000 train error: 0.42527235 train accuracy: 0.84375\n",
      "Epoch: 339 validation error: 0.48201865 validation accuracy: 0.7762237762237763\n",
      "-------------------------------------------------------------------------\n",
      "Mini-batch: 7000 train error: 0.4774156 train accuracy: 0.78125\n",
      "Epoch: 395 validation error: 0.48146516 validation accuracy: 0.7762237762237763\n",
      "-------------------------------------------------------------------------\n",
      "Mini-batch: 8000 train error: 0.35053474 train accuracy: 0.84375\n",
      "Epoch: 451 validation error: 0.48131087 validation accuracy: 0.7692307692307693\n",
      "-------------------------------------------------------------------------\n",
      "Mini-batch: 9000 train error: 0.47250986 train accuracy: 0.84375\n",
      "Epoch: 508 validation error: 0.48139584 validation accuracy: 0.7692307692307693\n",
      "-------------------------------------------------------------------------\n",
      "Mini-batch: 10000 train error: 0.40179133 train accuracy: 0.8125\n",
      "Epoch: 564 validation error: 0.4815241 validation accuracy: 0.7692307692307693\n",
      "-------------------------------------------------------------------------\n",
      "Mini-batch: 11000 train error: 0.37626696 train accuracy: 0.8125\n",
      "Epoch: 620 validation error: 0.48152816 validation accuracy: 0.7692307692307693\n",
      "-------------------------------------------------------------------------\n",
      "Mini-batch: 12000 train error: 0.49889874 train accuracy: 0.84375\n",
      "Epoch: 677 validation error: 0.48161125 validation accuracy: 0.7622377622377622\n",
      "-------------------------------------------------------------------------\n",
      "Mini-batch: 13000 train error: 0.34048367 train accuracy: 0.875\n",
      "Epoch: 733 validation error: 0.48179018 validation accuracy: 0.7622377622377622\n",
      "-------------------------------------------------------------------------\n",
      "Mini-batch: 14000 train error: 0.47082478 train accuracy: 0.78125\n",
      "Epoch: 789 validation error: 0.48179722 validation accuracy: 0.7622377622377622\n",
      "-------------------------------------------------------------------------\n",
      "Mini-batch: 15000 train error: 0.42843884 train accuracy: 0.71875\n",
      "Epoch: 846 validation error: 0.48184744 validation accuracy: 0.7622377622377622\n",
      "-------------------------------------------------------------------------\n",
      "Mini-batch: 16000 train error: 0.41968378 train accuracy: 0.84375\n",
      "Epoch: 902 validation error: 0.48199677 validation accuracy: 0.7622377622377622\n",
      "-------------------------------------------------------------------------\n",
      "Mini-batch: 17000 train error: 0.56560075 train accuracy: 0.78125\n",
      "Epoch: 958 validation error: 0.4819689 validation accuracy: 0.7622377622377622\n",
      "-------------------------------------------------------------------------\n"
     ]
    },
    {
     "data": {
      "text/plain": [
       "array([[ 0.6318657 , -0.21131779, -0.08487398,  0.0201401 ,  1.1315607 ,\n",
       "        -2.539217  , -0.6654208 ,  0.5808353 ,  0.7164418 ,  0.4188391 ,\n",
       "         0.4438626 , -0.2308401 , -0.06473403]], dtype=float32)"
      ]
     },
     "execution_count": 1080,
     "metadata": {},
     "output_type": "execute_result"
    }
   ],
   "source": [
    "train_LogisticRegressionClass(0.01, 1000, 1000, X_train_reshaped, X_val_reshaped, y_train_reshaped, y_val_reshaped, 32, 0, 'lasso')"
   ]
  },
  {
   "cell_type": "code",
   "execution_count": 1081,
   "metadata": {},
   "outputs": [
    {
     "name": "stdout",
     "output_type": "stream",
     "text": [
      "INFO:tensorflow:Graph was finalized.\n",
      "INFO:tensorflow:Running local_init_op.\n",
      "INFO:tensorflow:Done running local_init_op.\n",
      "Mini-batch: 0 train error: 0.6931472 train accuracy: 0.625\n",
      "Epoch: 1 validation error: 0.6931472 validation accuracy: 0.6223776223776224\n",
      "-------------------------------------------------------------------------\n",
      "Mini-batch: 1000 train error: 0.626705 train accuracy: 0.625\n",
      "Epoch: 29 validation error: 0.63727266 validation accuracy: 0.6363636363636364\n",
      "-------------------------------------------------------------------------\n",
      "Mini-batch: 2000 train error: 0.64811116 train accuracy: 0.5\n",
      "Epoch: 57 validation error: 0.61222124 validation accuracy: 0.6643356643356644\n",
      "-------------------------------------------------------------------------\n",
      "Mini-batch: 3000 train error: 0.5847775 train accuracy: 0.75\n",
      "Epoch: 85 validation error: 0.595854 validation accuracy: 0.6993006993006993\n",
      "-------------------------------------------------------------------------\n",
      "Mini-batch: 4000 train error: 0.57335794 train accuracy: 0.8125\n",
      "Epoch: 113 validation error: 0.58303696 validation accuracy: 0.7272727272727273\n",
      "-------------------------------------------------------------------------\n",
      "Mini-batch: 5000 train error: 0.61453354 train accuracy: 0.75\n",
      "Epoch: 141 validation error: 0.5723572 validation accuracy: 0.7412587412587412\n",
      "-------------------------------------------------------------------------\n",
      "Mini-batch: 6000 train error: 0.53995216 train accuracy: 0.8125\n",
      "Epoch: 170 validation error: 0.56321305 validation accuracy: 0.7552447552447552\n",
      "-------------------------------------------------------------------------\n",
      "Mini-batch: 7000 train error: 0.4860357 train accuracy: 0.875\n",
      "Epoch: 198 validation error: 0.5552821 validation accuracy: 0.7622377622377622\n",
      "-------------------------------------------------------------------------\n",
      "Mini-batch: 8000 train error: 0.4513408 train accuracy: 0.9375\n",
      "Epoch: 226 validation error: 0.54833657 validation accuracy: 0.7622377622377622\n",
      "-------------------------------------------------------------------------\n",
      "Mini-batch: 9000 train error: 0.403309 train accuracy: 1.0\n",
      "Epoch: 254 validation error: 0.54222596 validation accuracy: 0.7552447552447552\n",
      "-------------------------------------------------------------------------\n",
      "Mini-batch: 10000 train error: 0.47746983 train accuracy: 0.9375\n",
      "Epoch: 282 validation error: 0.5368084 validation accuracy: 0.7622377622377622\n",
      "-------------------------------------------------------------------------\n",
      "Mini-batch: 11000 train error: 0.48692045 train accuracy: 0.875\n",
      "Epoch: 310 validation error: 0.53199285 validation accuracy: 0.7622377622377622\n",
      "-------------------------------------------------------------------------\n",
      "Mini-batch: 12000 train error: 0.4692374 train accuracy: 0.8125\n",
      "Epoch: 339 validation error: 0.5276772 validation accuracy: 0.7622377622377622\n",
      "-------------------------------------------------------------------------\n",
      "Mini-batch: 13000 train error: 0.52152574 train accuracy: 0.8125\n",
      "Epoch: 367 validation error: 0.52380544 validation accuracy: 0.7692307692307693\n",
      "-------------------------------------------------------------------------\n",
      "Mini-batch: 14000 train error: 0.54319245 train accuracy: 0.8125\n",
      "Epoch: 395 validation error: 0.520321 validation accuracy: 0.7552447552447552\n",
      "-------------------------------------------------------------------------\n",
      "Mini-batch: 15000 train error: 0.48863846 train accuracy: 0.8125\n",
      "Epoch: 423 validation error: 0.51717085 validation accuracy: 0.7552447552447552\n",
      "-------------------------------------------------------------------------\n",
      "Mini-batch: 16000 train error: 0.49484918 train accuracy: 0.8125\n",
      "Epoch: 451 validation error: 0.5143151 validation accuracy: 0.7552447552447552\n",
      "-------------------------------------------------------------------------\n",
      "Mini-batch: 17000 train error: 0.55823964 train accuracy: 0.625\n",
      "Epoch: 479 validation error: 0.5117263 validation accuracy: 0.7622377622377622\n",
      "-------------------------------------------------------------------------\n",
      "Mini-batch: 18000 train error: 0.4746466 train accuracy: 0.6875\n",
      "Epoch: 508 validation error: 0.50936663 validation accuracy: 0.7622377622377622\n",
      "-------------------------------------------------------------------------\n",
      "Mini-batch: 19000 train error: 0.42160097 train accuracy: 0.8125\n",
      "Epoch: 536 validation error: 0.50721407 validation accuracy: 0.7692307692307693\n",
      "-------------------------------------------------------------------------\n",
      "Mini-batch: 20000 train error: 0.5088806 train accuracy: 0.6875\n",
      "Epoch: 564 validation error: 0.5052468 validation accuracy: 0.7692307692307693\n",
      "-------------------------------------------------------------------------\n",
      "Mini-batch: 21000 train error: 0.48044747 train accuracy: 0.75\n",
      "Epoch: 592 validation error: 0.5034424 validation accuracy: 0.7692307692307693\n",
      "-------------------------------------------------------------------------\n",
      "Mini-batch: 22000 train error: 0.48511937 train accuracy: 0.8125\n",
      "Epoch: 620 validation error: 0.501789 validation accuracy: 0.7692307692307693\n",
      "-------------------------------------------------------------------------\n",
      "Mini-batch: 23000 train error: 0.44611603 train accuracy: 0.875\n",
      "Epoch: 648 validation error: 0.500274 validation accuracy: 0.7692307692307693\n",
      "-------------------------------------------------------------------------\n",
      "Mini-batch: 24000 train error: 0.38331908 train accuracy: 0.875\n",
      "Epoch: 677 validation error: 0.49887788 validation accuracy: 0.7692307692307693\n",
      "-------------------------------------------------------------------------\n",
      "Mini-batch: 25000 train error: 0.45999685 train accuracy: 0.6875\n",
      "Epoch: 705 validation error: 0.4975921 validation accuracy: 0.7692307692307693\n",
      "-------------------------------------------------------------------------\n",
      "Mini-batch: 26000 train error: 0.39983183 train accuracy: 0.8125\n",
      "Epoch: 733 validation error: 0.49640897 validation accuracy: 0.7692307692307693\n",
      "-------------------------------------------------------------------------\n",
      "Mini-batch: 27000 train error: 0.38963452 train accuracy: 0.875\n",
      "Epoch: 761 validation error: 0.49531993 validation accuracy: 0.7552447552447552\n",
      "-------------------------------------------------------------------------\n",
      "Mini-batch: 28000 train error: 0.37192464 train accuracy: 0.875\n",
      "Epoch: 789 validation error: 0.49431878 validation accuracy: 0.7552447552447552\n",
      "-------------------------------------------------------------------------\n",
      "Mini-batch: 29000 train error: 0.2983979 train accuracy: 0.9375\n",
      "Epoch: 817 validation error: 0.49338856 validation accuracy: 0.7552447552447552\n",
      "-------------------------------------------------------------------------\n",
      "Mini-batch: 30000 train error: 0.58780897 train accuracy: 0.625\n",
      "Epoch: 846 validation error: 0.4925298 validation accuracy: 0.7762237762237763\n",
      "-------------------------------------------------------------------------\n",
      "Mini-batch: 31000 train error: 0.681023 train accuracy: 0.5625\n",
      "Epoch: 874 validation error: 0.49173614 validation accuracy: 0.7762237762237763\n",
      "-------------------------------------------------------------------------\n",
      "Mini-batch: 32000 train error: 0.4692117 train accuracy: 0.75\n",
      "Epoch: 902 validation error: 0.49100763 validation accuracy: 0.7762237762237763\n",
      "-------------------------------------------------------------------------\n",
      "Mini-batch: 33000 train error: 0.5128439 train accuracy: 0.6875\n",
      "Epoch: 930 validation error: 0.49032938 validation accuracy: 0.7762237762237763\n",
      "-------------------------------------------------------------------------\n",
      "Mini-batch: 34000 train error: 0.41572443 train accuracy: 0.8125\n",
      "Epoch: 958 validation error: 0.489704 validation accuracy: 0.7762237762237763\n",
      "-------------------------------------------------------------------------\n",
      "Mini-batch: 35000 train error: 0.24118982 train accuracy: 0.9375\n",
      "Epoch: 986 validation error: 0.4891223 validation accuracy: 0.7762237762237763\n",
      "-------------------------------------------------------------------------\n"
     ]
    },
    {
     "data": {
      "text/plain": [
       "array([[ 0.4192092 , -0.23847876, -0.00450091,  0.02429908,  0.84232897,\n",
       "        -1.8480964 , -0.5851744 ,  0.42366657,  0.5807162 ,  0.3463402 ,\n",
       "         0.2269336 , -0.15406743,  0.01979819]], dtype=float32)"
      ]
     },
     "execution_count": 1081,
     "metadata": {},
     "output_type": "execute_result"
    }
   ],
   "source": [
    "train_LogisticRegressionClass(0.001, 1000, 1000, X_train_reshaped, X_val_reshaped, y_train_reshaped, y_val_reshaped, 16, 0, 'lasso')"
   ]
  },
  {
   "cell_type": "code",
   "execution_count": 1082,
   "metadata": {
    "scrolled": true
   },
   "outputs": [
    {
     "name": "stdout",
     "output_type": "stream",
     "text": [
      "INFO:tensorflow:Graph was finalized.\n",
      "INFO:tensorflow:Running local_init_op.\n",
      "INFO:tensorflow:Done running local_init_op.\n",
      "Mini-batch: 0 train error: 0.6931472 train accuracy: 0.53125\n",
      "Epoch: 1 validation error: 0.6931472 validation accuracy: 0.6223776223776224\n",
      "-------------------------------------------------------------------------\n",
      "Mini-batch: 1000 train error: 0.7114601 train accuracy: 0.5\n",
      "Epoch: 57 validation error: 0.71078503 validation accuracy: 0.6223776223776224\n",
      "-------------------------------------------------------------------------\n",
      "Mini-batch: 2000 train error: 0.70946056 train accuracy: 0.28125\n",
      "Epoch: 113 validation error: 0.70918983 validation accuracy: 0.3776223776223776\n",
      "-------------------------------------------------------------------------\n",
      "Mini-batch: 3000 train error: 0.7099527 train accuracy: 0.75\n",
      "Epoch: 170 validation error: 0.71035856 validation accuracy: 0.6013986013986014\n",
      "-------------------------------------------------------------------------\n",
      "Mini-batch: 4000 train error: 0.7104055 train accuracy: 0.625\n",
      "Epoch: 226 validation error: 0.7098781 validation accuracy: 0.6643356643356644\n",
      "-------------------------------------------------------------------------\n",
      "Mini-batch: 5000 train error: 0.70912397 train accuracy: 0.28125\n",
      "Epoch: 282 validation error: 0.70865506 validation accuracy: 0.3776223776223776\n",
      "-------------------------------------------------------------------------\n",
      "Mini-batch: 6000 train error: 0.7107038 train accuracy: 0.59375\n",
      "Epoch: 339 validation error: 0.7101528 validation accuracy: 0.6223776223776224\n",
      "-------------------------------------------------------------------------\n",
      "Mini-batch: 7000 train error: 0.704473 train accuracy: 0.75\n",
      "Epoch: 395 validation error: 0.70602226 validation accuracy: 0.6223776223776224\n",
      "-------------------------------------------------------------------------\n",
      "Mini-batch: 8000 train error: 0.7144528 train accuracy: 0.71875\n",
      "Epoch: 451 validation error: 0.7144945 validation accuracy: 0.6153846153846154\n",
      "-------------------------------------------------------------------------\n",
      "Mini-batch: 9000 train error: 0.71084297 train accuracy: 0.5\n",
      "Epoch: 508 validation error: 0.7110837 validation accuracy: 0.5594405594405595\n",
      "-------------------------------------------------------------------------\n",
      "Mini-batch: 10000 train error: 0.70994246 train accuracy: 0.46875\n",
      "Epoch: 564 validation error: 0.70849454 validation accuracy: 0.6223776223776224\n",
      "-------------------------------------------------------------------------\n",
      "Mini-batch: 11000 train error: 0.7093387 train accuracy: 0.46875\n",
      "Epoch: 620 validation error: 0.7092227 validation accuracy: 0.43356643356643354\n",
      "-------------------------------------------------------------------------\n",
      "Mini-batch: 12000 train error: 0.70553225 train accuracy: 0.71875\n",
      "Epoch: 677 validation error: 0.7059038 validation accuracy: 0.6783216783216783\n",
      "-------------------------------------------------------------------------\n",
      "Mini-batch: 13000 train error: 0.7081042 train accuracy: 0.75\n",
      "Epoch: 733 validation error: 0.70852375 validation accuracy: 0.6713286713286714\n",
      "-------------------------------------------------------------------------\n",
      "Mini-batch: 14000 train error: 0.71010166 train accuracy: 0.65625\n",
      "Epoch: 789 validation error: 0.71027803 validation accuracy: 0.6573426573426573\n",
      "-------------------------------------------------------------------------\n",
      "Mini-batch: 15000 train error: 0.7110081 train accuracy: 0.625\n",
      "Epoch: 846 validation error: 0.71160096 validation accuracy: 0.6153846153846154\n",
      "-------------------------------------------------------------------------\n",
      "Mini-batch: 16000 train error: 0.7049792 train accuracy: 0.625\n",
      "Epoch: 902 validation error: 0.70501536 validation accuracy: 0.6783216783216783\n",
      "-------------------------------------------------------------------------\n",
      "Mini-batch: 17000 train error: 0.7103715 train accuracy: 0.65625\n",
      "Epoch: 958 validation error: 0.71070915 validation accuracy: 0.6223776223776224\n",
      "-------------------------------------------------------------------------\n"
     ]
    },
    {
     "data": {
      "text/plain": [
       "array([[ 0.00248168, -0.00414554,  0.00104859, -0.00281456,  0.00240824,\n",
       "        -0.00192894,  0.00034933,  0.00100538,  0.00112696, -0.00391986,\n",
       "         0.0006021 , -0.00420061, -0.00176592]], dtype=float32)"
      ]
     },
     "execution_count": 1082,
     "metadata": {},
     "output_type": "execute_result"
    }
   ],
   "source": [
    "train_LogisticRegressionClass(0.01, 1000, 1000, X_train_reshaped, X_val_reshaped, y_train_reshaped, y_val_reshaped, 32, 0.5, 'lasso')"
   ]
  },
  {
   "cell_type": "code",
   "execution_count": 1093,
   "metadata": {
    "scrolled": true
   },
   "outputs": [
    {
     "name": "stdout",
     "output_type": "stream",
     "text": [
      "INFO:tensorflow:Graph was finalized.\n",
      "INFO:tensorflow:Running local_init_op.\n",
      "INFO:tensorflow:Done running local_init_op.\n",
      "Mini-batch: 0 train error: 0.6931472 train accuracy: 0.53125\n",
      "Epoch: 1 validation error: 0.6931472 validation accuracy: 0.6223776223776224\n",
      "-------------------------------------------------------------------------\n",
      "Mini-batch: 10000 train error: 0.63419414 train accuracy: 0.8125\n",
      "Epoch: 564 validation error: 0.62031156 validation accuracy: 0.7832167832167832\n",
      "-------------------------------------------------------------------------\n",
      "Mini-batch: 20000 train error: 0.6270167 train accuracy: 0.84375\n",
      "Epoch: 1127 validation error: 0.62023664 validation accuracy: 0.7832167832167832\n",
      "-------------------------------------------------------------------------\n",
      "Mini-batch: 30000 train error: 0.65765095 train accuracy: 0.78125\n",
      "Epoch: 1691 validation error: 0.62030035 validation accuracy: 0.7832167832167832\n",
      "-------------------------------------------------------------------------\n",
      "Mini-batch: 40000 train error: 0.65599346 train accuracy: 0.78125\n",
      "Epoch: 2254 validation error: 0.62023246 validation accuracy: 0.7832167832167832\n",
      "-------------------------------------------------------------------------\n",
      "Mini-batch: 50000 train error: 0.6145516 train accuracy: 0.78125\n",
      "Epoch: 2817 validation error: 0.62028533 validation accuracy: 0.7832167832167832\n",
      "-------------------------------------------------------------------------\n",
      "Mini-batch: 60000 train error: 0.6268821 train accuracy: 0.75\n",
      "Epoch: 3381 validation error: 0.6202681 validation accuracy: 0.7832167832167832\n",
      "-------------------------------------------------------------------------\n",
      "Mini-batch: 70000 train error: 0.6130397 train accuracy: 0.78125\n",
      "Epoch: 3944 validation error: 0.62024134 validation accuracy: 0.7832167832167832\n",
      "-------------------------------------------------------------------------\n",
      "Mini-batch: 80000 train error: 0.5444247 train accuracy: 0.875\n",
      "Epoch: 4508 validation error: 0.6202615 validation accuracy: 0.7832167832167832\n",
      "-------------------------------------------------------------------------\n",
      "Mini-batch: 90000 train error: 0.65107656 train accuracy: 0.78125\n",
      "Epoch: 5071 validation error: 0.62028825 validation accuracy: 0.7832167832167832\n",
      "-------------------------------------------------------------------------\n",
      "Mini-batch: 100000 train error: 0.6247636 train accuracy: 0.78125\n",
      "Epoch: 5634 validation error: 0.6201955 validation accuracy: 0.7832167832167832\n",
      "-------------------------------------------------------------------------\n",
      "Mini-batch: 110000 train error: 0.6346984 train accuracy: 0.78125\n",
      "Epoch: 6198 validation error: 0.6202125 validation accuracy: 0.7832167832167832\n",
      "-------------------------------------------------------------------------\n",
      "Mini-batch: 120000 train error: 0.67255026 train accuracy: 0.75\n",
      "Epoch: 6761 validation error: 0.6201965 validation accuracy: 0.7832167832167832\n",
      "-------------------------------------------------------------------------\n",
      "Mini-batch: 130000 train error: 0.58118206 train accuracy: 0.84375\n",
      "Epoch: 7324 validation error: 0.6202856 validation accuracy: 0.7832167832167832\n",
      "-------------------------------------------------------------------------\n",
      "Mini-batch: 140000 train error: 0.588258 train accuracy: 0.84375\n",
      "Epoch: 7888 validation error: 0.6201641 validation accuracy: 0.7832167832167832\n",
      "-------------------------------------------------------------------------\n",
      "Mini-batch: 150000 train error: 0.5606003 train accuracy: 0.875\n",
      "Epoch: 8451 validation error: 0.6202377 validation accuracy: 0.7832167832167832\n",
      "-------------------------------------------------------------------------\n",
      "Mini-batch: 160000 train error: 0.5582189 train accuracy: 0.875\n",
      "Epoch: 9015 validation error: 0.6202812 validation accuracy: 0.7832167832167832\n",
      "-------------------------------------------------------------------------\n",
      "Mini-batch: 170000 train error: 0.62629604 train accuracy: 0.8125\n",
      "Epoch: 9578 validation error: 0.6201714 validation accuracy: 0.7832167832167832\n",
      "-------------------------------------------------------------------------\n"
     ]
    },
    {
     "data": {
      "text/plain": [
       "array([[ 1.3031161e-03,  2.5631825e-04, -4.7216966e-04, -3.7547442e-04,\n",
       "         2.7376649e-01, -1.1667926e+00, -1.6715879e-03,  2.9055349e-04,\n",
       "         1.0168247e-01,  3.0991359e-04, -5.7584140e-05,  5.0183473e-05,\n",
       "         1.5232741e-04]], dtype=float32)"
      ]
     },
     "execution_count": 1093,
     "metadata": {},
     "output_type": "execute_result"
    }
   ],
   "source": [
    "train_LogisticRegressionClass(0.01, 10000, 10000, X_train_reshaped, X_val_reshaped, y_train_reshaped, y_val_reshaped, 32, 0.05, 'lasso')"
   ]
  },
  {
   "cell_type": "code",
   "execution_count": 803,
   "metadata": {
    "scrolled": true
   },
   "outputs": [
    {
     "name": "stdout",
     "output_type": "stream",
     "text": [
      "INFO:tensorflow:Graph was finalized.\n",
      "INFO:tensorflow:Running local_init_op.\n",
      "INFO:tensorflow:Done running local_init_op.\n",
      "Mini-batch: 0 train error: 0.6931472 train accuracy: 0.53125\n",
      "Epoch: 1 validation error: 0.6931472 validation accuracy: 0.6223776223776224\n",
      "-------------------------------------------------------------------------\n",
      "Mini-batch: 10000 train error: 0.69143695 train accuracy: 0.46875\n",
      "Epoch: 564 validation error: 0.66187 validation accuracy: 0.6223776223776224\n",
      "-------------------------------------------------------------------------\n",
      "Mini-batch: 20000 train error: 0.68799144 train accuracy: 0.53125\n",
      "Epoch: 1127 validation error: 0.661705 validation accuracy: 0.6853146853146853\n",
      "-------------------------------------------------------------------------\n",
      "Mini-batch: 30000 train error: 0.70484453 train accuracy: 0.5625\n",
      "Epoch: 1691 validation error: 0.66192603 validation accuracy: 0.6573426573426573\n",
      "-------------------------------------------------------------------------\n",
      "Mini-batch: 40000 train error: 0.6963674 train accuracy: 0.75\n",
      "Epoch: 2254 validation error: 0.6621016 validation accuracy: 0.7692307692307693\n",
      "-------------------------------------------------------------------------\n",
      "Mini-batch: 50000 train error: 0.6550243 train accuracy: 0.78125\n",
      "Epoch: 2817 validation error: 0.6619563 validation accuracy: 0.7832167832167832\n",
      "-------------------------------------------------------------------------\n",
      "Mini-batch: 60000 train error: 0.66298217 train accuracy: 0.75\n",
      "Epoch: 3381 validation error: 0.66170967 validation accuracy: 0.7832167832167832\n",
      "-------------------------------------------------------------------------\n",
      "Mini-batch: 70000 train error: 0.6495464 train accuracy: 0.8125\n",
      "Epoch: 3944 validation error: 0.6616552 validation accuracy: 0.7692307692307693\n",
      "-------------------------------------------------------------------------\n",
      "Mini-batch: 80000 train error: 0.6103214 train accuracy: 0.875\n",
      "Epoch: 4508 validation error: 0.6617533 validation accuracy: 0.7902097902097902\n",
      "-------------------------------------------------------------------------\n",
      "Mini-batch: 90000 train error: 0.6804382 train accuracy: 0.65625\n",
      "Epoch: 5071 validation error: 0.6617034 validation accuracy: 0.6573426573426573\n",
      "-------------------------------------------------------------------------\n",
      "Mini-batch: 100000 train error: 0.6556362 train accuracy: 0.75\n",
      "Epoch: 5634 validation error: 0.66185886 validation accuracy: 0.7552447552447552\n",
      "-------------------------------------------------------------------------\n",
      "Mini-batch: 110000 train error: 0.6719104 train accuracy: 0.71875\n",
      "Epoch: 6198 validation error: 0.66156065 validation accuracy: 0.7552447552447552\n",
      "-------------------------------------------------------------------------\n",
      "Mini-batch: 120000 train error: 0.69188607 train accuracy: 0.5625\n",
      "Epoch: 6761 validation error: 0.6616636 validation accuracy: 0.6223776223776224\n",
      "-------------------------------------------------------------------------\n",
      "Mini-batch: 130000 train error: 0.6383391 train accuracy: 0.84375\n",
      "Epoch: 7324 validation error: 0.66187304 validation accuracy: 0.7832167832167832\n",
      "-------------------------------------------------------------------------\n",
      "Mini-batch: 140000 train error: 0.64635676 train accuracy: 0.75\n",
      "Epoch: 7888 validation error: 0.66164786 validation accuracy: 0.6923076923076923\n",
      "-------------------------------------------------------------------------\n",
      "Mini-batch: 150000 train error: 0.621697 train accuracy: 0.78125\n",
      "Epoch: 8451 validation error: 0.6617584 validation accuracy: 0.7132867132867133\n",
      "-------------------------------------------------------------------------\n",
      "Mini-batch: 160000 train error: 0.6300583 train accuracy: 0.875\n",
      "Epoch: 9015 validation error: 0.6618942 validation accuracy: 0.7832167832167832\n",
      "-------------------------------------------------------------------------\n",
      "Mini-batch: 170000 train error: 0.6721944 train accuracy: 0.5625\n",
      "Epoch: 9578 validation error: 0.66172975 validation accuracy: 0.6223776223776224\n",
      "-------------------------------------------------------------------------\n"
     ]
    },
    {
     "data": {
      "text/plain": [
       "array([[ 3.2615045e-04,  5.5437599e-04,  2.1742756e-04, -9.1216725e-04,\n",
       "         1.7285575e-03, -6.2682426e-01, -5.6352117e-04,  1.0018909e-03,\n",
       "        -1.1235307e-04, -1.5959772e-04,  9.6550799e-04, -4.8006937e-04]],\n",
       "      dtype=float32)"
      ]
     },
     "execution_count": 803,
     "metadata": {},
     "output_type": "execute_result"
    }
   ],
   "source": [
    "train_LogisticRegressionClass(0.01, 10000, 10000, X_train_reshaped, X_val_reshaped, y_train_reshaped, y_val_reshaped, 32, 0.10, 'lasso')"
   ]
  },
  {
   "cell_type": "code",
   "execution_count": 805,
   "metadata": {
    "scrolled": true
   },
   "outputs": [
    {
     "name": "stdout",
     "output_type": "stream",
     "text": [
      "INFO:tensorflow:Graph was finalized.\n",
      "INFO:tensorflow:Running local_init_op.\n",
      "INFO:tensorflow:Done running local_init_op.\n",
      "Mini-batch: 0 train error: 0.6931472 train accuracy: 0.53125\n",
      "Epoch: 1 validation error: 0.6931472 validation accuracy: 0.6223776223776224\n",
      "-------------------------------------------------------------------------\n",
      "Mini-batch: 10000 train error: 0.69820535 train accuracy: 0.46875\n",
      "Epoch: 564 validation error: 0.685671 validation accuracy: 0.6223776223776224\n",
      "-------------------------------------------------------------------------\n",
      "Mini-batch: 20000 train error: 0.6995133 train accuracy: 0.4375\n",
      "Epoch: 1127 validation error: 0.6851195 validation accuracy: 0.6223776223776224\n",
      "-------------------------------------------------------------------------\n",
      "Mini-batch: 30000 train error: 0.70805806 train accuracy: 0.4375\n",
      "Epoch: 1691 validation error: 0.6850833 validation accuracy: 0.6293706293706294\n",
      "-------------------------------------------------------------------------\n",
      "Mini-batch: 40000 train error: 0.70406103 train accuracy: 0.59375\n",
      "Epoch: 2254 validation error: 0.6850474 validation accuracy: 0.7132867132867133\n",
      "-------------------------------------------------------------------------\n",
      "Mini-batch: 50000 train error: 0.6835128 train accuracy: 0.75\n",
      "Epoch: 2817 validation error: 0.68498945 validation accuracy: 0.7412587412587412\n",
      "-------------------------------------------------------------------------\n",
      "Mini-batch: 60000 train error: 0.68766594 train accuracy: 0.75\n",
      "Epoch: 3381 validation error: 0.68505406 validation accuracy: 0.7832167832167832\n",
      "-------------------------------------------------------------------------\n",
      "Mini-batch: 70000 train error: 0.68009293 train accuracy: 0.78125\n",
      "Epoch: 3944 validation error: 0.6850581 validation accuracy: 0.7832167832167832\n",
      "-------------------------------------------------------------------------\n",
      "Mini-batch: 80000 train error: 0.66237795 train accuracy: 0.875\n",
      "Epoch: 4508 validation error: 0.6850174 validation accuracy: 0.7832167832167832\n",
      "-------------------------------------------------------------------------\n",
      "Mini-batch: 90000 train error: 0.6936446 train accuracy: 0.5625\n",
      "Epoch: 5071 validation error: 0.6850284 validation accuracy: 0.6223776223776224\n",
      "-------------------------------------------------------------------------\n",
      "Mini-batch: 100000 train error: 0.68127483 train accuracy: 0.71875\n",
      "Epoch: 5634 validation error: 0.6850118 validation accuracy: 0.6573426573426573\n",
      "-------------------------------------------------------------------------\n",
      "Mini-batch: 110000 train error: 0.6894589 train accuracy: 0.59375\n",
      "Epoch: 6198 validation error: 0.68496037 validation accuracy: 0.6223776223776224\n",
      "-------------------------------------------------------------------------\n",
      "Mini-batch: 120000 train error: 0.69840086 train accuracy: 0.5625\n",
      "Epoch: 6761 validation error: 0.68503696 validation accuracy: 0.6223776223776224\n",
      "-------------------------------------------------------------------------\n",
      "Mini-batch: 130000 train error: 0.6753291 train accuracy: 0.71875\n",
      "Epoch: 7324 validation error: 0.68502486 validation accuracy: 0.7552447552447552\n",
      "-------------------------------------------------------------------------\n",
      "Mini-batch: 140000 train error: 0.6793941 train accuracy: 0.59375\n",
      "Epoch: 7888 validation error: 0.68498874 validation accuracy: 0.6223776223776224\n",
      "-------------------------------------------------------------------------\n",
      "Mini-batch: 150000 train error: 0.66709834 train accuracy: 0.65625\n",
      "Epoch: 8451 validation error: 0.6850271 validation accuracy: 0.6223776223776224\n",
      "-------------------------------------------------------------------------\n",
      "Mini-batch: 160000 train error: 0.6711988 train accuracy: 0.875\n",
      "Epoch: 9015 validation error: 0.68501705 validation accuracy: 0.7482517482517482\n",
      "-------------------------------------------------------------------------\n",
      "Mini-batch: 170000 train error: 0.6895143 train accuracy: 0.5625\n",
      "Epoch: 9578 validation error: 0.6850141 validation accuracy: 0.6223776223776224\n",
      "-------------------------------------------------------------------------\n"
     ]
    },
    {
     "data": {
      "text/plain": [
       "array([[-7.5376811e-05, -1.2783270e-04, -9.8008211e-05, -8.7970926e-05,\n",
       "        -4.7119807e-05, -2.8295344e-01, -1.6459129e-04,  1.0282995e-04,\n",
       "        -1.3599165e-05,  1.4506970e-04, -9.3582494e-05, -1.2685664e-04]],\n",
       "      dtype=float32)"
      ]
     },
     "execution_count": 805,
     "metadata": {},
     "output_type": "execute_result"
    }
   ],
   "source": [
    "train_LogisticRegressionClass(0.001, 10000, 10000, X_train_reshaped, X_val_reshaped, y_train_reshaped, y_val_reshaped, 32, 0.15, 'lasso')"
   ]
  },
  {
   "cell_type": "code",
   "execution_count": 1084,
   "metadata": {
    "scrolled": true
   },
   "outputs": [
    {
     "name": "stdout",
     "output_type": "stream",
     "text": [
      "INFO:tensorflow:Graph was finalized.\n",
      "INFO:tensorflow:Running local_init_op.\n",
      "INFO:tensorflow:Done running local_init_op.\n",
      "Mini-batch: 0 train error: 0.6931472 train accuracy: 0.53125\n",
      "Epoch: 1 validation error: 0.6931472 validation accuracy: 0.6223776223776224\n",
      "-------------------------------------------------------------------------\n",
      "Mini-batch: 10000 train error: 0.61049074 train accuracy: 0.78125\n",
      "Epoch: 564 validation error: 0.59980613 validation accuracy: 0.7622377622377622\n",
      "-------------------------------------------------------------------------\n",
      "Mini-batch: 20000 train error: 0.5842234 train accuracy: 0.8125\n",
      "Epoch: 1127 validation error: 0.5845672 validation accuracy: 0.7552447552447552\n",
      "-------------------------------------------------------------------------\n",
      "Mini-batch: 30000 train error: 0.5993855 train accuracy: 0.75\n",
      "Epoch: 1691 validation error: 0.5786192 validation accuracy: 0.7622377622377622\n",
      "-------------------------------------------------------------------------\n",
      "Mini-batch: 40000 train error: 0.6090303 train accuracy: 0.8125\n",
      "Epoch: 2254 validation error: 0.5756346 validation accuracy: 0.7412587412587412\n",
      "-------------------------------------------------------------------------\n",
      "Mini-batch: 50000 train error: 0.5792461 train accuracy: 0.84375\n",
      "Epoch: 2817 validation error: 0.5739663 validation accuracy: 0.7482517482517482\n",
      "-------------------------------------------------------------------------\n",
      "Mini-batch: 60000 train error: 0.5895711 train accuracy: 0.8125\n",
      "Epoch: 3381 validation error: 0.57284933 validation accuracy: 0.7552447552447552\n",
      "-------------------------------------------------------------------------\n",
      "Mini-batch: 70000 train error: 0.5809853 train accuracy: 0.8125\n",
      "Epoch: 3944 validation error: 0.57201505 validation accuracy: 0.7622377622377622\n",
      "-------------------------------------------------------------------------\n",
      "Mini-batch: 80000 train error: 0.4872973 train accuracy: 0.875\n",
      "Epoch: 4508 validation error: 0.5715648 validation accuracy: 0.7832167832167832\n",
      "-------------------------------------------------------------------------\n",
      "Mini-batch: 90000 train error: 0.60507566 train accuracy: 0.78125\n",
      "Epoch: 5071 validation error: 0.571451 validation accuracy: 0.7832167832167832\n",
      "-------------------------------------------------------------------------\n",
      "Mini-batch: 100000 train error: 0.590087 train accuracy: 0.78125\n",
      "Epoch: 5634 validation error: 0.5714324 validation accuracy: 0.7832167832167832\n",
      "-------------------------------------------------------------------------\n",
      "Mini-batch: 110000 train error: 0.58132935 train accuracy: 0.78125\n",
      "Epoch: 6198 validation error: 0.5714638 validation accuracy: 0.7832167832167832\n",
      "-------------------------------------------------------------------------\n",
      "Mini-batch: 120000 train error: 0.6442976 train accuracy: 0.75\n",
      "Epoch: 6761 validation error: 0.5715158 validation accuracy: 0.7832167832167832\n",
      "-------------------------------------------------------------------------\n",
      "Mini-batch: 130000 train error: 0.5278428 train accuracy: 0.84375\n",
      "Epoch: 7324 validation error: 0.57157797 validation accuracy: 0.7832167832167832\n",
      "-------------------------------------------------------------------------\n",
      "Mini-batch: 140000 train error: 0.5300543 train accuracy: 0.84375\n",
      "Epoch: 7888 validation error: 0.571645 validation accuracy: 0.7832167832167832\n",
      "-------------------------------------------------------------------------\n",
      "Mini-batch: 150000 train error: 0.52080894 train accuracy: 0.875\n",
      "Epoch: 8451 validation error: 0.571717 validation accuracy: 0.7832167832167832\n",
      "-------------------------------------------------------------------------\n",
      "Mini-batch: 160000 train error: 0.48399326 train accuracy: 0.875\n",
      "Epoch: 9015 validation error: 0.5717827 validation accuracy: 0.7832167832167832\n",
      "-------------------------------------------------------------------------\n",
      "Mini-batch: 170000 train error: 0.5508351 train accuracy: 0.8125\n",
      "Epoch: 9578 validation error: 0.5718487 validation accuracy: 0.7832167832167832\n",
      "-------------------------------------------------------------------------\n"
     ]
    },
    {
     "data": {
      "text/plain": [
       "array([[ 1.11843372e-04,  4.34593167e-05,  1.47259962e-05,\n",
       "         2.27833862e-05,  9.67495382e-01, -1.63878834e+00,\n",
       "        -2.63410360e-01,  1.64516037e-04,  2.67798632e-01,\n",
       "         2.82660403e-06,  5.84751688e-05,  5.08945086e-05,\n",
       "        -1.24914295e-05]], dtype=float32)"
      ]
     },
     "execution_count": 1084,
     "metadata": {},
     "output_type": "execute_result"
    }
   ],
   "source": [
    "train_LogisticRegressionClass(0.001, 10000, 10000, X_train_reshaped, X_val_reshaped, y_train_reshaped, y_val_reshaped, 32, 0.025, 'lasso')"
   ]
  },
  {
   "cell_type": "code",
   "execution_count": 1087,
   "metadata": {
    "scrolled": true
   },
   "outputs": [
    {
     "name": "stdout",
     "output_type": "stream",
     "text": [
      "INFO:tensorflow:Graph was finalized.\n",
      "INFO:tensorflow:Running local_init_op.\n",
      "INFO:tensorflow:Done running local_init_op.\n",
      "Mini-batch: 0 train error: 0.6931472 train accuracy: 0.5625\n",
      "Epoch: 1 validation error: 0.6931472 validation accuracy: 0.6223776223776224\n",
      "-------------------------------------------------------------------------\n",
      "Mini-batch: 10000 train error: 0.55969244 train accuracy: 0.765625\n",
      "Epoch: 2254 validation error: 0.5656741 validation accuracy: 0.7622377622377622\n",
      "-------------------------------------------------------------------------\n",
      "Mini-batch: 20000 train error: 0.54236937 train accuracy: 0.75\n",
      "Epoch: 4508 validation error: 0.5423501 validation accuracy: 0.7552447552447552\n",
      "-------------------------------------------------------------------------\n",
      "Mini-batch: 30000 train error: 0.51115394 train accuracy: 0.8046875\n",
      "Epoch: 6761 validation error: 0.5330059 validation accuracy: 0.7552447552447552\n",
      "-------------------------------------------------------------------------\n",
      "Mini-batch: 40000 train error: 0.49862108 train accuracy: 0.8359375\n",
      "Epoch: 9015 validation error: 0.5286854 validation accuracy: 0.7692307692307693\n",
      "-------------------------------------------------------------------------\n",
      "Mini-batch: 50000 train error: 0.5160904 train accuracy: 0.7578125\n",
      "Epoch: 11268 validation error: 0.52655184 validation accuracy: 0.7762237762237763\n",
      "-------------------------------------------------------------------------\n",
      "Mini-batch: 60000 train error: 0.51930356 train accuracy: 0.75\n",
      "Epoch: 13522 validation error: 0.52544004 validation accuracy: 0.7762237762237763\n",
      "-------------------------------------------------------------------------\n",
      "Mini-batch: 70000 train error: 0.49705714 train accuracy: 0.78125\n",
      "Epoch: 15775 validation error: 0.52479106 validation accuracy: 0.7762237762237763\n",
      "-------------------------------------------------------------------------\n",
      "Mini-batch: 80000 train error: 0.4665572 train accuracy: 0.8046875\n",
      "Epoch: 18029 validation error: 0.5243712 validation accuracy: 0.7762237762237763\n",
      "-------------------------------------------------------------------------\n",
      "Mini-batch: 90000 train error: 0.48799425 train accuracy: 0.796875\n",
      "Epoch: 20282 validation error: 0.5240669 validation accuracy: 0.7762237762237763\n",
      "-------------------------------------------------------------------------\n",
      "Mini-batch: 100000 train error: 0.5091401 train accuracy: 0.7890625\n",
      "Epoch: 22536 validation error: 0.52382576 validation accuracy: 0.7762237762237763\n",
      "-------------------------------------------------------------------------\n",
      "Mini-batch: 110000 train error: 0.53568655 train accuracy: 0.7890625\n",
      "Epoch: 24789 validation error: 0.5236225 validation accuracy: 0.7762237762237763\n",
      "-------------------------------------------------------------------------\n",
      "Mini-batch: 120000 train error: 0.51568407 train accuracy: 0.8046875\n",
      "Epoch: 27043 validation error: 0.5234412 validation accuracy: 0.7762237762237763\n",
      "-------------------------------------------------------------------------\n",
      "Mini-batch: 130000 train error: 0.51010936 train accuracy: 0.8203125\n",
      "Epoch: 29296 validation error: 0.52327776 validation accuracy: 0.7762237762237763\n",
      "-------------------------------------------------------------------------\n",
      "Mini-batch: 140000 train error: 0.4936118 train accuracy: 0.8125\n",
      "Epoch: 31550 validation error: 0.5231272 validation accuracy: 0.7762237762237763\n",
      "-------------------------------------------------------------------------\n",
      "Mini-batch: 150000 train error: 0.4903348 train accuracy: 0.796875\n",
      "Epoch: 33803 validation error: 0.52298546 validation accuracy: 0.7762237762237763\n",
      "-------------------------------------------------------------------------\n",
      "Mini-batch: 160000 train error: 0.5190062 train accuracy: 0.7421875\n",
      "Epoch: 36057 validation error: 0.52285606 validation accuracy: 0.7762237762237763\n",
      "-------------------------------------------------------------------------\n",
      "Mini-batch: 170000 train error: 0.5220154 train accuracy: 0.75\n",
      "Epoch: 38310 validation error: 0.5227344 validation accuracy: 0.7762237762237763\n",
      "-------------------------------------------------------------------------\n",
      "Mini-batch: 180000 train error: 0.4977334 train accuracy: 0.765625\n",
      "Epoch: 40564 validation error: 0.52262026 validation accuracy: 0.7762237762237763\n",
      "-------------------------------------------------------------------------\n",
      "Mini-batch: 190000 train error: 0.46444052 train accuracy: 0.796875\n",
      "Epoch: 42817 validation error: 0.52251536 validation accuracy: 0.7762237762237763\n",
      "-------------------------------------------------------------------------\n",
      "Mini-batch: 200000 train error: 0.48705444 train accuracy: 0.7890625\n",
      "Epoch: 45071 validation error: 0.5224158 validation accuracy: 0.7762237762237763\n",
      "-------------------------------------------------------------------------\n",
      "Mini-batch: 210000 train error: 0.5095421 train accuracy: 0.78125\n",
      "Epoch: 47324 validation error: 0.5223236 validation accuracy: 0.7762237762237763\n",
      "-------------------------------------------------------------------------\n",
      "Mini-batch: 220000 train error: 0.5355967 train accuracy: 0.7890625\n",
      "Epoch: 49578 validation error: 0.5222379 validation accuracy: 0.7762237762237763\n",
      "-------------------------------------------------------------------------\n"
     ]
    },
    {
     "data": {
      "text/plain": [
       "array([[ 1.7507602e-01,  4.2668566e-05, -3.7082891e-06, -6.9016023e-06,\n",
       "         1.2593375e+00, -2.1379015e+00, -4.5445248e-01,  6.6015027e-02,\n",
       "         4.9396518e-01,  2.8508234e-01,  4.5223642e-05, -9.5547829e-03,\n",
       "         9.3874987e-06]], dtype=float32)"
      ]
     },
     "execution_count": 1087,
     "metadata": {},
     "output_type": "execute_result"
    }
   ],
   "source": [
    "train_LogisticRegressionClass(0.001, 50000, 10000, X_train_reshaped, X_val_reshaped, y_train_reshaped, y_val_reshaped, 128, 0.01, 'lasso')"
   ]
  },
  {
   "cell_type": "code",
   "execution_count": 1091,
   "metadata": {
    "scrolled": true
   },
   "outputs": [
    {
     "name": "stdout",
     "output_type": "stream",
     "text": [
      "INFO:tensorflow:Graph was finalized.\n",
      "INFO:tensorflow:Running local_init_op.\n",
      "INFO:tensorflow:Done running local_init_op.\n",
      "Mini-batch: 0 train error: 0.6931472 train accuracy: 0.53125\n",
      "Epoch: 1 validation error: 0.6931472 validation accuracy: 0.6223776223776224\n",
      "-------------------------------------------------------------------------\n",
      "Mini-batch: 10000 train error: 0.42260242 train accuracy: 0.8125\n",
      "Epoch: 564 validation error: 0.49632093 validation accuracy: 0.7762237762237763\n",
      "-------------------------------------------------------------------------\n",
      "Mini-batch: 20000 train error: 0.41193783 train accuracy: 0.84375\n",
      "Epoch: 1127 validation error: 0.49598467 validation accuracy: 0.7692307692307693\n",
      "-------------------------------------------------------------------------\n",
      "Mini-batch: 30000 train error: 0.46685073 train accuracy: 0.8125\n",
      "Epoch: 1691 validation error: 0.495358 validation accuracy: 0.7762237762237763\n",
      "-------------------------------------------------------------------------\n",
      "Mini-batch: 40000 train error: 0.5156885 train accuracy: 0.8125\n",
      "Epoch: 2254 validation error: 0.49497965 validation accuracy: 0.7762237762237763\n",
      "-------------------------------------------------------------------------\n",
      "Mini-batch: 50000 train error: 0.5049844 train accuracy: 0.84375\n",
      "Epoch: 2817 validation error: 0.4947818 validation accuracy: 0.7762237762237763\n",
      "-------------------------------------------------------------------------\n",
      "Mini-batch: 60000 train error: 0.5164965 train accuracy: 0.8125\n",
      "Epoch: 3381 validation error: 0.49467462 validation accuracy: 0.7762237762237763\n",
      "-------------------------------------------------------------------------\n",
      "Mini-batch: 70000 train error: 0.5167226 train accuracy: 0.8125\n",
      "Epoch: 3944 validation error: 0.49465096 validation accuracy: 0.7762237762237763\n",
      "-------------------------------------------------------------------------\n",
      "Mini-batch: 80000 train error: 0.36273164 train accuracy: 0.875\n",
      "Epoch: 4508 validation error: 0.4945799 validation accuracy: 0.7762237762237763\n",
      "-------------------------------------------------------------------------\n",
      "Mini-batch: 90000 train error: 0.51003844 train accuracy: 0.78125\n",
      "Epoch: 5071 validation error: 0.4945742 validation accuracy: 0.7762237762237763\n",
      "-------------------------------------------------------------------------\n",
      "Mini-batch: 100000 train error: 0.53103465 train accuracy: 0.75\n",
      "Epoch: 5634 validation error: 0.49457443 validation accuracy: 0.7762237762237763\n",
      "-------------------------------------------------------------------------\n",
      "Mini-batch: 110000 train error: 0.5122163 train accuracy: 0.75\n",
      "Epoch: 6198 validation error: 0.49459624 validation accuracy: 0.7762237762237763\n",
      "-------------------------------------------------------------------------\n",
      "Mini-batch: 120000 train error: 0.61621505 train accuracy: 0.71875\n",
      "Epoch: 6761 validation error: 0.49458057 validation accuracy: 0.7762237762237763\n",
      "-------------------------------------------------------------------------\n",
      "Mini-batch: 130000 train error: 0.44776666 train accuracy: 0.8125\n",
      "Epoch: 7324 validation error: 0.49453813 validation accuracy: 0.7762237762237763\n",
      "-------------------------------------------------------------------------\n",
      "Mini-batch: 140000 train error: 0.43577343 train accuracy: 0.84375\n",
      "Epoch: 7888 validation error: 0.49455348 validation accuracy: 0.7762237762237763\n",
      "-------------------------------------------------------------------------\n",
      "Mini-batch: 150000 train error: 0.43796974 train accuracy: 0.875\n",
      "Epoch: 8451 validation error: 0.49456 validation accuracy: 0.7762237762237763\n",
      "-------------------------------------------------------------------------\n",
      "Mini-batch: 160000 train error: 0.3629745 train accuracy: 0.84375\n",
      "Epoch: 9015 validation error: 0.49452266 validation accuracy: 0.7762237762237763\n",
      "-------------------------------------------------------------------------\n",
      "Mini-batch: 170000 train error: 0.41724807 train accuracy: 0.78125\n",
      "Epoch: 9578 validation error: 0.4945402 validation accuracy: 0.7762237762237763\n",
      "-------------------------------------------------------------------------\n",
      "Mini-batch: 180000 train error: 0.40622643 train accuracy: 0.8125\n",
      "Epoch: 10141 validation error: 0.4945583 validation accuracy: 0.7762237762237763\n",
      "-------------------------------------------------------------------------\n",
      "Mini-batch: 190000 train error: 0.4644682 train accuracy: 0.78125\n",
      "Epoch: 10705 validation error: 0.4945526 validation accuracy: 0.7762237762237763\n",
      "-------------------------------------------------------------------------\n",
      "Mini-batch: 200000 train error: 0.42654622 train accuracy: 0.84375\n",
      "Epoch: 11268 validation error: 0.49452534 validation accuracy: 0.7762237762237763\n",
      "-------------------------------------------------------------------------\n",
      "Mini-batch: 210000 train error: 0.48141488 train accuracy: 0.84375\n",
      "Epoch: 11831 validation error: 0.49452758 validation accuracy: 0.7762237762237763\n",
      "-------------------------------------------------------------------------\n",
      "Mini-batch: 220000 train error: 0.5311755 train accuracy: 0.78125\n",
      "Epoch: 12395 validation error: 0.4945263 validation accuracy: 0.7762237762237763\n",
      "-------------------------------------------------------------------------\n",
      "Mini-batch: 230000 train error: 0.55241424 train accuracy: 0.75\n",
      "Epoch: 12958 validation error: 0.49451798 validation accuracy: 0.7762237762237763\n",
      "-------------------------------------------------------------------------\n",
      "Mini-batch: 240000 train error: 0.54633296 train accuracy: 0.75\n",
      "Epoch: 13522 validation error: 0.4945104 validation accuracy: 0.7762237762237763\n",
      "-------------------------------------------------------------------------\n",
      "Mini-batch: 250000 train error: 0.43463588 train accuracy: 0.8125\n",
      "Epoch: 14085 validation error: 0.4944811 validation accuracy: 0.7762237762237763\n",
      "-------------------------------------------------------------------------\n",
      "Mini-batch: 260000 train error: 0.37565064 train accuracy: 0.875\n",
      "Epoch: 14648 validation error: 0.49446818 validation accuracy: 0.7762237762237763\n",
      "-------------------------------------------------------------------------\n",
      "Mini-batch: 270000 train error: 0.39850157 train accuracy: 0.875\n",
      "Epoch: 15212 validation error: 0.49446237 validation accuracy: 0.7762237762237763\n",
      "-------------------------------------------------------------------------\n",
      "Mini-batch: 280000 train error: 0.5129817 train accuracy: 0.84375\n",
      "Epoch: 15775 validation error: 0.4944562 validation accuracy: 0.7762237762237763\n",
      "-------------------------------------------------------------------------\n",
      "Mini-batch: 290000 train error: 0.5612228 train accuracy: 0.8125\n",
      "Epoch: 16339 validation error: 0.49447045 validation accuracy: 0.7762237762237763\n",
      "-------------------------------------------------------------------------\n",
      "Mini-batch: 300000 train error: 0.6022264 train accuracy: 0.75\n",
      "Epoch: 16902 validation error: 0.49447602 validation accuracy: 0.7762237762237763\n",
      "-------------------------------------------------------------------------\n",
      "Mini-batch: 310000 train error: 0.44386458 train accuracy: 0.8125\n",
      "Epoch: 17465 validation error: 0.49447152 validation accuracy: 0.7762237762237763\n",
      "-------------------------------------------------------------------------\n",
      "Mini-batch: 320000 train error: 0.35117608 train accuracy: 0.8125\n",
      "Epoch: 18029 validation error: 0.49443808 validation accuracy: 0.7762237762237763\n",
      "-------------------------------------------------------------------------\n",
      "Mini-batch: 330000 train error: 0.381885 train accuracy: 0.78125\n",
      "Epoch: 18592 validation error: 0.49442908 validation accuracy: 0.7762237762237763\n",
      "-------------------------------------------------------------------------\n",
      "Mini-batch: 340000 train error: 0.37772894 train accuracy: 0.8125\n",
      "Epoch: 19155 validation error: 0.49445194 validation accuracy: 0.7762237762237763\n",
      "-------------------------------------------------------------------------\n",
      "Mini-batch: 350000 train error: 0.45062608 train accuracy: 0.75\n",
      "Epoch: 19719 validation error: 0.49446255 validation accuracy: 0.7762237762237763\n",
      "-------------------------------------------------------------------------\n",
      "Mini-batch: 360000 train error: 0.63894606 train accuracy: 0.625\n",
      "Epoch: 20282 validation error: 0.494465 validation accuracy: 0.7762237762237763\n",
      "-------------------------------------------------------------------------\n"
     ]
    },
    {
     "name": "stdout",
     "output_type": "stream",
     "text": [
      "Mini-batch: 370000 train error: 0.55789244 train accuracy: 0.6875\n",
      "Epoch: 20846 validation error: 0.4944686 validation accuracy: 0.7762237762237763\n",
      "-------------------------------------------------------------------------\n",
      "Mini-batch: 380000 train error: 0.5081684 train accuracy: 0.71875\n",
      "Epoch: 21409 validation error: 0.49445775 validation accuracy: 0.7762237762237763\n",
      "-------------------------------------------------------------------------\n",
      "Mini-batch: 390000 train error: 0.49745753 train accuracy: 0.75\n",
      "Epoch: 21972 validation error: 0.49446535 validation accuracy: 0.7762237762237763\n",
      "-------------------------------------------------------------------------\n",
      "Mini-batch: 400000 train error: 0.3220262 train accuracy: 0.875\n",
      "Epoch: 22536 validation error: 0.4944548 validation accuracy: 0.7762237762237763\n",
      "-------------------------------------------------------------------------\n",
      "Mini-batch: 410000 train error: 0.36770183 train accuracy: 0.8125\n",
      "Epoch: 23099 validation error: 0.49445623 validation accuracy: 0.7762237762237763\n",
      "-------------------------------------------------------------------------\n",
      "Mini-batch: 420000 train error: 0.42492172 train accuracy: 0.75\n",
      "Epoch: 23662 validation error: 0.49444735 validation accuracy: 0.7762237762237763\n",
      "-------------------------------------------------------------------------\n",
      "Mini-batch: 430000 train error: 0.36785954 train accuracy: 0.8125\n",
      "Epoch: 24226 validation error: 0.49446088 validation accuracy: 0.7762237762237763\n",
      "-------------------------------------------------------------------------\n",
      "Mini-batch: 440000 train error: 0.439682 train accuracy: 0.78125\n",
      "Epoch: 24789 validation error: 0.49447218 validation accuracy: 0.7762237762237763\n",
      "-------------------------------------------------------------------------\n",
      "Mini-batch: 450000 train error: 0.41613248 train accuracy: 0.84375\n",
      "Epoch: 25353 validation error: 0.494485 validation accuracy: 0.7762237762237763\n",
      "-------------------------------------------------------------------------\n",
      "Mini-batch: 460000 train error: 0.4181519 train accuracy: 0.8125\n",
      "Epoch: 25916 validation error: 0.49448857 validation accuracy: 0.7762237762237763\n",
      "-------------------------------------------------------------------------\n",
      "Mini-batch: 470000 train error: 0.46383193 train accuracy: 0.75\n",
      "Epoch: 26479 validation error: 0.494501 validation accuracy: 0.7762237762237763\n",
      "-------------------------------------------------------------------------\n",
      "Mini-batch: 480000 train error: 0.39307576 train accuracy: 0.78125\n",
      "Epoch: 27043 validation error: 0.49447167 validation accuracy: 0.7762237762237763\n",
      "-------------------------------------------------------------------------\n",
      "Mini-batch: 490000 train error: 0.41588244 train accuracy: 0.78125\n",
      "Epoch: 27606 validation error: 0.4944864 validation accuracy: 0.7762237762237763\n",
      "-------------------------------------------------------------------------\n",
      "Mini-batch: 500000 train error: 0.42359182 train accuracy: 0.84375\n",
      "Epoch: 28170 validation error: 0.49448723 validation accuracy: 0.7762237762237763\n",
      "-------------------------------------------------------------------------\n",
      "Mini-batch: 510000 train error: 0.41860428 train accuracy: 0.84375\n",
      "Epoch: 28733 validation error: 0.49449417 validation accuracy: 0.7762237762237763\n",
      "-------------------------------------------------------------------------\n",
      "Mini-batch: 520000 train error: 0.47892508 train accuracy: 0.8125\n",
      "Epoch: 29296 validation error: 0.49448258 validation accuracy: 0.7762237762237763\n",
      "-------------------------------------------------------------------------\n",
      "Mini-batch: 530000 train error: 0.49273065 train accuracy: 0.8125\n",
      "Epoch: 29860 validation error: 0.49447036 validation accuracy: 0.7762237762237763\n",
      "-------------------------------------------------------------------------\n",
      "Mini-batch: 540000 train error: 0.5123568 train accuracy: 0.75\n",
      "Epoch: 30423 validation error: 0.49445385 validation accuracy: 0.7762237762237763\n",
      "-------------------------------------------------------------------------\n",
      "Mini-batch: 550000 train error: 0.48751014 train accuracy: 0.78125\n",
      "Epoch: 30986 validation error: 0.49447113 validation accuracy: 0.7762237762237763\n",
      "-------------------------------------------------------------------------\n",
      "Mini-batch: 560000 train error: 0.45025545 train accuracy: 0.8125\n",
      "Epoch: 31550 validation error: 0.49443787 validation accuracy: 0.7762237762237763\n",
      "-------------------------------------------------------------------------\n",
      "Mini-batch: 570000 train error: 0.41428673 train accuracy: 0.8125\n",
      "Epoch: 32113 validation error: 0.4944324 validation accuracy: 0.7762237762237763\n",
      "-------------------------------------------------------------------------\n",
      "Mini-batch: 580000 train error: 0.34750757 train accuracy: 0.875\n",
      "Epoch: 32677 validation error: 0.49444836 validation accuracy: 0.7762237762237763\n",
      "-------------------------------------------------------------------------\n",
      "Mini-batch: 590000 train error: 0.4244413 train accuracy: 0.8125\n",
      "Epoch: 33240 validation error: 0.49445915 validation accuracy: 0.7762237762237763\n",
      "-------------------------------------------------------------------------\n",
      "Mini-batch: 600000 train error: 0.3868809 train accuracy: 0.84375\n",
      "Epoch: 33803 validation error: 0.4944543 validation accuracy: 0.7762237762237763\n",
      "-------------------------------------------------------------------------\n",
      "Mini-batch: 610000 train error: 0.49788457 train accuracy: 0.78125\n",
      "Epoch: 34367 validation error: 0.49447727 validation accuracy: 0.7762237762237763\n",
      "-------------------------------------------------------------------------\n",
      "Mini-batch: 620000 train error: 0.5718092 train accuracy: 0.78125\n",
      "Epoch: 34930 validation error: 0.4944987 validation accuracy: 0.7762237762237763\n",
      "-------------------------------------------------------------------------\n",
      "Mini-batch: 630000 train error: 0.53723717 train accuracy: 0.78125\n",
      "Epoch: 35493 validation error: 0.49453333 validation accuracy: 0.7762237762237763\n",
      "-------------------------------------------------------------------------\n",
      "Mini-batch: 640000 train error: 0.6203955 train accuracy: 0.75\n",
      "Epoch: 36057 validation error: 0.49452633 validation accuracy: 0.7762237762237763\n",
      "-------------------------------------------------------------------------\n",
      "Mini-batch: 650000 train error: 0.5330943 train accuracy: 0.78125\n",
      "Epoch: 36620 validation error: 0.49455762 validation accuracy: 0.7762237762237763\n",
      "-------------------------------------------------------------------------\n",
      "Mini-batch: 660000 train error: 0.45983288 train accuracy: 0.78125\n",
      "Epoch: 37184 validation error: 0.4945521 validation accuracy: 0.7762237762237763\n",
      "-------------------------------------------------------------------------\n",
      "Mini-batch: 670000 train error: 0.49123704 train accuracy: 0.78125\n",
      "Epoch: 37747 validation error: 0.49458843 validation accuracy: 0.7762237762237763\n",
      "-------------------------------------------------------------------------\n",
      "Mini-batch: 680000 train error: 0.41543856 train accuracy: 0.8125\n",
      "Epoch: 38310 validation error: 0.4945707 validation accuracy: 0.7762237762237763\n",
      "-------------------------------------------------------------------------\n",
      "Mini-batch: 690000 train error: 0.409356 train accuracy: 0.84375\n",
      "Epoch: 38874 validation error: 0.49456972 validation accuracy: 0.7762237762237763\n",
      "-------------------------------------------------------------------------\n",
      "Mini-batch: 700000 train error: 0.46571732 train accuracy: 0.8125\n",
      "Epoch: 39437 validation error: 0.49458718 validation accuracy: 0.7762237762237763\n",
      "-------------------------------------------------------------------------\n",
      "Mini-batch: 710000 train error: 0.5164077 train accuracy: 0.8125\n",
      "Epoch: 40001 validation error: 0.49455371 validation accuracy: 0.7762237762237763\n",
      "-------------------------------------------------------------------------\n"
     ]
    },
    {
     "data": {
      "text/plain": [
       "array([[ 3.7177286e-01,  1.2413695e-04,  1.8896129e-05, -2.5997811e-05,\n",
       "         1.3406110e+00, -2.4139051e+00, -6.5222180e-01,  4.2063168e-01,\n",
       "         5.8265001e-01,  3.1004980e-01,  2.5262913e-01, -2.1087341e-01,\n",
       "        -5.7266876e-05]], dtype=float32)"
      ]
     },
     "execution_count": 1091,
     "metadata": {},
     "output_type": "execute_result"
    }
   ],
   "source": [
    "train_LogisticRegressionClass(0.01, 40000, 10000, X_train_reshaped, X_val_reshaped, y_train_reshaped, y_val_reshaped, 32, 0.0025, 'lasso')"
   ]
  },
  {
   "cell_type": "code",
   "execution_count": 809,
   "metadata": {},
   "outputs": [
    {
     "name": "stdout",
     "output_type": "stream",
     "text": [
      "INFO:tensorflow:Graph was finalized.\n",
      "INFO:tensorflow:Running local_init_op.\n",
      "INFO:tensorflow:Done running local_init_op.\n",
      "Mini-batch: 0 train error: 0.6931472 train accuracy: 0.53125\n",
      "Epoch: 1 validation error: 0.6931472 validation accuracy: 0.6223776223776224\n",
      "-------------------------------------------------------------------------\n",
      "Mini-batch: 10000 train error: 0.6810852 train accuracy: 0.46875\n",
      "Epoch: 564 validation error: 0.65584797 validation accuracy: 0.6223776223776224\n",
      "-------------------------------------------------------------------------\n",
      "Mini-batch: 20000 train error: 0.67854273 train accuracy: 0.46875\n",
      "Epoch: 1127 validation error: 0.6400608 validation accuracy: 0.6363636363636364\n",
      "-------------------------------------------------------------------------\n",
      "Mini-batch: 30000 train error: 0.6763878 train accuracy: 0.5625\n",
      "Epoch: 1691 validation error: 0.63012636 validation accuracy: 0.6503496503496503\n",
      "-------------------------------------------------------------------------\n",
      "Mini-batch: 40000 train error: 0.66966337 train accuracy: 0.59375\n",
      "Epoch: 2254 validation error: 0.6229856 validation accuracy: 0.7062937062937062\n",
      "-------------------------------------------------------------------------\n",
      "Mini-batch: 50000 train error: 0.60737616 train accuracy: 0.71875\n",
      "Epoch: 2817 validation error: 0.6175249 validation accuracy: 0.7202797202797203\n",
      "-------------------------------------------------------------------------\n",
      "Mini-batch: 60000 train error: 0.60440576 train accuracy: 0.71875\n",
      "Epoch: 3381 validation error: 0.61298376 validation accuracy: 0.7202797202797203\n",
      "-------------------------------------------------------------------------\n",
      "Mini-batch: 70000 train error: 0.59235066 train accuracy: 0.75\n",
      "Epoch: 3944 validation error: 0.6090524 validation accuracy: 0.7272727272727273\n",
      "-------------------------------------------------------------------------\n",
      "Mini-batch: 80000 train error: 0.5384644 train accuracy: 0.78125\n",
      "Epoch: 4508 validation error: 0.6055818 validation accuracy: 0.7482517482517482\n",
      "-------------------------------------------------------------------------\n",
      "Mini-batch: 90000 train error: 0.62433416 train accuracy: 0.75\n",
      "Epoch: 5071 validation error: 0.60248435 validation accuracy: 0.7552447552447552\n",
      "-------------------------------------------------------------------------\n",
      "Mini-batch: 100000 train error: 0.59339267 train accuracy: 0.78125\n",
      "Epoch: 5634 validation error: 0.5997838 validation accuracy: 0.7622377622377622\n",
      "-------------------------------------------------------------------------\n",
      "Mini-batch: 110000 train error: 0.60486776 train accuracy: 0.71875\n",
      "Epoch: 6198 validation error: 0.5974157 validation accuracy: 0.7622377622377622\n",
      "-------------------------------------------------------------------------\n",
      "Mini-batch: 120000 train error: 0.6533544 train accuracy: 0.625\n",
      "Epoch: 6761 validation error: 0.59528315 validation accuracy: 0.7552447552447552\n",
      "-------------------------------------------------------------------------\n",
      "Mini-batch: 130000 train error: 0.5638264 train accuracy: 0.78125\n",
      "Epoch: 7324 validation error: 0.5933471 validation accuracy: 0.7552447552447552\n",
      "-------------------------------------------------------------------------\n",
      "Mini-batch: 140000 train error: 0.56809413 train accuracy: 0.78125\n",
      "Epoch: 7888 validation error: 0.5915787 validation accuracy: 0.7552447552447552\n",
      "-------------------------------------------------------------------------\n",
      "Mini-batch: 150000 train error: 0.5484668 train accuracy: 0.8125\n",
      "Epoch: 8451 validation error: 0.5900543 validation accuracy: 0.7552447552447552\n",
      "-------------------------------------------------------------------------\n",
      "Mini-batch: 160000 train error: 0.5202765 train accuracy: 0.84375\n",
      "Epoch: 9015 validation error: 0.5887198 validation accuracy: 0.7622377622377622\n",
      "-------------------------------------------------------------------------\n",
      "Mini-batch: 170000 train error: 0.5710243 train accuracy: 0.71875\n",
      "Epoch: 9578 validation error: 0.58752054 validation accuracy: 0.7622377622377622\n",
      "-------------------------------------------------------------------------\n",
      "Mini-batch: 180000 train error: 0.5839121 train accuracy: 0.6875\n",
      "Epoch: 10141 validation error: 0.5864337 validation accuracy: 0.7552447552447552\n",
      "-------------------------------------------------------------------------\n",
      "Mini-batch: 190000 train error: 0.62323976 train accuracy: 0.6875\n",
      "Epoch: 10705 validation error: 0.5854442 validation accuracy: 0.7552447552447552\n",
      "-------------------------------------------------------------------------\n",
      "Mini-batch: 200000 train error: 0.59458214 train accuracy: 0.78125\n",
      "Epoch: 11268 validation error: 0.5845396 validation accuracy: 0.7552447552447552\n",
      "-------------------------------------------------------------------------\n",
      "Mini-batch: 210000 train error: 0.6049569 train accuracy: 0.78125\n",
      "Epoch: 11831 validation error: 0.58371174 validation accuracy: 0.7552447552447552\n",
      "-------------------------------------------------------------------------\n",
      "Mini-batch: 220000 train error: 0.63768744 train accuracy: 0.78125\n",
      "Epoch: 12395 validation error: 0.58295053 validation accuracy: 0.7692307692307693\n",
      "-------------------------------------------------------------------------\n",
      "Mini-batch: 230000 train error: 0.64794374 train accuracy: 0.75\n",
      "Epoch: 12958 validation error: 0.58224994 validation accuracy: 0.7622377622377622\n",
      "-------------------------------------------------------------------------\n",
      "Mini-batch: 240000 train error: 0.61973834 train accuracy: 0.75\n",
      "Epoch: 13522 validation error: 0.581603 validation accuracy: 0.7622377622377622\n",
      "-------------------------------------------------------------------------\n",
      "Mini-batch: 250000 train error: 0.5414552 train accuracy: 0.84375\n",
      "Epoch: 14085 validation error: 0.5810048 validation accuracy: 0.7622377622377622\n",
      "-------------------------------------------------------------------------\n",
      "Mini-batch: 260000 train error: 0.50027144 train accuracy: 0.90625\n",
      "Epoch: 14648 validation error: 0.5804516 validation accuracy: 0.7622377622377622\n",
      "-------------------------------------------------------------------------\n",
      "Mini-batch: 270000 train error: 0.4914719 train accuracy: 0.90625\n",
      "Epoch: 15212 validation error: 0.5799373 validation accuracy: 0.7692307692307693\n",
      "-------------------------------------------------------------------------\n",
      "Mini-batch: 280000 train error: 0.58269936 train accuracy: 0.78125\n",
      "Epoch: 15775 validation error: 0.57945913 validation accuracy: 0.7692307692307693\n",
      "-------------------------------------------------------------------------\n",
      "Mini-batch: 290000 train error: 0.6240537 train accuracy: 0.75\n",
      "Epoch: 16339 validation error: 0.5790137 validation accuracy: 0.7692307692307693\n",
      "-------------------------------------------------------------------------\n",
      "Mini-batch: 300000 train error: 0.6349669 train accuracy: 0.6875\n",
      "Epoch: 16902 validation error: 0.5785989 validation accuracy: 0.7622377622377622\n",
      "-------------------------------------------------------------------------\n",
      "Mini-batch: 310000 train error: 0.5474824 train accuracy: 0.75\n",
      "Epoch: 17465 validation error: 0.57821053 validation accuracy: 0.7622377622377622\n",
      "-------------------------------------------------------------------------\n",
      "Mini-batch: 320000 train error: 0.47054696 train accuracy: 0.875\n",
      "Epoch: 18029 validation error: 0.5778468 validation accuracy: 0.7552447552447552\n",
      "-------------------------------------------------------------------------\n",
      "Mini-batch: 330000 train error: 0.47790197 train accuracy: 0.8125\n",
      "Epoch: 18592 validation error: 0.5775065 validation accuracy: 0.7552447552447552\n",
      "-------------------------------------------------------------------------\n",
      "Mini-batch: 340000 train error: 0.49574736 train accuracy: 0.78125\n",
      "Epoch: 19155 validation error: 0.577187 validation accuracy: 0.7552447552447552\n",
      "-------------------------------------------------------------------------\n",
      "Mini-batch: 350000 train error: 0.5539008 train accuracy: 0.71875\n",
      "Epoch: 19719 validation error: 0.5768859 validation accuracy: 0.7552447552447552\n",
      "-------------------------------------------------------------------------\n"
     ]
    },
    {
     "data": {
      "text/plain": [
       "array([[ 4.5281511e-02, -2.6621169e-06, -7.4464674e-07,  2.4248145e-06,\n",
       "         5.8618551e-01, -1.3700206e+00, -3.1256443e-01, -3.9504152e-06,\n",
       "         3.2564387e-01,  8.6742146e-03,  1.6644935e-06, -4.3941964e-06]],\n",
       "      dtype=float32)"
      ]
     },
     "execution_count": 809,
     "metadata": {},
     "output_type": "execute_result"
    }
   ],
   "source": [
    "train_LogisticRegressionClass(0.0001, 20000, 10000, X_train_reshaped, X_val_reshaped, y_train_reshaped, y_val_reshaped, 32, 0.025, 'lasso')"
   ]
  },
  {
   "cell_type": "code",
   "execution_count": 810,
   "metadata": {},
   "outputs": [],
   "source": [
    "%load_ext tensorboard\n"
   ]
  },
  {
   "cell_type": "code",
   "execution_count": 815,
   "metadata": {},
   "outputs": [
    {
     "name": "stdout",
     "output_type": "stream",
     "text": [
      "INFO:tensorflow:Graph was finalized.\n",
      "INFO:tensorflow:Running local_init_op.\n",
      "INFO:tensorflow:Done running local_init_op.\n",
      "Mini-batch: 0 train error: 0.6931472 train accuracy: 0.53125\n",
      "Epoch: 1 validation error: 0.6931472 validation accuracy: 0.6223776223776224\n",
      "-------------------------------------------------------------------------\n",
      "Mini-batch: 10000 train error: 0.6810852 train accuracy: 0.46875\n",
      "Epoch: 564 validation error: 0.65584797 validation accuracy: 0.6223776223776224\n",
      "-------------------------------------------------------------------------\n",
      "Mini-batch: 20000 train error: 0.67854273 train accuracy: 0.46875\n",
      "Epoch: 1127 validation error: 0.6400608 validation accuracy: 0.6363636363636364\n",
      "-------------------------------------------------------------------------\n",
      "Mini-batch: 30000 train error: 0.6763878 train accuracy: 0.5625\n",
      "Epoch: 1691 validation error: 0.63012636 validation accuracy: 0.6503496503496503\n",
      "-------------------------------------------------------------------------\n",
      "Mini-batch: 40000 train error: 0.66966337 train accuracy: 0.59375\n",
      "Epoch: 2254 validation error: 0.6229856 validation accuracy: 0.7062937062937062\n",
      "-------------------------------------------------------------------------\n",
      "Mini-batch: 50000 train error: 0.60737616 train accuracy: 0.71875\n",
      "Epoch: 2817 validation error: 0.6175249 validation accuracy: 0.7202797202797203\n",
      "-------------------------------------------------------------------------\n",
      "Mini-batch: 60000 train error: 0.60440576 train accuracy: 0.71875\n",
      "Epoch: 3381 validation error: 0.61298376 validation accuracy: 0.7202797202797203\n",
      "-------------------------------------------------------------------------\n",
      "Mini-batch: 70000 train error: 0.59235066 train accuracy: 0.75\n",
      "Epoch: 3944 validation error: 0.6090524 validation accuracy: 0.7272727272727273\n",
      "-------------------------------------------------------------------------\n",
      "Mini-batch: 80000 train error: 0.5384644 train accuracy: 0.78125\n",
      "Epoch: 4508 validation error: 0.6055818 validation accuracy: 0.7482517482517482\n",
      "-------------------------------------------------------------------------\n",
      "Mini-batch: 90000 train error: 0.62433416 train accuracy: 0.75\n",
      "Epoch: 5071 validation error: 0.60248435 validation accuracy: 0.7552447552447552\n",
      "-------------------------------------------------------------------------\n",
      "Mini-batch: 100000 train error: 0.59339267 train accuracy: 0.78125\n",
      "Epoch: 5634 validation error: 0.5997838 validation accuracy: 0.7622377622377622\n",
      "-------------------------------------------------------------------------\n",
      "Mini-batch: 110000 train error: 0.60486776 train accuracy: 0.71875\n",
      "Epoch: 6198 validation error: 0.5974157 validation accuracy: 0.7622377622377622\n",
      "-------------------------------------------------------------------------\n",
      "Mini-batch: 120000 train error: 0.6533544 train accuracy: 0.625\n",
      "Epoch: 6761 validation error: 0.59528315 validation accuracy: 0.7552447552447552\n",
      "-------------------------------------------------------------------------\n",
      "Mini-batch: 130000 train error: 0.5638264 train accuracy: 0.78125\n",
      "Epoch: 7324 validation error: 0.5933471 validation accuracy: 0.7552447552447552\n",
      "-------------------------------------------------------------------------\n",
      "Mini-batch: 140000 train error: 0.56809413 train accuracy: 0.78125\n",
      "Epoch: 7888 validation error: 0.5915787 validation accuracy: 0.7552447552447552\n",
      "-------------------------------------------------------------------------\n",
      "Mini-batch: 150000 train error: 0.5484668 train accuracy: 0.8125\n",
      "Epoch: 8451 validation error: 0.5900543 validation accuracy: 0.7552447552447552\n",
      "-------------------------------------------------------------------------\n",
      "Mini-batch: 160000 train error: 0.5202765 train accuracy: 0.84375\n",
      "Epoch: 9015 validation error: 0.5887198 validation accuracy: 0.7622377622377622\n",
      "-------------------------------------------------------------------------\n",
      "Mini-batch: 170000 train error: 0.5710243 train accuracy: 0.71875\n",
      "Epoch: 9578 validation error: 0.58752054 validation accuracy: 0.7622377622377622\n",
      "-------------------------------------------------------------------------\n",
      "Mini-batch: 180000 train error: 0.5839121 train accuracy: 0.6875\n",
      "Epoch: 10141 validation error: 0.5864337 validation accuracy: 0.7552447552447552\n",
      "-------------------------------------------------------------------------\n",
      "Mini-batch: 190000 train error: 0.62323976 train accuracy: 0.6875\n",
      "Epoch: 10705 validation error: 0.5854442 validation accuracy: 0.7552447552447552\n",
      "-------------------------------------------------------------------------\n",
      "Mini-batch: 200000 train error: 0.59458214 train accuracy: 0.78125\n",
      "Epoch: 11268 validation error: 0.5845396 validation accuracy: 0.7552447552447552\n",
      "-------------------------------------------------------------------------\n",
      "Mini-batch: 210000 train error: 0.6049569 train accuracy: 0.78125\n",
      "Epoch: 11831 validation error: 0.58371174 validation accuracy: 0.7552447552447552\n",
      "-------------------------------------------------------------------------\n",
      "Mini-batch: 220000 train error: 0.63768744 train accuracy: 0.78125\n",
      "Epoch: 12395 validation error: 0.58295053 validation accuracy: 0.7692307692307693\n",
      "-------------------------------------------------------------------------\n",
      "Mini-batch: 230000 train error: 0.64794374 train accuracy: 0.75\n",
      "Epoch: 12958 validation error: 0.58224994 validation accuracy: 0.7622377622377622\n",
      "-------------------------------------------------------------------------\n",
      "Mini-batch: 240000 train error: 0.61973834 train accuracy: 0.75\n",
      "Epoch: 13522 validation error: 0.581603 validation accuracy: 0.7622377622377622\n",
      "-------------------------------------------------------------------------\n",
      "Mini-batch: 250000 train error: 0.5414552 train accuracy: 0.84375\n",
      "Epoch: 14085 validation error: 0.5810048 validation accuracy: 0.7622377622377622\n",
      "-------------------------------------------------------------------------\n",
      "Mini-batch: 260000 train error: 0.50027144 train accuracy: 0.90625\n",
      "Epoch: 14648 validation error: 0.5804516 validation accuracy: 0.7622377622377622\n",
      "-------------------------------------------------------------------------\n",
      "Mini-batch: 270000 train error: 0.4914719 train accuracy: 0.90625\n",
      "Epoch: 15212 validation error: 0.5799373 validation accuracy: 0.7692307692307693\n",
      "-------------------------------------------------------------------------\n",
      "Mini-batch: 280000 train error: 0.58269936 train accuracy: 0.78125\n",
      "Epoch: 15775 validation error: 0.57945913 validation accuracy: 0.7692307692307693\n",
      "-------------------------------------------------------------------------\n",
      "Mini-batch: 290000 train error: 0.6240537 train accuracy: 0.75\n",
      "Epoch: 16339 validation error: 0.5790137 validation accuracy: 0.7692307692307693\n",
      "-------------------------------------------------------------------------\n",
      "Mini-batch: 300000 train error: 0.6349669 train accuracy: 0.6875\n",
      "Epoch: 16902 validation error: 0.5785989 validation accuracy: 0.7622377622377622\n",
      "-------------------------------------------------------------------------\n",
      "Mini-batch: 310000 train error: 0.5474824 train accuracy: 0.75\n",
      "Epoch: 17465 validation error: 0.57821053 validation accuracy: 0.7622377622377622\n",
      "-------------------------------------------------------------------------\n",
      "Mini-batch: 320000 train error: 0.47054696 train accuracy: 0.875\n",
      "Epoch: 18029 validation error: 0.5778468 validation accuracy: 0.7552447552447552\n",
      "-------------------------------------------------------------------------\n",
      "Mini-batch: 330000 train error: 0.47790197 train accuracy: 0.8125\n",
      "Epoch: 18592 validation error: 0.5775065 validation accuracy: 0.7552447552447552\n",
      "-------------------------------------------------------------------------\n",
      "Mini-batch: 340000 train error: 0.49574736 train accuracy: 0.78125\n",
      "Epoch: 19155 validation error: 0.577187 validation accuracy: 0.7552447552447552\n",
      "-------------------------------------------------------------------------\n",
      "Mini-batch: 350000 train error: 0.5539008 train accuracy: 0.71875\n",
      "Epoch: 19719 validation error: 0.5768859 validation accuracy: 0.7552447552447552\n",
      "-------------------------------------------------------------------------\n",
      "Mini-batch: 360000 train error: 0.6896461 train accuracy: 0.59375\n",
      "Epoch: 20282 validation error: 0.576603 validation accuracy: 0.7552447552447552\n",
      "-------------------------------------------------------------------------\n"
     ]
    },
    {
     "name": "stdout",
     "output_type": "stream",
     "text": [
      "Mini-batch: 370000 train error: 0.65271074 train accuracy: 0.625\n",
      "Epoch: 20846 validation error: 0.57633597 validation accuracy: 0.7482517482517482\n",
      "-------------------------------------------------------------------------\n",
      "Mini-batch: 380000 train error: 0.6129717 train accuracy: 0.6875\n",
      "Epoch: 21409 validation error: 0.5760831 validation accuracy: 0.7482517482517482\n",
      "-------------------------------------------------------------------------\n",
      "Mini-batch: 390000 train error: 0.59484786 train accuracy: 0.71875\n",
      "Epoch: 21972 validation error: 0.57584363 validation accuracy: 0.7482517482517482\n",
      "-------------------------------------------------------------------------\n",
      "Mini-batch: 400000 train error: 0.47199434 train accuracy: 0.84375\n",
      "Epoch: 22536 validation error: 0.57562375 validation accuracy: 0.7412587412587412\n",
      "-------------------------------------------------------------------------\n",
      "Mini-batch: 410000 train error: 0.49664268 train accuracy: 0.8125\n",
      "Epoch: 23099 validation error: 0.5754177 validation accuracy: 0.7412587412587412\n",
      "-------------------------------------------------------------------------\n",
      "Mini-batch: 420000 train error: 0.53856194 train accuracy: 0.75\n",
      "Epoch: 23662 validation error: 0.5752221 validation accuracy: 0.7412587412587412\n",
      "-------------------------------------------------------------------------\n",
      "Mini-batch: 430000 train error: 0.5051655 train accuracy: 0.8125\n",
      "Epoch: 24226 validation error: 0.57503664 validation accuracy: 0.7482517482517482\n",
      "-------------------------------------------------------------------------\n",
      "Mini-batch: 440000 train error: 0.57562894 train accuracy: 0.78125\n",
      "Epoch: 24789 validation error: 0.5748608 validation accuracy: 0.7552447552447552\n",
      "-------------------------------------------------------------------------\n",
      "Mini-batch: 450000 train error: 0.5728034 train accuracy: 0.78125\n",
      "Epoch: 25353 validation error: 0.5746941 validation accuracy: 0.7552447552447552\n",
      "-------------------------------------------------------------------------\n",
      "Mini-batch: 460000 train error: 0.5567433 train accuracy: 0.84375\n",
      "Epoch: 25916 validation error: 0.5745343 validation accuracy: 0.7552447552447552\n",
      "-------------------------------------------------------------------------\n",
      "Mini-batch: 470000 train error: 0.5872817 train accuracy: 0.8125\n",
      "Epoch: 26479 validation error: 0.5743818 validation accuracy: 0.7552447552447552\n",
      "-------------------------------------------------------------------------\n",
      "Mini-batch: 480000 train error: 0.52847457 train accuracy: 0.8125\n",
      "Epoch: 27043 validation error: 0.574236 validation accuracy: 0.7552447552447552\n",
      "-------------------------------------------------------------------------\n",
      "Mini-batch: 490000 train error: 0.54619956 train accuracy: 0.84375\n",
      "Epoch: 27606 validation error: 0.57409745 validation accuracy: 0.7552447552447552\n",
      "-------------------------------------------------------------------------\n",
      "Mini-batch: 500000 train error: 0.5909598 train accuracy: 0.75\n",
      "Epoch: 28170 validation error: 0.5739631 validation accuracy: 0.7552447552447552\n",
      "-------------------------------------------------------------------------\n",
      "Mini-batch: 510000 train error: 0.59269553 train accuracy: 0.71875\n",
      "Epoch: 28733 validation error: 0.5738343 validation accuracy: 0.7482517482517482\n",
      "-------------------------------------------------------------------------\n",
      "Mini-batch: 520000 train error: 0.6188551 train accuracy: 0.71875\n",
      "Epoch: 29296 validation error: 0.57370996 validation accuracy: 0.7482517482517482\n",
      "-------------------------------------------------------------------------\n",
      "Mini-batch: 530000 train error: 0.62888366 train accuracy: 0.6875\n",
      "Epoch: 29860 validation error: 0.5735901 validation accuracy: 0.7412587412587412\n",
      "-------------------------------------------------------------------------\n",
      "Mini-batch: 540000 train error: 0.6031165 train accuracy: 0.71875\n",
      "Epoch: 30423 validation error: 0.5734745 validation accuracy: 0.7412587412587412\n",
      "-------------------------------------------------------------------------\n",
      "Mini-batch: 550000 train error: 0.5770322 train accuracy: 0.75\n",
      "Epoch: 30986 validation error: 0.5733631 validation accuracy: 0.7482517482517482\n",
      "-------------------------------------------------------------------------\n",
      "Mini-batch: 560000 train error: 0.55552566 train accuracy: 0.78125\n",
      "Epoch: 31550 validation error: 0.57325494 validation accuracy: 0.7482517482517482\n",
      "-------------------------------------------------------------------------\n",
      "Mini-batch: 570000 train error: 0.49930948 train accuracy: 0.8125\n",
      "Epoch: 32113 validation error: 0.57315075 validation accuracy: 0.7482517482517482\n",
      "-------------------------------------------------------------------------\n",
      "Mini-batch: 580000 train error: 0.45843142 train accuracy: 0.875\n",
      "Epoch: 32677 validation error: 0.57304895 validation accuracy: 0.7552447552447552\n",
      "-------------------------------------------------------------------------\n",
      "Mini-batch: 590000 train error: 0.50383073 train accuracy: 0.8125\n",
      "Epoch: 33240 validation error: 0.57295084 validation accuracy: 0.7552447552447552\n",
      "-------------------------------------------------------------------------\n",
      "Mini-batch: 600000 train error: 0.48421577 train accuracy: 0.84375\n",
      "Epoch: 33803 validation error: 0.57285535 validation accuracy: 0.7552447552447552\n",
      "-------------------------------------------------------------------------\n",
      "Mini-batch: 610000 train error: 0.56013834 train accuracy: 0.78125\n",
      "Epoch: 34367 validation error: 0.57276297 validation accuracy: 0.7552447552447552\n",
      "-------------------------------------------------------------------------\n",
      "Mini-batch: 620000 train error: 0.60829127 train accuracy: 0.78125\n",
      "Epoch: 34930 validation error: 0.57267344 validation accuracy: 0.7552447552447552\n",
      "-------------------------------------------------------------------------\n",
      "Mini-batch: 630000 train error: 0.5794204 train accuracy: 0.84375\n",
      "Epoch: 35493 validation error: 0.5725862 validation accuracy: 0.7552447552447552\n",
      "-------------------------------------------------------------------------\n",
      "Mini-batch: 640000 train error: 0.64478874 train accuracy: 0.78125\n",
      "Epoch: 36057 validation error: 0.57250094 validation accuracy: 0.7622377622377622\n",
      "-------------------------------------------------------------------------\n",
      "Mini-batch: 650000 train error: 0.6076791 train accuracy: 0.8125\n",
      "Epoch: 36620 validation error: 0.5724174 validation accuracy: 0.7622377622377622\n",
      "-------------------------------------------------------------------------\n",
      "Mini-batch: 660000 train error: 0.56534255 train accuracy: 0.8125\n",
      "Epoch: 37184 validation error: 0.57233584 validation accuracy: 0.7622377622377622\n",
      "-------------------------------------------------------------------------\n",
      "Mini-batch: 670000 train error: 0.605693 train accuracy: 0.78125\n",
      "Epoch: 37747 validation error: 0.5722564 validation accuracy: 0.7622377622377622\n",
      "-------------------------------------------------------------------------\n",
      "Mini-batch: 680000 train error: 0.5415995 train accuracy: 0.8125\n",
      "Epoch: 38310 validation error: 0.5721786 validation accuracy: 0.7622377622377622\n",
      "-------------------------------------------------------------------------\n",
      "Mini-batch: 690000 train error: 0.5436867 train accuracy: 0.84375\n",
      "Epoch: 38874 validation error: 0.57210255 validation accuracy: 0.7622377622377622\n",
      "-------------------------------------------------------------------------\n",
      "Mini-batch: 700000 train error: 0.58522487 train accuracy: 0.8125\n",
      "Epoch: 39437 validation error: 0.572028 validation accuracy: 0.7622377622377622\n",
      "-------------------------------------------------------------------------\n",
      "Mini-batch: 710000 train error: 0.6063386 train accuracy: 0.8125\n",
      "Epoch: 40001 validation error: 0.5719544 validation accuracy: 0.7622377622377622\n",
      "-------------------------------------------------------------------------\n",
      "Mini-batch: 720000 train error: 0.58097005 train accuracy: 0.84375\n",
      "Epoch: 40564 validation error: 0.5718824 validation accuracy: 0.7622377622377622\n",
      "-------------------------------------------------------------------------\n",
      "Mini-batch: 730000 train error: 0.59122086 train accuracy: 0.8125\n",
      "Epoch: 41127 validation error: 0.571818 validation accuracy: 0.7622377622377622\n",
      "-------------------------------------------------------------------------\n",
      "Mini-batch: 740000 train error: 0.58153147 train accuracy: 0.8125\n",
      "Epoch: 41691 validation error: 0.57176685 validation accuracy: 0.7622377622377622\n",
      "-------------------------------------------------------------------------\n"
     ]
    },
    {
     "name": "stdout",
     "output_type": "stream",
     "text": [
      "Mini-batch: 750000 train error: 0.48706287 train accuracy: 0.84375\n",
      "Epoch: 42254 validation error: 0.5717226 validation accuracy: 0.7622377622377622\n",
      "-------------------------------------------------------------------------\n",
      "Mini-batch: 760000 train error: 0.60521495 train accuracy: 0.71875\n",
      "Epoch: 42817 validation error: 0.57168406 validation accuracy: 0.7622377622377622\n",
      "-------------------------------------------------------------------------\n",
      "Mini-batch: 770000 train error: 0.5889186 train accuracy: 0.71875\n",
      "Epoch: 43381 validation error: 0.5716504 validation accuracy: 0.7692307692307693\n",
      "-------------------------------------------------------------------------\n",
      "Mini-batch: 780000 train error: 0.5810268 train accuracy: 0.78125\n",
      "Epoch: 43944 validation error: 0.5716218 validation accuracy: 0.7832167832167832\n",
      "-------------------------------------------------------------------------\n",
      "Mini-batch: 790000 train error: 0.6444037 train accuracy: 0.75\n",
      "Epoch: 44508 validation error: 0.5715962 validation accuracy: 0.7832167832167832\n",
      "-------------------------------------------------------------------------\n",
      "Mini-batch: 800000 train error: 0.528684 train accuracy: 0.84375\n",
      "Epoch: 45071 validation error: 0.57157356 validation accuracy: 0.7832167832167832\n",
      "-------------------------------------------------------------------------\n",
      "Mini-batch: 810000 train error: 0.5316414 train accuracy: 0.84375\n",
      "Epoch: 45634 validation error: 0.57155347 validation accuracy: 0.7832167832167832\n",
      "-------------------------------------------------------------------------\n",
      "Mini-batch: 820000 train error: 0.52153325 train accuracy: 0.875\n",
      "Epoch: 46198 validation error: 0.5715364 validation accuracy: 0.7832167832167832\n",
      "-------------------------------------------------------------------------\n",
      "Mini-batch: 830000 train error: 0.48466617 train accuracy: 0.875\n",
      "Epoch: 46761 validation error: 0.571521 validation accuracy: 0.7832167832167832\n",
      "-------------------------------------------------------------------------\n",
      "Mini-batch: 840000 train error: 0.5523296 train accuracy: 0.8125\n",
      "Epoch: 47324 validation error: 0.5715072 validation accuracy: 0.7832167832167832\n",
      "-------------------------------------------------------------------------\n",
      "Mini-batch: 850000 train error: 0.5519731 train accuracy: 0.84375\n",
      "Epoch: 47888 validation error: 0.5714954 validation accuracy: 0.7832167832167832\n",
      "-------------------------------------------------------------------------\n",
      "Mini-batch: 860000 train error: 0.5873632 train accuracy: 0.84375\n",
      "Epoch: 48451 validation error: 0.57148486 validation accuracy: 0.7832167832167832\n",
      "-------------------------------------------------------------------------\n",
      "Mini-batch: 870000 train error: 0.55770314 train accuracy: 0.875\n",
      "Epoch: 49015 validation error: 0.5714757 validation accuracy: 0.7832167832167832\n",
      "-------------------------------------------------------------------------\n",
      "Mini-batch: 880000 train error: 0.5529812 train accuracy: 0.90625\n",
      "Epoch: 49578 validation error: 0.5714681 validation accuracy: 0.7832167832167832\n",
      "-------------------------------------------------------------------------\n"
     ]
    },
    {
     "data": {
      "text/plain": [
       "array([[ 1.9243649e-05,  3.7076318e-06, -1.8483811e-06, -1.3359603e-06,\n",
       "         8.7260640e-01, -1.6032484e+00, -2.4372065e-01,  1.2697213e-05,\n",
       "         3.2922214e-01,  4.7841318e-06, -9.8300234e-07,  9.2753762e-06]],\n",
       "      dtype=float32)"
      ]
     },
     "execution_count": 815,
     "metadata": {},
     "output_type": "execute_result"
    }
   ],
   "source": [
    "train_LogisticRegressionClass(0.001, 50000, 10000, X_train_reshaped, X_val_reshaped, y_train_reshaped, y_val_reshaped, 32, 0.0025, 'lasso')"
   ]
  },
  {
   "cell_type": "code",
   "execution_count": 1092,
   "metadata": {},
   "outputs": [
    {
     "name": "stdout",
     "output_type": "stream",
     "text": [
      "INFO:tensorflow:Graph was finalized.\n",
      "INFO:tensorflow:Running local_init_op.\n",
      "INFO:tensorflow:Done running local_init_op.\n",
      "Mini-batch: 0 train error: 0.6931472 train accuracy: 0.53125\n",
      "Epoch: 1 validation error: 0.6931472 validation accuracy: 0.6223776223776224\n",
      "-------------------------------------------------------------------------\n",
      "Mini-batch: 10000 train error: 0.52125597 train accuracy: 0.8125\n",
      "Epoch: 564 validation error: 0.536085 validation accuracy: 0.7622377622377622\n",
      "-------------------------------------------------------------------------\n",
      "Mini-batch: 20000 train error: 0.46394473 train accuracy: 0.8125\n",
      "Epoch: 1127 validation error: 0.504232 validation accuracy: 0.7692307692307693\n",
      "-------------------------------------------------------------------------\n",
      "Mini-batch: 30000 train error: 0.4734108 train accuracy: 0.75\n",
      "Epoch: 1691 validation error: 0.49147406 validation accuracy: 0.7762237762237763\n",
      "-------------------------------------------------------------------------\n",
      "Mini-batch: 40000 train error: 0.5058785 train accuracy: 0.75\n",
      "Epoch: 2254 validation error: 0.4857707 validation accuracy: 0.7762237762237763\n",
      "-------------------------------------------------------------------------\n",
      "Mini-batch: 50000 train error: 0.48382694 train accuracy: 0.8125\n",
      "Epoch: 2817 validation error: 0.4831506 validation accuracy: 0.7762237762237763\n",
      "-------------------------------------------------------------------------\n",
      "Mini-batch: 60000 train error: 0.4941626 train accuracy: 0.78125\n",
      "Epoch: 3381 validation error: 0.4819762 validation accuracy: 0.7762237762237763\n",
      "-------------------------------------------------------------------------\n",
      "Mini-batch: 70000 train error: 0.4996251 train accuracy: 0.8125\n",
      "Epoch: 3944 validation error: 0.48150244 validation accuracy: 0.7762237762237763\n",
      "-------------------------------------------------------------------------\n",
      "Mini-batch: 80000 train error: 0.34537268 train accuracy: 0.875\n",
      "Epoch: 4508 validation error: 0.48135877 validation accuracy: 0.7692307692307693\n",
      "-------------------------------------------------------------------------\n",
      "Mini-batch: 90000 train error: 0.49528533 train accuracy: 0.78125\n",
      "Epoch: 5071 validation error: 0.48137623 validation accuracy: 0.7692307692307693\n",
      "-------------------------------------------------------------------------\n",
      "Mini-batch: 100000 train error: 0.51984495 train accuracy: 0.75\n",
      "Epoch: 5634 validation error: 0.48146045 validation accuracy: 0.7692307692307693\n",
      "-------------------------------------------------------------------------\n",
      "Mini-batch: 110000 train error: 0.49772596 train accuracy: 0.75\n",
      "Epoch: 6198 validation error: 0.48156685 validation accuracy: 0.7692307692307693\n",
      "-------------------------------------------------------------------------\n",
      "Mini-batch: 120000 train error: 0.6088996 train accuracy: 0.71875\n",
      "Epoch: 6761 validation error: 0.48166806 validation accuracy: 0.7622377622377622\n",
      "-------------------------------------------------------------------------\n",
      "Mini-batch: 130000 train error: 0.43131036 train accuracy: 0.8125\n",
      "Epoch: 7324 validation error: 0.48175496 validation accuracy: 0.7622377622377622\n",
      "-------------------------------------------------------------------------\n",
      "Mini-batch: 140000 train error: 0.4171675 train accuracy: 0.84375\n",
      "Epoch: 7888 validation error: 0.48183292 validation accuracy: 0.7622377622377622\n",
      "-------------------------------------------------------------------------\n",
      "Mini-batch: 150000 train error: 0.41989654 train accuracy: 0.84375\n",
      "Epoch: 8451 validation error: 0.48189458 validation accuracy: 0.7622377622377622\n",
      "-------------------------------------------------------------------------\n",
      "Mini-batch: 160000 train error: 0.33824775 train accuracy: 0.8125\n",
      "Epoch: 9015 validation error: 0.48193786 validation accuracy: 0.7622377622377622\n",
      "-------------------------------------------------------------------------\n",
      "Mini-batch: 170000 train error: 0.3902806 train accuracy: 0.78125\n",
      "Epoch: 9578 validation error: 0.48197335 validation accuracy: 0.7622377622377622\n",
      "-------------------------------------------------------------------------\n"
     ]
    },
    {
     "data": {
      "text/plain": [
       "array([[ 0.63286036, -0.21098177, -0.08492222,  0.02014267,  1.1322442 ,\n",
       "        -2.5382073 , -0.6648307 ,  0.5808273 ,  0.71688837,  0.4184005 ,\n",
       "         0.44417584, -0.22972691, -0.06477563]], dtype=float32)"
      ]
     },
     "execution_count": 1092,
     "metadata": {},
     "output_type": "execute_result"
    }
   ],
   "source": [
    "train_LogisticRegressionClass(0.001, 10000, 10000, X_train_reshaped, X_val_reshaped, y_train_reshaped, y_val_reshaped, 32, 0.00000000000000000000000000000000000001 , 'ridge')"
   ]
  },
  {
   "cell_type": "code",
   "execution_count": 843,
   "metadata": {
    "scrolled": false
   },
   "outputs": [
    {
     "name": "stdout",
     "output_type": "stream",
     "text": [
      "INFO:tensorflow:Graph was finalized.\n",
      "INFO:tensorflow:Running local_init_op.\n",
      "INFO:tensorflow:Done running local_init_op.\n",
      "Mini-batch: 0 train error: 0.6931472 train accuracy: 0.53125\n",
      "Epoch: 1 validation error: 0.6931472 validation accuracy: 0.6223776223776224\n",
      "-------------------------------------------------------------------------\n",
      "Mini-batch: 10000 train error: 0.40180993 train accuracy: 0.8125\n",
      "Epoch: 564 validation error: 0.48159444 validation accuracy: 0.7692307692307693\n",
      "-------------------------------------------------------------------------\n",
      "Mini-batch: 20000 train error: 0.3892909 train accuracy: 0.84375\n",
      "Epoch: 1127 validation error: 0.48228294 validation accuracy: 0.7622377622377622\n",
      "-------------------------------------------------------------------------\n",
      "Mini-batch: 30000 train error: 0.44570336 train accuracy: 0.8125\n",
      "Epoch: 1691 validation error: 0.4823023 validation accuracy: 0.7692307692307693\n",
      "-------------------------------------------------------------------------\n",
      "Mini-batch: 40000 train error: 0.5003342 train accuracy: 0.8125\n",
      "Epoch: 2254 validation error: 0.48217577 validation accuracy: 0.7622377622377622\n",
      "-------------------------------------------------------------------------\n",
      "Mini-batch: 50000 train error: 0.48872632 train accuracy: 0.84375\n",
      "Epoch: 2817 validation error: 0.48206875 validation accuracy: 0.7622377622377622\n",
      "-------------------------------------------------------------------------\n",
      "Mini-batch: 60000 train error: 0.5005772 train accuracy: 0.8125\n",
      "Epoch: 3381 validation error: 0.48197067 validation accuracy: 0.7622377622377622\n",
      "-------------------------------------------------------------------------\n",
      "Mini-batch: 70000 train error: 0.5070408 train accuracy: 0.8125\n",
      "Epoch: 3944 validation error: 0.48190954 validation accuracy: 0.7622377622377622\n",
      "-------------------------------------------------------------------------\n",
      "Mini-batch: 80000 train error: 0.338768 train accuracy: 0.875\n",
      "Epoch: 4508 validation error: 0.4817763 validation accuracy: 0.7622377622377622\n",
      "-------------------------------------------------------------------------\n",
      "Mini-batch: 90000 train error: 0.49496663 train accuracy: 0.78125\n",
      "Epoch: 5071 validation error: 0.48169735 validation accuracy: 0.7622377622377622\n",
      "-------------------------------------------------------------------------\n",
      "Mini-batch: 100000 train error: 0.52207327 train accuracy: 0.75\n",
      "Epoch: 5634 validation error: 0.4816177 validation accuracy: 0.7622377622377622\n",
      "-------------------------------------------------------------------------\n",
      "Mini-batch: 110000 train error: 0.49688894 train accuracy: 0.75\n",
      "Epoch: 6198 validation error: 0.48155537 validation accuracy: 0.7622377622377622\n",
      "-------------------------------------------------------------------------\n",
      "Mini-batch: 120000 train error: 0.6108135 train accuracy: 0.71875\n",
      "Epoch: 6761 validation error: 0.4814555 validation accuracy: 0.7622377622377622\n",
      "-------------------------------------------------------------------------\n",
      "Mini-batch: 130000 train error: 0.42910618 train accuracy: 0.8125\n",
      "Epoch: 7324 validation error: 0.48132586 validation accuracy: 0.7622377622377622\n",
      "-------------------------------------------------------------------------\n",
      "Mini-batch: 140000 train error: 0.41496828 train accuracy: 0.84375\n",
      "Epoch: 7888 validation error: 0.48125762 validation accuracy: 0.7622377622377622\n",
      "-------------------------------------------------------------------------\n",
      "Mini-batch: 150000 train error: 0.41747296 train accuracy: 0.84375\n",
      "Epoch: 8451 validation error: 0.48117897 validation accuracy: 0.7622377622377622\n",
      "-------------------------------------------------------------------------\n",
      "Mini-batch: 160000 train error: 0.3345275 train accuracy: 0.8125\n",
      "Epoch: 9015 validation error: 0.48105568 validation accuracy: 0.7622377622377622\n",
      "-------------------------------------------------------------------------\n",
      "Mini-batch: 170000 train error: 0.38851804 train accuracy: 0.75\n",
      "Epoch: 9578 validation error: 0.48099187 validation accuracy: 0.7622377622377622\n",
      "-------------------------------------------------------------------------\n"
     ]
    },
    {
     "data": {
      "text/plain": [
       "array([[ 0.62094843, -0.20459764, -1.0272313 , -0.12553796,  1.205409  ,\n",
       "        -2.553037  , -0.66373116,  0.5837145 ,  0.7009559 ,  0.3992751 ,\n",
       "         0.46149853, -0.2398311 ]], dtype=float32)"
      ]
     },
     "execution_count": 843,
     "metadata": {},
     "output_type": "execute_result"
    }
   ],
   "source": [
    "train_LogisticRegressionClass(0.01, 10000, 10000, X_train_reshaped, X_val_reshaped, y_train_reshaped, y_val_reshaped, 32, 0.00000000000000000000000000000000000001 , 'ridge')"
   ]
  },
  {
   "cell_type": "code",
   "execution_count": 1095,
   "metadata": {
    "scrolled": true
   },
   "outputs": [
    {
     "name": "stdout",
     "output_type": "stream",
     "text": [
      "INFO:tensorflow:Graph was finalized.\n",
      "INFO:tensorflow:Running local_init_op.\n",
      "INFO:tensorflow:Done running local_init_op.\n",
      "Mini-batch: 0 train error: 0.6931472 train accuracy: 0.53125\n",
      "Epoch: 1 validation error: 0.6931472 validation accuracy: 0.6223776223776224\n",
      "-------------------------------------------------------------------------\n",
      "Mini-batch: 10000 train error: 0.63419414 train accuracy: 0.8125\n",
      "Epoch: 564 validation error: 0.62031156 validation accuracy: 0.7832167832167832\n",
      "-------------------------------------------------------------------------\n",
      "Mini-batch: 20000 train error: 0.6270167 train accuracy: 0.84375\n",
      "Epoch: 1127 validation error: 0.62023664 validation accuracy: 0.7832167832167832\n",
      "-------------------------------------------------------------------------\n",
      "Mini-batch: 30000 train error: 0.65765095 train accuracy: 0.78125\n",
      "Epoch: 1691 validation error: 0.62030035 validation accuracy: 0.7832167832167832\n",
      "-------------------------------------------------------------------------\n",
      "Mini-batch: 40000 train error: 0.65599346 train accuracy: 0.78125\n",
      "Epoch: 2254 validation error: 0.62023246 validation accuracy: 0.7832167832167832\n",
      "-------------------------------------------------------------------------\n",
      "Mini-batch: 50000 train error: 0.6145516 train accuracy: 0.78125\n",
      "Epoch: 2817 validation error: 0.62028533 validation accuracy: 0.7832167832167832\n",
      "-------------------------------------------------------------------------\n",
      "Mini-batch: 60000 train error: 0.6268821 train accuracy: 0.75\n",
      "Epoch: 3381 validation error: 0.6202681 validation accuracy: 0.7832167832167832\n",
      "-------------------------------------------------------------------------\n",
      "Mini-batch: 70000 train error: 0.6130397 train accuracy: 0.78125\n",
      "Epoch: 3944 validation error: 0.62024134 validation accuracy: 0.7832167832167832\n",
      "-------------------------------------------------------------------------\n",
      "Mini-batch: 80000 train error: 0.5444247 train accuracy: 0.875\n",
      "Epoch: 4508 validation error: 0.6202615 validation accuracy: 0.7832167832167832\n",
      "-------------------------------------------------------------------------\n",
      "Mini-batch: 90000 train error: 0.65107656 train accuracy: 0.78125\n",
      "Epoch: 5071 validation error: 0.62028825 validation accuracy: 0.7832167832167832\n",
      "-------------------------------------------------------------------------\n",
      "Mini-batch: 100000 train error: 0.6247636 train accuracy: 0.78125\n",
      "Epoch: 5634 validation error: 0.6201955 validation accuracy: 0.7832167832167832\n",
      "-------------------------------------------------------------------------\n",
      "Mini-batch: 110000 train error: 0.6346984 train accuracy: 0.78125\n",
      "Epoch: 6198 validation error: 0.6202125 validation accuracy: 0.7832167832167832\n",
      "-------------------------------------------------------------------------\n",
      "Mini-batch: 120000 train error: 0.67255026 train accuracy: 0.75\n",
      "Epoch: 6761 validation error: 0.6201965 validation accuracy: 0.7832167832167832\n",
      "-------------------------------------------------------------------------\n",
      "Mini-batch: 130000 train error: 0.58118206 train accuracy: 0.84375\n",
      "Epoch: 7324 validation error: 0.6202856 validation accuracy: 0.7832167832167832\n",
      "-------------------------------------------------------------------------\n",
      "Mini-batch: 140000 train error: 0.588258 train accuracy: 0.84375\n",
      "Epoch: 7888 validation error: 0.6201641 validation accuracy: 0.7832167832167832\n",
      "-------------------------------------------------------------------------\n",
      "Mini-batch: 150000 train error: 0.5606003 train accuracy: 0.875\n",
      "Epoch: 8451 validation error: 0.6202377 validation accuracy: 0.7832167832167832\n",
      "-------------------------------------------------------------------------\n",
      "Mini-batch: 160000 train error: 0.5582189 train accuracy: 0.875\n",
      "Epoch: 9015 validation error: 0.6202812 validation accuracy: 0.7832167832167832\n",
      "-------------------------------------------------------------------------\n",
      "Mini-batch: 170000 train error: 0.62629604 train accuracy: 0.8125\n",
      "Epoch: 9578 validation error: 0.6201714 validation accuracy: 0.7832167832167832\n",
      "-------------------------------------------------------------------------\n"
     ]
    }
   ],
   "source": [
    "best_LogisticRegressionClass = train_LogisticRegressionClass(0.01, 10000, 10000, X_train_reshaped, X_val_reshaped, y_train_reshaped, y_val_reshaped, 32, 0.05, 'lasso')"
   ]
  },
  {
   "cell_type": "code",
   "execution_count": 1106,
   "metadata": {},
   "outputs": [
    {
     "data": {
      "text/plain": [
       "[\"train_LogisticRegressionClass(0.01, 10000, 10000, X_train_reshaped, X_val_reshaped, y_train_reshaped, y_val_reshaped, 32, 0.05, 'lasso').joblib\"]"
      ]
     },
     "execution_count": 1106,
     "metadata": {},
     "output_type": "execute_result"
    }
   ],
   "source": [
    "dump(best_LogisticRegressionClass, \"train_LogisticRegressionClass(0.01, 10000, 10000, X_train_reshaped, X_val_reshaped, y_train_reshaped, y_val_reshaped, 32, 0.05, 'lasso').joblib\")"
   ]
  },
  {
   "cell_type": "markdown",
   "metadata": {},
   "source": [
    "## K Folds cross validation\n",
    "\n",
    "El método de validación cruzada por medio de K Folds es un método utilizado para evaluar el rendimiento de un modelo antes de hacer las pruebas de en datos específicos de prueba. En otras palabras, es una manera de hacer la validación de nuestro modelo antes de ponerlo realmente a prueba. \n",
    "\n",
    "El algoritmo de K folds consiste en lo siguiente:\n",
    "\n",
    "* Hacer una reorganización aleatoria de todos los datos del dataset\n",
    "* Se divide el dataset en k diferentes grupos\n",
    "* Para cada uno de los grupos específicos se debe:\n",
    "    - Tomar el grupo como un grupo de validación\n",
    "    - Tomar todos los demás grupos como el dataset de entrenamiento\n",
    "    - Entrenar el modelo en este dataset de entrenamiento y evaluarlo en contra del grupo de validación\n",
    "    - Se guarda la métrica de evaluación y se descarta el modelo\n",
    "* Se calcula un promedio de todas las métricas de evaluación de todos los modelos generados durante el procedimiento\n",
    "\n",
    "Existen tres tácticas comunes para elegir el tamaño de los k grupos en los que se deben de dividir el dataset completo.\n",
    "\n",
    "* K representativo: El valor de K es escogido tal que cada grupo de entrenamiento/validación sea estadísticamente representativo del dataset completo.\n",
    "* k = 10: A través de experimentación se ha visto que este valor de K tiende a dar buenas estimación del rendimiento del modelo.\n",
    "* K = n: El valor de K se ajusta al tamaño total de la muestra a manera de que cada dato individual sea utilizado como un grupo de validación.\n",
    "\n",
    "Se considera que la técnica de K folds tiende a dar buenas estimaciones, y en muchas ocasiones mejores, que realizar un split tradicional de train/test. Sin embargo, esta técnica tiende a ser computacionalmente costosa por lo que a veces, en datasets muy grandes, o en modelos muy complejos de entrenar, se vuelve una estrategia poco viable. \n",
    "\n",
    "Otro uso que tiene el K folds es en datasets pequeños en los que sería poco conveniente realizar un entrenamiento con un número de datos pequeño, pero que a la vez represnte un porcentaje elevado del dataset completo.\n",
    "\n",
    "**Algunos de los usos que se le podría haber dado a K folds cross validation en este proyecto son:**\n",
    "\n",
    "* Como una mejor estimación del rendimiento de los modelos en datos desconocidos.\n",
    "* Como una manera de verificar el paso de validación de hiperparámetros a manera de tener estimaciones más certeras de realmente cuáles son los mejores valores para estos, o cuál de las iteraciones del grid search es el que mejor resultados proporciona.\n"
   ]
  },
  {
   "cell_type": "markdown",
   "metadata": {},
   "source": [
    "## Pruebas con test set"
   ]
  },
  {
   "cell_type": "code",
   "execution_count": 1159,
   "metadata": {},
   "outputs": [],
   "source": [
    "predictions_DT = best_DecisionTree.predict(X_test)"
   ]
  },
  {
   "cell_type": "code",
   "execution_count": 1158,
   "metadata": {},
   "outputs": [],
   "source": [
    "predictions_SVM = best_SVMClassifier.predict(X_test)"
   ]
  },
  {
   "cell_type": "code",
   "execution_count": 1125,
   "metadata": {},
   "outputs": [],
   "source": [
    "\n",
    "def predict_NaiveBayes(summary_0, summary_1):\n",
    "    output_array_0 = []\n",
    "    output_array_1 = []\n",
    "\n",
    "    for i in range(0, summary_0.shape[0]):\n",
    "\n",
    "        predictions_0 = norm(summary_0[i][0], summary_0[i][1]).cdf(X_test.iloc[:, [i]])\n",
    "        predictions_1 = norm(summary_1[i][0], summary_1[i][1]).cdf(X_test.iloc[:, [i]])\n",
    "        output_array_0.append(predictions_0)\n",
    "        output_array_1.append(predictions_1)\n",
    "    \n",
    "    x_0_probabilities = np.array(output_array_0).T.squeeze()\n",
    "    x_1_probabilities = np.array(output_array_1).T.squeeze()\n",
    "    \n",
    "    x_0 = np.concatenate((x_0_probabilities, np.full_like(x_0_probabilities[:,0],prob_class_0).reshape(-1,1)), axis = 1)\n",
    "    x_1 = np.concatenate((x_1_probabilities, np.full_like(x_1_probabilities[:,0],prob_class_1).reshape(-1,1)), axis = 1)\n",
    "    \n",
    "    y_0 = np.prod(x_0, axis = 1).reshape(-1,1)\n",
    "    y_1 = np.prod(x_1, axis = 1).reshape(-1,1)\n",
    "    \n",
    "    y_0_1 = np.concatenate((y_0, y_1), axis = 1)\n",
    "    \n",
    "    predictions = np.argmax(y_0_1, axis = 1)\n",
    "    \n",
    "    accuracy = np.mean(predictions == y_test)\n",
    "    \n",
    "    return predictions, accuracy"
   ]
  },
  {
   "cell_type": "code",
   "execution_count": 1162,
   "metadata": {
    "scrolled": true
   },
   "outputs": [],
   "source": [
    "predictions_NB, _ = predict_NaiveBayes(best_naivebayes['likelihoods_0'],best_naivebayes['likelihoods_1'])"
   ]
  },
  {
   "cell_type": "code",
   "execution_count": 1132,
   "metadata": {},
   "outputs": [],
   "source": [
    "X_test_reshaped = np.insert(np.array(X_test),0, np.ones(len(X_test)), axis = 1)"
   ]
  },
  {
   "cell_type": "code",
   "execution_count": 1154,
   "metadata": {},
   "outputs": [],
   "source": [
    "def predict_LogisticRegression(X_test, weights):\n",
    "    \n",
    "    tf.reset_default_graph()\n",
    "    \n",
    "    tensor_w = tf.placeholder(tf.float32, shape = [None, None], name = \"tensor_w\")\n",
    "    tensor_x = tf.placeholder(tf.float32, shape = [None, None], name = \"tensor_x\")\n",
    "    \n",
    "    logits = tf.matmul(tensor_x, tf.transpose(tensor_w))\n",
    "    sigmoid = tf.nn.sigmoid(logits)\n",
    "    prediction = tf.round(sigmoid)\n",
    "    \n",
    "    with tf.train.MonitoredSession() as session:\n",
    "        feed_dictionary = {tensor_x: X_test, tensor_w:weights}\n",
    "        \n",
    "        predictions = session.run(prediction, feed_dict= feed_dictionary)\n",
    "        \n",
    "        return predictions.T"
   ]
  },
  {
   "cell_type": "code",
   "execution_count": 1156,
   "metadata": {
    "scrolled": true
   },
   "outputs": [
    {
     "name": "stdout",
     "output_type": "stream",
     "text": [
      "INFO:tensorflow:Graph was finalized.\n",
      "INFO:tensorflow:Running local_init_op.\n",
      "INFO:tensorflow:Done running local_init_op.\n"
     ]
    }
   ],
   "source": [
    "predictions_lr = predict_LogisticRegression(X_test_reshaped, best_LogisticRegressionClass)"
   ]
  },
  {
   "cell_type": "code",
   "execution_count": 1164,
   "metadata": {},
   "outputs": [
    {
     "name": "stdout",
     "output_type": "stream",
     "text": [
      "(178,)\n",
      "(178,)\n",
      "(178,)\n",
      "(1, 178)\n"
     ]
    }
   ],
   "source": [
    "print(predictions_DT.shape)\n",
    "print(predictions_SVM.shape)\n",
    "print(predictions_NB.shape)\n",
    "print(predictions_lr.shape)\n"
   ]
  },
  {
   "cell_type": "code",
   "execution_count": 1167,
   "metadata": {},
   "outputs": [],
   "source": [
    "predictions_lr = predictions_lr.squeeze()"
   ]
  },
  {
   "cell_type": "code",
   "execution_count": 1168,
   "metadata": {},
   "outputs": [
    {
     "name": "stdout",
     "output_type": "stream",
     "text": [
      "(178,)\n",
      "(178,)\n",
      "(178,)\n",
      "(178,)\n"
     ]
    }
   ],
   "source": [
    "print(predictions_DT.shape)\n",
    "print(predictions_SVM.shape)\n",
    "print(predictions_NB.shape)\n",
    "print(predictions_lr.shape)"
   ]
  },
  {
   "cell_type": "code",
   "execution_count": 1173,
   "metadata": {},
   "outputs": [],
   "source": [
    "all_predictions = np.stack((predictions_DT, predictions_SVM, predictions_NB, predictions_lr)).T"
   ]
  },
  {
   "cell_type": "code",
   "execution_count": 1180,
   "metadata": {},
   "outputs": [],
   "source": [
    "final_predictions =  scipy.stats.mode(all_predictions.T)[0].squeeze()"
   ]
  },
  {
   "cell_type": "code",
   "execution_count": 1189,
   "metadata": {
    "scrolled": true
   },
   "outputs": [
    {
     "name": "stderr",
     "output_type": "stream",
     "text": [
      "C:\\Users\\USUARIO\\anaconda3\\lib\\site-packages\\ipykernel_launcher.py:1: SettingWithCopyWarning: \n",
      "A value is trying to be set on a copy of a slice from a DataFrame.\n",
      "Try using .loc[row_indexer,col_indexer] = value instead\n",
      "\n",
      "See the caveats in the documentation: https://pandas.pydata.org/pandas-docs/stable/user_guide/indexing.html#returning-a-view-versus-a-copy\n",
      "  \"\"\"Entry point for launching an IPython kernel.\n"
     ]
    }
   ],
   "source": [
    "X_test['passenger_survived'] = y_test"
   ]
  },
  {
   "cell_type": "code",
   "execution_count": 1190,
   "metadata": {},
   "outputs": [
    {
     "name": "stderr",
     "output_type": "stream",
     "text": [
      "C:\\Users\\USUARIO\\anaconda3\\lib\\site-packages\\ipykernel_launcher.py:1: SettingWithCopyWarning: \n",
      "A value is trying to be set on a copy of a slice from a DataFrame.\n",
      "Try using .loc[row_indexer,col_indexer] = value instead\n",
      "\n",
      "See the caveats in the documentation: https://pandas.pydata.org/pandas-docs/stable/user_guide/indexing.html#returning-a-view-versus-a-copy\n",
      "  \"\"\"Entry point for launching an IPython kernel.\n"
     ]
    }
   ],
   "source": [
    "X_test['survived_predictions'] = final_predictions"
   ]
  },
  {
   "cell_type": "code",
   "execution_count": 1193,
   "metadata": {},
   "outputs": [],
   "source": [
    "final_df = X_test"
   ]
  },
  {
   "cell_type": "code",
   "execution_count": 1195,
   "metadata": {},
   "outputs": [
    {
     "data": {
      "text/html": [
       "<div>\n",
       "<style scoped>\n",
       "    .dataframe tbody tr th:only-of-type {\n",
       "        vertical-align: middle;\n",
       "    }\n",
       "\n",
       "    .dataframe tbody tr th {\n",
       "        vertical-align: top;\n",
       "    }\n",
       "\n",
       "    .dataframe thead th {\n",
       "        text-align: right;\n",
       "    }\n",
       "</style>\n",
       "<table border=\"1\" class=\"dataframe\">\n",
       "  <thead>\n",
       "    <tr style=\"text-align: right;\">\n",
       "      <th></th>\n",
       "      <th>Age</th>\n",
       "      <th>SibSp</th>\n",
       "      <th>Parch</th>\n",
       "      <th>Fare</th>\n",
       "      <th>passenger_sex</th>\n",
       "      <th>Lower_class</th>\n",
       "      <th>Middle_class</th>\n",
       "      <th>Upper_class</th>\n",
       "      <th>Embarked_C</th>\n",
       "      <th>Embarked_Q</th>\n",
       "      <th>Embarked_S</th>\n",
       "      <th>FamilySize</th>\n",
       "      <th>passenger_survived</th>\n",
       "      <th>survived_predictions</th>\n",
       "    </tr>\n",
       "  </thead>\n",
       "  <tbody>\n",
       "    <tr>\n",
       "      <th>630</th>\n",
       "      <td>0.936329</td>\n",
       "      <td>0.0</td>\n",
       "      <td>0.000000</td>\n",
       "      <td>0.351123</td>\n",
       "      <td>1</td>\n",
       "      <td>0.0</td>\n",
       "      <td>0.0</td>\n",
       "      <td>1.0</td>\n",
       "      <td>0.0</td>\n",
       "      <td>0.0</td>\n",
       "      <td>1.0</td>\n",
       "      <td>0.000000</td>\n",
       "      <td>1</td>\n",
       "      <td>0.0</td>\n",
       "    </tr>\n",
       "    <tr>\n",
       "      <th>640</th>\n",
       "      <td>0.930798</td>\n",
       "      <td>0.0</td>\n",
       "      <td>0.000000</td>\n",
       "      <td>0.365534</td>\n",
       "      <td>1</td>\n",
       "      <td>1.0</td>\n",
       "      <td>0.0</td>\n",
       "      <td>0.0</td>\n",
       "      <td>0.0</td>\n",
       "      <td>0.0</td>\n",
       "      <td>1.0</td>\n",
       "      <td>0.000000</td>\n",
       "      <td>0</td>\n",
       "      <td>0.0</td>\n",
       "    </tr>\n",
       "    <tr>\n",
       "      <th>848</th>\n",
       "      <td>0.646632</td>\n",
       "      <td>0.0</td>\n",
       "      <td>0.023094</td>\n",
       "      <td>0.762102</td>\n",
       "      <td>1</td>\n",
       "      <td>0.0</td>\n",
       "      <td>1.0</td>\n",
       "      <td>0.0</td>\n",
       "      <td>0.0</td>\n",
       "      <td>0.0</td>\n",
       "      <td>1.0</td>\n",
       "      <td>0.023094</td>\n",
       "      <td>0</td>\n",
       "      <td>0.0</td>\n",
       "    </tr>\n",
       "    <tr>\n",
       "      <th>648</th>\n",
       "      <td>0.968959</td>\n",
       "      <td>0.0</td>\n",
       "      <td>0.000000</td>\n",
       "      <td>0.247221</td>\n",
       "      <td>1</td>\n",
       "      <td>1.0</td>\n",
       "      <td>0.0</td>\n",
       "      <td>0.0</td>\n",
       "      <td>0.0</td>\n",
       "      <td>0.0</td>\n",
       "      <td>1.0</td>\n",
       "      <td>0.000000</td>\n",
       "      <td>0</td>\n",
       "      <td>0.0</td>\n",
       "    </tr>\n",
       "    <tr>\n",
       "      <th>381</th>\n",
       "      <td>0.062402</td>\n",
       "      <td>0.0</td>\n",
       "      <td>0.124805</td>\n",
       "      <td>0.982320</td>\n",
       "      <td>0</td>\n",
       "      <td>1.0</td>\n",
       "      <td>0.0</td>\n",
       "      <td>0.0</td>\n",
       "      <td>1.0</td>\n",
       "      <td>0.0</td>\n",
       "      <td>0.0</td>\n",
       "      <td>0.124805</td>\n",
       "      <td>1</td>\n",
       "      <td>1.0</td>\n",
       "    </tr>\n",
       "    <tr>\n",
       "      <th>...</th>\n",
       "      <td>...</td>\n",
       "      <td>...</td>\n",
       "      <td>...</td>\n",
       "      <td>...</td>\n",
       "      <td>...</td>\n",
       "      <td>...</td>\n",
       "      <td>...</td>\n",
       "      <td>...</td>\n",
       "      <td>...</td>\n",
       "      <td>...</td>\n",
       "      <td>...</td>\n",
       "      <td>...</td>\n",
       "      <td>...</td>\n",
       "      <td>...</td>\n",
       "    </tr>\n",
       "    <tr>\n",
       "      <th>521</th>\n",
       "      <td>0.941217</td>\n",
       "      <td>0.0</td>\n",
       "      <td>0.000000</td>\n",
       "      <td>0.337803</td>\n",
       "      <td>1</td>\n",
       "      <td>1.0</td>\n",
       "      <td>0.0</td>\n",
       "      <td>0.0</td>\n",
       "      <td>0.0</td>\n",
       "      <td>0.0</td>\n",
       "      <td>1.0</td>\n",
       "      <td>0.000000</td>\n",
       "      <td>0</td>\n",
       "      <td>0.0</td>\n",
       "    </tr>\n",
       "    <tr>\n",
       "      <th>105</th>\n",
       "      <td>0.962464</td>\n",
       "      <td>0.0</td>\n",
       "      <td>0.000000</td>\n",
       "      <td>0.271408</td>\n",
       "      <td>1</td>\n",
       "      <td>1.0</td>\n",
       "      <td>0.0</td>\n",
       "      <td>0.0</td>\n",
       "      <td>0.0</td>\n",
       "      <td>0.0</td>\n",
       "      <td>1.0</td>\n",
       "      <td>0.000000</td>\n",
       "      <td>0</td>\n",
       "      <td>0.0</td>\n",
       "    </tr>\n",
       "    <tr>\n",
       "      <th>282</th>\n",
       "      <td>0.859855</td>\n",
       "      <td>0.0</td>\n",
       "      <td>0.000000</td>\n",
       "      <td>0.510539</td>\n",
       "      <td>1</td>\n",
       "      <td>1.0</td>\n",
       "      <td>0.0</td>\n",
       "      <td>0.0</td>\n",
       "      <td>0.0</td>\n",
       "      <td>0.0</td>\n",
       "      <td>1.0</td>\n",
       "      <td>0.000000</td>\n",
       "      <td>0</td>\n",
       "      <td>0.0</td>\n",
       "    </tr>\n",
       "    <tr>\n",
       "      <th>701</th>\n",
       "      <td>0.799589</td>\n",
       "      <td>0.0</td>\n",
       "      <td>0.000000</td>\n",
       "      <td>0.600548</td>\n",
       "      <td>1</td>\n",
       "      <td>0.0</td>\n",
       "      <td>0.0</td>\n",
       "      <td>1.0</td>\n",
       "      <td>0.0</td>\n",
       "      <td>0.0</td>\n",
       "      <td>1.0</td>\n",
       "      <td>0.000000</td>\n",
       "      <td>1</td>\n",
       "      <td>0.0</td>\n",
       "    </tr>\n",
       "    <tr>\n",
       "      <th>887</th>\n",
       "      <td>0.535052</td>\n",
       "      <td>0.0</td>\n",
       "      <td>0.000000</td>\n",
       "      <td>0.844819</td>\n",
       "      <td>0</td>\n",
       "      <td>0.0</td>\n",
       "      <td>0.0</td>\n",
       "      <td>1.0</td>\n",
       "      <td>0.0</td>\n",
       "      <td>0.0</td>\n",
       "      <td>1.0</td>\n",
       "      <td>0.000000</td>\n",
       "      <td>1</td>\n",
       "      <td>1.0</td>\n",
       "    </tr>\n",
       "  </tbody>\n",
       "</table>\n",
       "<p>178 rows × 14 columns</p>\n",
       "</div>"
      ],
      "text/plain": [
       "          Age  SibSp     Parch      Fare  passenger_sex  Lower_class  \\\n",
       "630  0.936329    0.0  0.000000  0.351123              1          0.0   \n",
       "640  0.930798    0.0  0.000000  0.365534              1          1.0   \n",
       "848  0.646632    0.0  0.023094  0.762102              1          0.0   \n",
       "648  0.968959    0.0  0.000000  0.247221              1          1.0   \n",
       "381  0.062402    0.0  0.124805  0.982320              0          1.0   \n",
       "..        ...    ...       ...       ...            ...          ...   \n",
       "521  0.941217    0.0  0.000000  0.337803              1          1.0   \n",
       "105  0.962464    0.0  0.000000  0.271408              1          1.0   \n",
       "282  0.859855    0.0  0.000000  0.510539              1          1.0   \n",
       "701  0.799589    0.0  0.000000  0.600548              1          0.0   \n",
       "887  0.535052    0.0  0.000000  0.844819              0          0.0   \n",
       "\n",
       "     Middle_class  Upper_class  Embarked_C  Embarked_Q  Embarked_S  \\\n",
       "630           0.0          1.0         0.0         0.0         1.0   \n",
       "640           0.0          0.0         0.0         0.0         1.0   \n",
       "848           1.0          0.0         0.0         0.0         1.0   \n",
       "648           0.0          0.0         0.0         0.0         1.0   \n",
       "381           0.0          0.0         1.0         0.0         0.0   \n",
       "..            ...          ...         ...         ...         ...   \n",
       "521           0.0          0.0         0.0         0.0         1.0   \n",
       "105           0.0          0.0         0.0         0.0         1.0   \n",
       "282           0.0          0.0         0.0         0.0         1.0   \n",
       "701           0.0          1.0         0.0         0.0         1.0   \n",
       "887           0.0          1.0         0.0         0.0         1.0   \n",
       "\n",
       "     FamilySize  passenger_survived  survived_predictions  \n",
       "630    0.000000                   1                   0.0  \n",
       "640    0.000000                   0                   0.0  \n",
       "848    0.023094                   0                   0.0  \n",
       "648    0.000000                   0                   0.0  \n",
       "381    0.124805                   1                   1.0  \n",
       "..          ...                 ...                   ...  \n",
       "521    0.000000                   0                   0.0  \n",
       "105    0.000000                   0                   0.0  \n",
       "282    0.000000                   0                   0.0  \n",
       "701    0.000000                   1                   0.0  \n",
       "887    0.000000                   1                   1.0  \n",
       "\n",
       "[178 rows x 14 columns]"
      ]
     },
     "execution_count": 1195,
     "metadata": {},
     "output_type": "execute_result"
    }
   ],
   "source": [
    "final_df"
   ]
  },
  {
   "cell_type": "code",
   "execution_count": 1198,
   "metadata": {},
   "outputs": [
    {
     "data": {
      "text/plain": [
       "0.8089887640449438"
      ]
     },
     "execution_count": 1198,
     "metadata": {},
     "output_type": "execute_result"
    }
   ],
   "source": [
    "np.mean(final_predictions == y_test)"
   ]
  },
  {
   "cell_type": "code",
   "execution_count": 1199,
   "metadata": {},
   "outputs": [],
   "source": [
    "from sklearn import metrics"
   ]
  },
  {
   "cell_type": "code",
   "execution_count": 1204,
   "metadata": {},
   "outputs": [],
   "source": [
    "accuracy = metrics.accuracy_score(final_predictions, y_test)\n",
    "precision = metrics.precision_score(final_predictions, y_test)\n",
    "recall = metrics.recall_score(final_predictions, y_test)\n",
    "f1score = metrics.f1_score(final_predictions, y_test)\n",
    "error = 1 - accuracy"
   ]
  },
  {
   "cell_type": "code",
   "execution_count": 1212,
   "metadata": {},
   "outputs": [],
   "source": [
    "values = [accuracy, precision, recall, f1score, error]"
   ]
  },
  {
   "cell_type": "code",
   "execution_count": 1219,
   "metadata": {},
   "outputs": [],
   "source": [
    "final_ensemble_metrics = pd.DataFrame({'values':values}, index = ['accuracy', 'precision', 'recall', 'f1_score', 'error'])"
   ]
  },
  {
   "cell_type": "code",
   "execution_count": 1220,
   "metadata": {},
   "outputs": [
    {
     "data": {
      "text/html": [
       "<div>\n",
       "<style scoped>\n",
       "    .dataframe tbody tr th:only-of-type {\n",
       "        vertical-align: middle;\n",
       "    }\n",
       "\n",
       "    .dataframe tbody tr th {\n",
       "        vertical-align: top;\n",
       "    }\n",
       "\n",
       "    .dataframe thead th {\n",
       "        text-align: right;\n",
       "    }\n",
       "</style>\n",
       "<table border=\"1\" class=\"dataframe\">\n",
       "  <thead>\n",
       "    <tr style=\"text-align: right;\">\n",
       "      <th></th>\n",
       "      <th>values</th>\n",
       "    </tr>\n",
       "  </thead>\n",
       "  <tbody>\n",
       "    <tr>\n",
       "      <th>accuracy</th>\n",
       "      <td>0.808989</td>\n",
       "    </tr>\n",
       "    <tr>\n",
       "      <th>precision</th>\n",
       "      <td>0.482143</td>\n",
       "    </tr>\n",
       "    <tr>\n",
       "      <th>recall</th>\n",
       "      <td>0.843750</td>\n",
       "    </tr>\n",
       "    <tr>\n",
       "      <th>f1_score</th>\n",
       "      <td>0.613636</td>\n",
       "    </tr>\n",
       "    <tr>\n",
       "      <th>error</th>\n",
       "      <td>0.191011</td>\n",
       "    </tr>\n",
       "  </tbody>\n",
       "</table>\n",
       "</div>"
      ],
      "text/plain": [
       "             values\n",
       "accuracy   0.808989\n",
       "precision  0.482143\n",
       "recall     0.843750\n",
       "f1_score   0.613636\n",
       "error      0.191011"
      ]
     },
     "execution_count": 1220,
     "metadata": {},
     "output_type": "execute_result"
    }
   ],
   "source": [
    "final_ensemble_metrics"
   ]
  },
  {
   "cell_type": "markdown",
   "metadata": {},
   "source": [
    "## Conclusiones:\n",
    "\n",
    "* Se puede crear un modelo ensemble combinando varios modelos diferentes y obteniendo la moda de las predicciones que realizan.\n",
    "* Al realizar el modelo ensemble de una combinación de las predicciones realizadas por árboles de decisión, Naive Bayes, SVM, y Logistic Regression, se obtuvo una exactitud o accuracy de 0.8089.\n",
    "* Alguno de los modelos tomados en cuenta para la realización del ensemble no obtuvieron las métricas de evaluación deseadas, pero al momento de combinar el aprendizaje de los 4 modelos, se obtuvo, en general, predicciones más exactas.\n",
    "* El modelo construido tiene un recall de 0.8437, por lo cual, tiene una buena capacidad para detectar a las personas que podrían haber sobrevivido.\n",
    "* Definitivamente hay varias mejoras que se pueden realizar al modelo, desde realizar más feature engineering, hasta hacer pruebas más robustas a través de cross validation con K folds, y grid search para la optimización de los hiperparámetros de los modelos.\n"
   ]
  },
  {
   "cell_type": "markdown",
   "metadata": {},
   "source": [
    "## Recomendaciones:\n",
    "\n",
    "* Para los modelos de SVM, se observa que predicción realizada óptima depende mucho del kernel utilizado, como aprendido anteriormente. Esto debido a que el truco del kernel nos permite crear un clasificador de margen óptimo en un número mayor de dimensión.\n",
    "* Se observó al momento de realizar regularización L2 en el entrenamiento de la regresión logística, se tuvo que utilizar un valor muy pequeño de lambda, alrededor de 10^-12, para poder obtener un decaimiento válido del error en la función del entrenamiento. Es recomendable tratar con diferentes niveles de lambda para asegurarse que el entrenamiento si ocurra y los valores no divergen hacia al infinito.\n",
    "* Es necesario siempre hacer un análisis exploratorio de datos previo a proceder a hacer el feature engineering, a manera de conocer realmente el dataset, y por tanto, poder crear features más descriptivos de la variable dependiente.\n",
    "* Definitivamente fue un proyecto complicado. Personalmente la parte que más tiempo tomó fue la optimización de la regresión logística y el desarrollo de NaiveBayes desde 0. Sin embargo, considero que de esta manera realmente se obtiene un conocimiento profundo del funcionamiento de un algoritmo a diferencia de simplemente utilizar una librería."
   ]
  }
 ],
 "metadata": {
  "kernelspec": {
   "display_name": "Python 3",
   "language": "python",
   "name": "python3"
  },
  "language_info": {
   "codemirror_mode": {
    "name": "ipython",
    "version": 3
   },
   "file_extension": ".py",
   "mimetype": "text/x-python",
   "name": "python",
   "nbconvert_exporter": "python",
   "pygments_lexer": "ipython3",
   "version": "3.7.7"
  }
 },
 "nbformat": 4,
 "nbformat_minor": 4
}
